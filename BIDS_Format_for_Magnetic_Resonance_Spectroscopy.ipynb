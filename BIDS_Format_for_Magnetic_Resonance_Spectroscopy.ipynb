{
  "cells": [
    {
      "cell_type": "markdown",
      "metadata": {
        "id": "view-in-github",
        "colab_type": "text"
      },
      "source": [
        "<a href=\"https://colab.research.google.com/github/CarlosLeandro09/DataAnalysisRadiology/blob/main/Osprey_prep.ipynb\" target=\"_parent\"><img src=\"https://colab.research.google.com/assets/colab-badge.svg\" alt=\"Open In Colab\"/></a>"
      ]
    },
    {
      "cell_type": "markdown",
      "metadata": {
        "id": "gIXBGhCxctUA"
      },
      "source": [
        "\n",
        "Please click on the FOLDER icon next to it and upload the files to the session storage. Follow the instructions:\n"
      ]
    },
    {
      "cell_type": "code",
      "execution_count": null,
      "metadata": {
        "colab": {
          "base_uri": "https://localhost:8080/"
        },
        "id": "wNcl7SzyrrZk",
        "outputId": "f84466e8-319f-48de-b603-3f2680d8aeed"
      },
      "outputs": [
        {
          "output_type": "stream",
          "name": "stdout",
          "text": [
            "Looking in indexes: https://pypi.org/simple, https://us-python.pkg.dev/colab-wheels/public/simple/\n",
            "Requirement already satisfied: python-magic in /usr/local/lib/python3.10/dist-packages (0.4.27)\n"
          ]
        }
      ],
      "source": [
        "pip install python-magic"
      ]
    },
    {
      "cell_type": "code",
      "execution_count": null,
      "metadata": {
        "colab": {
          "base_uri": "https://localhost:8080/"
        },
        "id": "LZpSAPugz_6N",
        "outputId": "68a26420-68d2-4187-fd49-e7f0c9df0a3e"
      },
      "outputs": [
        {
          "output_type": "stream",
          "name": "stdout",
          "text": [
            "Looking in indexes: https://pypi.org/simple, https://us-python.pkg.dev/colab-wheels/public/simple/\n",
            "Collecting dcm2niix\n",
            "  Using cached dcm2niix-1.0.20220715.tar.gz (451 kB)\n",
            "  Installing build dependencies ... \u001b[?25l\u001b[?25hdone\n",
            "  Getting requirements to build wheel ... \u001b[?25l\u001b[?25hdone\n",
            "  Preparing metadata (pyproject.toml) ... \u001b[?25l\u001b[?25hdone\n",
            "Collecting miutil[web] (from dcm2niix)\n",
            "  Downloading miutil-0.11.0-py3-none-any.whl (18 kB)\n",
            "Requirement already satisfied: tqdm>=4.40.0 in /usr/local/lib/python3.10/dist-packages (from miutil[web]->dcm2niix) (4.65.0)\n",
            "Requirement already satisfied: requests in /usr/local/lib/python3.10/dist-packages (from miutil[web]->dcm2niix) (2.27.1)\n",
            "Requirement already satisfied: urllib3<1.27,>=1.21.1 in /usr/local/lib/python3.10/dist-packages (from requests->miutil[web]->dcm2niix) (1.26.15)\n",
            "Requirement already satisfied: certifi>=2017.4.17 in /usr/local/lib/python3.10/dist-packages (from requests->miutil[web]->dcm2niix) (2022.12.7)\n",
            "Requirement already satisfied: charset-normalizer~=2.0.0 in /usr/local/lib/python3.10/dist-packages (from requests->miutil[web]->dcm2niix) (2.0.12)\n",
            "Requirement already satisfied: idna<4,>=2.5 in /usr/local/lib/python3.10/dist-packages (from requests->miutil[web]->dcm2niix) (3.4)\n",
            "Building wheels for collected packages: dcm2niix\n",
            "  Building wheel for dcm2niix (pyproject.toml) ... \u001b[?25l\u001b[?25hdone\n",
            "  Created wheel for dcm2niix: filename=dcm2niix-1.0.20220715-cp310-cp310-linux_x86_64.whl size=576078 sha256=887ece96adc9fc5bc48f86e6eb6fb6ce8f6a28fa535850ed5267e4f0da52f4f8\n",
            "  Stored in directory: /root/.cache/pip/wheels/88/8d/9b/5ea20c0451a1acddef585757be7dfec121ee076e58503b267c\n",
            "Successfully built dcm2niix\n",
            "Installing collected packages: miutil, dcm2niix\n",
            "Successfully installed dcm2niix-1.0.20220715 miutil-0.11.0\n"
          ]
        }
      ],
      "source": [
        "!python -m pip install dcm2niix"
      ]
    },
    {
      "cell_type": "code",
      "execution_count": null,
      "metadata": {
        "colab": {
          "base_uri": "https://localhost:8080/"
        },
        "id": "GYik66miYNL8",
        "outputId": "f8d8e2fb-406b-45ab-d3d5-32137bee0b4a"
      },
      "outputs": [
        {
          "output_type": "stream",
          "name": "stdout",
          "text": [
            "Hello, welcome to the file organization algorithm for processing in Osprey!\n",
            "Please enter the number of subjects: 1\n",
            "Please enter the number of sessions: 1\n",
            "Please enter the name of the pulse sequence used in the acquisition: PRESS\n",
            "Are your files in .zip format? [y or n] y\n",
            "...\n",
            "Please provide the directory that contains the T1-weighted images for subject number 1 and for section number 1: /content/DelRec-3DT1/DICOM\n",
            "Chris Rorden's dcm2niiX version v1.0.20220505  GCC9.4.0 x86-64 (64-bit Linux)\n",
            "Found 183 DICOM file(s)\n",
            "Skipping non-image DICOM: /content/DelRec-3DT1/DICOM/XX_0183\n",
            "Skipping non-image DICOM: /content/DelRec-3DT1/DICOM/XX_0001\n",
            "Philips Scaling Values RS:RI:SS = 1.93016:0:0.000214879 (see PMC3998685)\n",
            "Convert 180 DICOM as /content/DelRec-3DT1/DICOM/RAC_WIP_DelRec_-_3DT1_iso1mm_203 (240x240x180x1)\n",
            "Conversion required 2.470194 seconds (2.456251 for core code).\n",
            "\n",
            "None\n",
            "...\n",
            "Take your time, we're completing the process...\n",
            "Please provide the path to the file containing spectroscopic data, excluding reference data, for the subject identified by the corresponding number 1: /content/PRESS_ACC/DBIEX_5_1_raw_act.SDAT\n",
            "Please provide the path to the reference file containing spectroscopic data for the subject identified by the corresponding number 1: /content/PRESS_ACC/DBIEX_5_1_raw_ref.SDAT\n",
            "Done! Please download the .zip file.\n"
          ]
        }
      ],
      "source": [
        "import zipfile\n",
        "import os\n",
        "import numpy as np\n",
        "import magic\n",
        "import shutil\n",
        "import subprocess\n",
        "import shutil, errno\n",
        "\n",
        "print(\"Hello, welcome to the file organization algorithm for processing in Osprey!\")\n",
        "workdir = '/content/'\n",
        "sub = int(input('Please enter the number of subjects: '))\n",
        "t1w = np.zeros(sub, dtype = object)\n",
        "spec = np.zeros(sub, dtype = object)\n",
        "subs = [\"%.2d\" % i for i in range(1,sub+1)]\n",
        "for i in subs:\n",
        "  path = os.path.join(workdir, 'sub-' + i)\n",
        "  os.mkdir(path)\n",
        "\n",
        "se = int(input('Please enter the number of sessions: '))\n",
        "tp = input('Please enter the name of the pulse sequence used in the acquisition: ')\n",
        "ses = [\"%.2d\" % i for i in range(1,se+1)]\n",
        "for a in subs:\n",
        "  for b in ses:\n",
        "    path = os.path.join(workdir + 'sub-' + a, 'ses-' + b)\n",
        "    os.mkdir(path)\n",
        "    os.mkdir(path + '/mrs')\n",
        "    os.mkdir(path + '/anat')\n",
        "    os.mkdir(path + '/anat/' + 'sub-' + a)\n",
        "    os.mkdir(path + '/mrs/' + '/'+ 'sub-' + a+ '-ses-' + b +'_' + tp + '-ref')\n",
        "    os.mkdir(path + '/mrs/' + '/'+ 'sub-' + a+ '-ses-' + b +'_' + tp)\n",
        "zip_ = input(\"Are your files in .zip format? [y or n] \")\n",
        "print(\"...\")\n",
        "\n",
        "names = []\n",
        "\n",
        "if zip_ == 'y':\n",
        "  for j in os.listdir(workdir):\n",
        "    if j.endswith(\".zip\"):\n",
        "      with zipfile.ZipFile(workdir + j, 'r') as zip_ref:\n",
        "        zip_ref.extractall(workdir)\n",
        "        u = j.replace(\" \", \"\")\n",
        "        os.rename((workdir + j)[:-4], (workdir + u)[:-4])\n",
        "        names.append(u)\n",
        "else:\n",
        "  pass\n",
        "\n",
        "for k in range(1,sub+1):\n",
        "  for l in range(1,se+1):\n",
        "    t1w[k-1] = input('Please provide the directory that contains the T1-weighted images for subject number ' + str(k) + ' and for section number ' + str(l) + ': ')\n",
        "    command = os.popen('dcm2niix -f %n_%p_%s -z i -m y -s y -ba y -b y -p n '+ str(t1w[k-1]))\n",
        "    print(command.read())\n",
        "    print(command.close())\n",
        "    for c in os.listdir(t1w[k-1]):\n",
        "      final_path = t1w[k-1] + '/' + c\n",
        "      if c.endswith(\".nii.gz\"):\n",
        "        shutil.copy(final_path, workdir + 'sub-' + subs[k-1] + '/ses-' + ses[l-1] + '/anat/sub-'+ subs[k-1])\n",
        "        for t1w in os.listdir(workdir + 'sub-' + subs[k-1] + '/ses-' + ses[l-1] + '/anat/sub-'+ subs[k-1]):\n",
        "          if t1w.endswith(\".nii.gz\"):\n",
        "            os.rename(workdir + 'sub-' + subs[k-1] + '/ses-' + ses[l-1] + '/anat/sub-'+ subs[k-1] + '/' + t1w, workdir + 'sub-' + subs[k-1] + '/ses-' + ses[l-1] + '/anat/sub-'+ subs[k-1] + '/' +  'sub-' + subs[k-1] + '_ses-' + ses[l-1] + '_T1w.nii.gz')\n",
        "print(\"...\")\n",
        "print(\"Take your time, we're completing the process...\")\n",
        "for m in range(1,sub+1):\n",
        "  for n in range(1,se+1):\n",
        "    spec[m-1] = input('Please provide the path to the file containing spectroscopic data, excluding reference data, for the subject identified by the corresponding number ' + str(m) + ': ')\n",
        "    shutil.copy(spec[m-1], workdir + 'sub-' + subs[m-1] + '/ses-' + ses[n-1] + '/mrs/'+ 'sub-' + subs[m-1] + '-ses-' + ses[n-1] + '_' +tp)\n",
        "    shutil.copy(spec[m-1][:-5]+'.SPAR', workdir + 'sub-' + subs[m-1] + '/ses-' + ses[n-1] + '/mrs/'+ 'sub-' + subs[m-1] + '-ses-' + ses[n-1] + '_' +tp)\n",
        "    for mrs in os.listdir(workdir + 'sub-' + subs[m-1] + '/ses-' + ses[n-1] + '/mrs/'+ 'sub-' + subs[m-1] + '-ses-' + ses[n-1] + '_' +tp):\n",
        "      if mrs.endswith(\".SDAT\"):\n",
        "        os.rename(workdir + 'sub-' + subs[m-1] + '/ses-' + ses[n-1] + '/mrs/'+ 'sub-' + subs[m-1] + '-ses-' + ses[n-1] + '_' +tp + '/' + str(mrs), workdir + 'sub-' + subs[m-1] + '/ses-' + ses[n-1] + '/mrs/'+ 'sub-' + subs[m-1] + '-ses-' + ses[n-1] + '_' +tp + '/' +  'sub-' + subs[k-1] + '_'+ tp + '_act.SDAT')\n",
        "        os.rename(workdir + 'sub-' + subs[m-1] + '/ses-' + ses[n-1] + '/mrs/'+ 'sub-' + subs[m-1] + '-ses-' + ses[n-1] + '_' +tp + '/' + str(mrs[:-5] + '.SPAR'), workdir + 'sub-' + subs[m-1] + '/ses-' + ses[n-1] + '/mrs/'+ 'sub-' + subs[m-1] + '-ses-' + ses[n-1] + '_' +tp + '/' +  'sub-' + subs[k-1] + '_'+ tp + '_act.SPAR')\n",
        "for m in range(1,sub+1):\n",
        "  for n in range(1,se+1):\n",
        "    spec[m-1] = input('Please provide the path to the reference file containing spectroscopic data for the subject identified by the corresponding number ' + str(m) + ': ')\n",
        "    shutil.copy(spec[m-1], workdir + 'sub-' + subs[m-1] + '/ses-' + ses[n-1] + '/mrs/'+ 'sub-' + subs[m-1] + '-ses-' + ses[n-1] + '_' +tp + '-ref')\n",
        "    shutil.copy(spec[m-1][:-5]+'.SPAR', workdir + 'sub-' + subs[m-1] + '/ses-' + ses[n-1] + '/mrs/'+ 'sub-' + subs[m-1] + '-ses-' + ses[n-1] + '_' +tp + '-ref')\n",
        "    for mrs in os.listdir(workdir + 'sub-' + subs[m-1] + '/ses-' + ses[n-1] + '/mrs/'+ 'sub-' + subs[m-1] + '-ses-' + ses[n-1] + '_' +tp+ '-ref'):\n",
        "      if mrs.endswith(\".SDAT\"):\n",
        "        os.rename(workdir + 'sub-' + subs[m-1] + '/ses-' + ses[n-1] + '/mrs/'+ 'sub-' + subs[m-1] + '-ses-' + ses[n-1] + '_' +tp + '-ref/' + str(mrs), workdir + 'sub-' + subs[m-1] + '/ses-' + ses[n-1] + '/mrs/'+ 'sub-' + subs[m-1] + '-ses-' + ses[n-1] + '_' +tp +  '-ref/' +  'sub-' + subs[k-1] + '_'+ tp + '_ref.SDAT')\n",
        "        os.rename(workdir + 'sub-' + subs[m-1] + '/ses-' + ses[n-1] + '/mrs/'+ 'sub-' + subs[m-1] + '-ses-' + ses[n-1] + '_' +tp + '-ref/' + str(mrs[:-5] + '.SPAR'), workdir + 'sub-' + subs[m-1] + '/ses-' + ses[n-1] + '/mrs/'+ 'sub-' + subs[m-1] + '-ses-' + ses[n-1] + '_' +tp + '-ref/' +  'sub-' + subs[k-1] + '_'+ tp + '_ref.SPAR')\n",
        "def copyanything(src, dst):\n",
        "    try:\n",
        "        shutil.copytree(src, dst)\n",
        "    except OSError as exc:\n",
        "        if exc.errno in (errno.ENOTDIR, errno.EINVAL):\n",
        "            shutil.copy(src, dst)\n",
        "        else: raise\n",
        "\n",
        "os.mkdir(workdir + 'Final')\n",
        "for b in range(1,sub+1):\n",
        "  copyanything(workdir + 'sub-' + subs[b-1], workdir + 'Final/'+ 'sub-' + subs[b-1])\n",
        "  archived = shutil.make_archive('Data', 'zip', '/content/Final')\n",
        "\n",
        "print('Done! Please download the .zip file.')"
      ]
    },
    {
      "cell_type": "code",
      "source": [],
      "metadata": {
        "id": "yFVdgUfxJkhI"
      },
      "execution_count": null,
      "outputs": []
    }
  ],
  "metadata": {
    "colab": {
      "provenance": [],
      "authorship_tag": "ABX9TyP0FE4+65dIbGiXliNwZDd+",
      "include_colab_link": true
    },
    "kernelspec": {
      "display_name": "Python 3",
      "name": "python3"
    },
    "language_info": {
      "name": "python"
    }
  },
  "nbformat": 4,
  "nbformat_minor": 0
}
