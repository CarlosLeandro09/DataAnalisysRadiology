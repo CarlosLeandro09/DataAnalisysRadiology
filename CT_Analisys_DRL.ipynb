{
  "nbformat": 4,
  "nbformat_minor": 0,
  "metadata": {
    "colab": {
      "name": "CT_Analisys1.ipynb",
      "provenance": [],
      "collapsed_sections": [],
      "authorship_tag": "ABX9TyO9EcjjKH3pTHh584H6rX9D",
      "include_colab_link": true
    },
    "kernelspec": {
      "name": "python3",
      "display_name": "Python 3"
    }
  },
  "cells": [
    {
      "cell_type": "markdown",
      "metadata": {
        "id": "view-in-github",
        "colab_type": "text"
      },
      "source": [
        "<a href=\"https://colab.research.google.com/github/CarlosLeandro09/DataAnalysisRadiology/blob/main/CT_Analisys_DRL.ipynb\" target=\"_parent\"><img src=\"https://colab.research.google.com/assets/colab-badge.svg\" alt=\"Open In Colab\"/></a>"
      ]
    },
    {
      "cell_type": "markdown",
      "metadata": {
        "id": "DL2Qfph_gNq1"
      },
      "source": [
        "**1. IMPORTAREMOS AS BILIOTECAS**"
      ]
    },
    {
      "cell_type": "code",
      "metadata": {
        "id": "8ZLRxwy1gG-V"
      },
      "source": [
        "import pandas as pd\n",
        "import numpy as np\n",
        "import matplotlib.pyplot as plt\n",
        "import seaborn as sns\n",
        "sns.set()\n",
        "from sklearn.cluster import KMeans\n",
        "from sklearn import preprocessing"
      ],
      "execution_count": 53,
      "outputs": []
    },
    {
      "cell_type": "markdown",
      "metadata": {
        "id": "apZ_ZGT5gZFr"
      },
      "source": [
        "**2. IMPORTAREMOS TAMBÉM O NOSSO DATASET**\n",
        "Contém 2060 linhas!"
      ]
    },
    {
      "cell_type": "code",
      "metadata": {
        "id": "KD05GZVFgsdI",
        "outputId": "37ff2449-4cf4-4188-aad5-5e314f7a2778",
        "colab": {
          "base_uri": "https://localhost:8080/",
          "height": 360
        }
      },
      "source": [
        "df = pd.read_csv('database.csv',sep=';',encoding='iso-8859-1')\n",
        "df.tail()"
      ],
      "execution_count": null,
      "outputs": [
        {
          "output_type": "execute_result",
          "data": {
            "text/html": [
              "<div>\n",
              "<style scoped>\n",
              "    .dataframe tbody tr th:only-of-type {\n",
              "        vertical-align: middle;\n",
              "    }\n",
              "\n",
              "    .dataframe tbody tr th {\n",
              "        vertical-align: top;\n",
              "    }\n",
              "\n",
              "    .dataframe thead th {\n",
              "        text-align: right;\n",
              "    }\n",
              "</style>\n",
              "<table border=\"1\" class=\"dataframe\">\n",
              "  <thead>\n",
              "    <tr style=\"text-align: right;\">\n",
              "      <th></th>\n",
              "      <th>Modality [CS:0008,0060]</th>\n",
              "      <th>Manufacturers Model Name [LO:0008,1090]</th>\n",
              "      <th>Patients Name [PN:0010,0010]</th>\n",
              "      <th>Patient ID [LO:0010,0020]</th>\n",
              "      <th>Patients Sex [CS:0010,0040]</th>\n",
              "      <th>Patients Age [AS:0010,1010]</th>\n",
              "      <th>Patients Size [DS:0010,1020]</th>\n",
              "      <th>Patients Weight [DS:0010,1030]</th>\n",
              "      <th>Contrast/Bolus Agent [LO:0018,0010]</th>\n",
              "      <th>Body Part Examined [CS:0018,0015]</th>\n",
              "      <th>Scan Options [CS:0018,0022]</th>\n",
              "      <th>Slice Thickness [DS:0018,0050]</th>\n",
              "      <th>KVP [DS:0018,0060]</th>\n",
              "      <th>X-Ray Tube Current [IS:0018,1151]</th>\n",
              "      <th>Total Collimation Width [FD:0018,9307]</th>\n",
              "      <th>Table Feed per Rotation [FD:0018,9310]</th>\n",
              "      <th>CTDIvol [FD:0018,9345]</th>\n",
              "      <th>Slice Location [DS:0020,1041]</th>\n",
              "      <th>filesize (kb) [filesize (kb)]</th>\n",
              "      <th>hasPixeldata [hasPixeldata]</th>\n",
              "      <th>path [path]</th>\n",
              "      <th>filename [filename]</th>\n",
              "      <th>Unnamed: 22</th>\n",
              "    </tr>\n",
              "  </thead>\n",
              "  <tbody>\n",
              "    <tr>\n",
              "      <th>2056</th>\n",
              "      <td>CT</td>\n",
              "      <td>Brilliance 10</td>\n",
              "      <td>ANONYMOUS</td>\n",
              "      <td>1602651556267</td>\n",
              "      <td>F</td>\n",
              "      <td>062Y</td>\n",
              "      <td>NaN</td>\n",
              "      <td>NaN</td>\n",
              "      <td>NaN</td>\n",
              "      <td>NaN</td>\n",
              "      <td>HELIX</td>\n",
              "      <td>2.0</td>\n",
              "      <td>120</td>\n",
              "      <td>167</td>\n",
              "      <td>NaN</td>\n",
              "      <td>NaN</td>\n",
              "      <td>7.4</td>\n",
              "      <td>137.5</td>\n",
              "      <td>522</td>\n",
              "      <td>True</td>\n",
              "      <td>C:\\Users\\clean\\OneDrive\\Área de Trabalho\\Image...</td>\n",
              "      <td>img96_anon.dcm</td>\n",
              "      <td>NaN</td>\n",
              "    </tr>\n",
              "    <tr>\n",
              "      <th>2057</th>\n",
              "      <td>CT</td>\n",
              "      <td>Brilliance 10</td>\n",
              "      <td>ANONYMOUS</td>\n",
              "      <td>1602651556267</td>\n",
              "      <td>F</td>\n",
              "      <td>062Y</td>\n",
              "      <td>NaN</td>\n",
              "      <td>NaN</td>\n",
              "      <td>NaN</td>\n",
              "      <td>NaN</td>\n",
              "      <td>HELIX</td>\n",
              "      <td>2.0</td>\n",
              "      <td>120</td>\n",
              "      <td>167</td>\n",
              "      <td>NaN</td>\n",
              "      <td>NaN</td>\n",
              "      <td>7.4</td>\n",
              "      <td>138.5</td>\n",
              "      <td>522</td>\n",
              "      <td>True</td>\n",
              "      <td>C:\\Users\\clean\\OneDrive\\Área de Trabalho\\Image...</td>\n",
              "      <td>img97_anon.dcm</td>\n",
              "      <td>NaN</td>\n",
              "    </tr>\n",
              "    <tr>\n",
              "      <th>2058</th>\n",
              "      <td>CT</td>\n",
              "      <td>Brilliance 10</td>\n",
              "      <td>ANONYMOUS</td>\n",
              "      <td>1602651556267</td>\n",
              "      <td>F</td>\n",
              "      <td>062Y</td>\n",
              "      <td>NaN</td>\n",
              "      <td>NaN</td>\n",
              "      <td>NaN</td>\n",
              "      <td>NaN</td>\n",
              "      <td>HELIX</td>\n",
              "      <td>2.0</td>\n",
              "      <td>120</td>\n",
              "      <td>167</td>\n",
              "      <td>NaN</td>\n",
              "      <td>NaN</td>\n",
              "      <td>7.4</td>\n",
              "      <td>139.5</td>\n",
              "      <td>522</td>\n",
              "      <td>True</td>\n",
              "      <td>C:\\Users\\clean\\OneDrive\\Área de Trabalho\\Image...</td>\n",
              "      <td>img98_anon.dcm</td>\n",
              "      <td>NaN</td>\n",
              "    </tr>\n",
              "    <tr>\n",
              "      <th>2059</th>\n",
              "      <td>CT</td>\n",
              "      <td>Brilliance 10</td>\n",
              "      <td>ANONYMOUS</td>\n",
              "      <td>1602651556267</td>\n",
              "      <td>F</td>\n",
              "      <td>062Y</td>\n",
              "      <td>NaN</td>\n",
              "      <td>NaN</td>\n",
              "      <td>NaN</td>\n",
              "      <td>NaN</td>\n",
              "      <td>HELIX</td>\n",
              "      <td>2.0</td>\n",
              "      <td>120</td>\n",
              "      <td>167</td>\n",
              "      <td>NaN</td>\n",
              "      <td>NaN</td>\n",
              "      <td>7.4</td>\n",
              "      <td>140.5</td>\n",
              "      <td>522</td>\n",
              "      <td>True</td>\n",
              "      <td>C:\\Users\\clean\\OneDrive\\Área de Trabalho\\Image...</td>\n",
              "      <td>img99_anon.dcm</td>\n",
              "      <td>NaN</td>\n",
              "    </tr>\n",
              "    <tr>\n",
              "      <th>2060</th>\n",
              "      <td>CT</td>\n",
              "      <td>Brilliance 10</td>\n",
              "      <td>ANONYMOUS</td>\n",
              "      <td>1602651556267</td>\n",
              "      <td>F</td>\n",
              "      <td>062Y</td>\n",
              "      <td>NaN</td>\n",
              "      <td>NaN</td>\n",
              "      <td>NaN</td>\n",
              "      <td>NaN</td>\n",
              "      <td>HELIX</td>\n",
              "      <td>2.0</td>\n",
              "      <td>120</td>\n",
              "      <td>167</td>\n",
              "      <td>NaN</td>\n",
              "      <td>NaN</td>\n",
              "      <td>7.4</td>\n",
              "      <td>50.5</td>\n",
              "      <td>522</td>\n",
              "      <td>True</td>\n",
              "      <td>C:\\Users\\clean\\OneDrive\\Área de Trabalho\\Image...</td>\n",
              "      <td>img9_anon.dcm</td>\n",
              "      <td>NaN</td>\n",
              "    </tr>\n",
              "  </tbody>\n",
              "</table>\n",
              "</div>"
            ],
            "text/plain": [
              "     Modality [CS:0008,0060]  ... Unnamed: 22\n",
              "2056                      CT  ...         NaN\n",
              "2057                      CT  ...         NaN\n",
              "2058                      CT  ...         NaN\n",
              "2059                      CT  ...         NaN\n",
              "2060                      CT  ...         NaN\n",
              "\n",
              "[5 rows x 23 columns]"
            ]
          },
          "metadata": {
            "tags": []
          },
          "execution_count": 3
        }
      ]
    },
    {
      "cell_type": "markdown",
      "metadata": {
        "id": "lPdHOfvOhOJg"
      },
      "source": [
        "**3. VAMOS ORGANIZAR NOSSOS DADOS**"
      ]
    },
    {
      "cell_type": "code",
      "metadata": {
        "id": "piqiIDlVhUOy",
        "outputId": "6366e35e-dabe-4318-b238-1d543e183327",
        "colab": {
          "base_uri": "https://localhost:8080/",
          "height": 224
        }
      },
      "source": [
        "data = df.filter(['Modality [CS:0008,0060]', 'Manufacturers Model Name [LO:0008,1090]',\n",
        "       'Patients Name [PN:0010,0010]', 'Patient ID [LO:0010,0020]',\n",
        "       'Patients Sex [CS:0010,0040]', 'Patients Age [AS:0010,1010]',\n",
        "       'Patients Size [DS:0010,1020]', 'Patients Weight [DS:0010,1030]',\n",
        "       'Body Part Examined [CS:0018,0015]', 'Scan Options [CS:0018,0022]',\n",
        "       'Slice Thickness [DS:0018,0050]', 'KVP [DS:0018,0060]',\n",
        "       'Table Feed per Rotation [FD:0018,9310]',\n",
        "       'Total Collimation Width [FD:0018,9307]', 'CTDIvol [FD:0018,9345]',\n",
        "       'X-Ray Tube Current [IS:0018,1151]', 'AcquisitionTime [TM:0008,0032]',\n",
        "       'Contrast/Bolus Agent [LO:0018,0010]', 'Slice Location [DS:0020,1041]'])\n",
        "\n",
        "newcolumns = {'Modality [CS:0008,0060]':'Modality', 'Manufacturers Model Name [LO:0008,1090]':'Manufacturer',\n",
        "       'Patients Name [PN:0010,0010]':'PatientName', 'Patient ID [LO:0010,0020]':'PatientID',\n",
        "       'Patients Sex [CS:0010,0040]':'Sex', 'Patients Age [AS:0010,1010]':'Age',\n",
        "       'Patients Size [DS:0010,1020]':'Size', 'Patients Weight [DS:0010,1030]':'Weight',\n",
        "       'Body Part Examined [CS:0018,0015]':'BodyPart', 'Scan Options [CS:0018,0022]':'ScanMode',\n",
        "       'Slice Thickness [DS:0018,0050]':'SliceThickness', 'KVP [DS:0018,0060]':'kVp',\n",
        "       'Table Feed per Rotation [FD:0018,9310]':'TableFeedperRotation',\n",
        "       'Total Collimation Width [FD:0018,9307]':'Collimation', 'CTDIvol [FD:0018,9345]':'CTDIvol',\n",
        "       'X-Ray Tube Current [IS:0018,1151]':'mA', 'AcquisitionTime [TM:0008,0032]':'AcquisitionTime',\n",
        "       'Contrast/Bolus Agent [LO:0018,0010]':'Contrast', 'Slice Location [DS:0020,1041]':'Location'}\n",
        "\n",
        "dt = data.rename(columns=newcolumns)\n",
        "dt.head()"
      ],
      "execution_count": null,
      "outputs": [
        {
          "output_type": "execute_result",
          "data": {
            "text/html": [
              "<div>\n",
              "<style scoped>\n",
              "    .dataframe tbody tr th:only-of-type {\n",
              "        vertical-align: middle;\n",
              "    }\n",
              "\n",
              "    .dataframe tbody tr th {\n",
              "        vertical-align: top;\n",
              "    }\n",
              "\n",
              "    .dataframe thead th {\n",
              "        text-align: right;\n",
              "    }\n",
              "</style>\n",
              "<table border=\"1\" class=\"dataframe\">\n",
              "  <thead>\n",
              "    <tr style=\"text-align: right;\">\n",
              "      <th></th>\n",
              "      <th>Modality</th>\n",
              "      <th>Manufacturer</th>\n",
              "      <th>PatientName</th>\n",
              "      <th>PatientID</th>\n",
              "      <th>Sex</th>\n",
              "      <th>Age</th>\n",
              "      <th>Size</th>\n",
              "      <th>Weight</th>\n",
              "      <th>BodyPart</th>\n",
              "      <th>ScanMode</th>\n",
              "      <th>SliceThickness</th>\n",
              "      <th>kVp</th>\n",
              "      <th>TableFeedperRotation</th>\n",
              "      <th>Collimation</th>\n",
              "      <th>CTDIvol</th>\n",
              "      <th>mA</th>\n",
              "      <th>Contrast</th>\n",
              "      <th>Location</th>\n",
              "    </tr>\n",
              "  </thead>\n",
              "  <tbody>\n",
              "    <tr>\n",
              "      <th>0</th>\n",
              "      <td>CT</td>\n",
              "      <td>Gemini</td>\n",
              "      <td>ANONYMOUS</td>\n",
              "      <td>1602651663112</td>\n",
              "      <td>F</td>\n",
              "      <td>065Y</td>\n",
              "      <td>NaN</td>\n",
              "      <td>NaN</td>\n",
              "      <td>NaN</td>\n",
              "      <td>HELIX</td>\n",
              "      <td>1.0</td>\n",
              "      <td>120</td>\n",
              "      <td>NaN</td>\n",
              "      <td>NaN</td>\n",
              "      <td>19.4</td>\n",
              "      <td>469</td>\n",
              "      <td>NaN</td>\n",
              "      <td>186.5</td>\n",
              "    </tr>\n",
              "    <tr>\n",
              "      <th>1</th>\n",
              "      <td>CT</td>\n",
              "      <td>Gemini</td>\n",
              "      <td>ANONYMOUS</td>\n",
              "      <td>1602651663112</td>\n",
              "      <td>F</td>\n",
              "      <td>065Y</td>\n",
              "      <td>NaN</td>\n",
              "      <td>NaN</td>\n",
              "      <td>NaN</td>\n",
              "      <td>HELIX</td>\n",
              "      <td>1.0</td>\n",
              "      <td>120</td>\n",
              "      <td>NaN</td>\n",
              "      <td>NaN</td>\n",
              "      <td>19.4</td>\n",
              "      <td>469</td>\n",
              "      <td>NaN</td>\n",
              "      <td>185.5</td>\n",
              "    </tr>\n",
              "    <tr>\n",
              "      <th>2</th>\n",
              "      <td>CT</td>\n",
              "      <td>Gemini</td>\n",
              "      <td>ANONYMOUS</td>\n",
              "      <td>1602651663112</td>\n",
              "      <td>F</td>\n",
              "      <td>065Y</td>\n",
              "      <td>NaN</td>\n",
              "      <td>NaN</td>\n",
              "      <td>NaN</td>\n",
              "      <td>HELIX</td>\n",
              "      <td>1.0</td>\n",
              "      <td>120</td>\n",
              "      <td>NaN</td>\n",
              "      <td>NaN</td>\n",
              "      <td>19.4</td>\n",
              "      <td>469</td>\n",
              "      <td>NaN</td>\n",
              "      <td>184.5</td>\n",
              "    </tr>\n",
              "    <tr>\n",
              "      <th>3</th>\n",
              "      <td>CT</td>\n",
              "      <td>Gemini</td>\n",
              "      <td>ANONYMOUS</td>\n",
              "      <td>1602651663112</td>\n",
              "      <td>F</td>\n",
              "      <td>065Y</td>\n",
              "      <td>NaN</td>\n",
              "      <td>NaN</td>\n",
              "      <td>NaN</td>\n",
              "      <td>HELIX</td>\n",
              "      <td>1.0</td>\n",
              "      <td>120</td>\n",
              "      <td>NaN</td>\n",
              "      <td>NaN</td>\n",
              "      <td>19.4</td>\n",
              "      <td>469</td>\n",
              "      <td>NaN</td>\n",
              "      <td>183.5</td>\n",
              "    </tr>\n",
              "    <tr>\n",
              "      <th>4</th>\n",
              "      <td>CT</td>\n",
              "      <td>Gemini</td>\n",
              "      <td>ANONYMOUS</td>\n",
              "      <td>1602651663112</td>\n",
              "      <td>F</td>\n",
              "      <td>065Y</td>\n",
              "      <td>NaN</td>\n",
              "      <td>NaN</td>\n",
              "      <td>NaN</td>\n",
              "      <td>HELIX</td>\n",
              "      <td>1.0</td>\n",
              "      <td>120</td>\n",
              "      <td>NaN</td>\n",
              "      <td>NaN</td>\n",
              "      <td>19.4</td>\n",
              "      <td>469</td>\n",
              "      <td>NaN</td>\n",
              "      <td>182.5</td>\n",
              "    </tr>\n",
              "  </tbody>\n",
              "</table>\n",
              "</div>"
            ],
            "text/plain": [
              "  Modality Manufacturer PatientName  ...   mA Contrast Location\n",
              "0       CT       Gemini   ANONYMOUS  ...  469      NaN    186.5\n",
              "1       CT       Gemini   ANONYMOUS  ...  469      NaN    185.5\n",
              "2       CT       Gemini   ANONYMOUS  ...  469      NaN    184.5\n",
              "3       CT       Gemini   ANONYMOUS  ...  469      NaN    183.5\n",
              "4       CT       Gemini   ANONYMOUS  ...  469      NaN    182.5\n",
              "\n",
              "[5 rows x 18 columns]"
            ]
          },
          "metadata": {
            "tags": []
          },
          "execution_count": 4
        }
      ]
    },
    {
      "cell_type": "markdown",
      "metadata": {
        "id": "rL03nqcrSJdH"
      },
      "source": [
        "**4. QUEM SÃO MEUS PACIENTES?**"
      ]
    },
    {
      "cell_type": "code",
      "metadata": {
        "id": "HXuwM1fFPhsJ",
        "outputId": "573dc1ab-0c6f-4701-88fb-fa25d9aeadc2",
        "colab": {
          "base_uri": "https://localhost:8080/",
          "height": 255
        }
      },
      "source": [
        "data1 = dt.drop_duplicates(subset='PatientID',keep='first')\n",
        "data1"
      ],
      "execution_count": null,
      "outputs": [
        {
          "output_type": "execute_result",
          "data": {
            "text/html": [
              "<div>\n",
              "<style scoped>\n",
              "    .dataframe tbody tr th:only-of-type {\n",
              "        vertical-align: middle;\n",
              "    }\n",
              "\n",
              "    .dataframe tbody tr th {\n",
              "        vertical-align: top;\n",
              "    }\n",
              "\n",
              "    .dataframe thead th {\n",
              "        text-align: right;\n",
              "    }\n",
              "</style>\n",
              "<table border=\"1\" class=\"dataframe\">\n",
              "  <thead>\n",
              "    <tr style=\"text-align: right;\">\n",
              "      <th></th>\n",
              "      <th>Modality</th>\n",
              "      <th>Manufacturer</th>\n",
              "      <th>PatientName</th>\n",
              "      <th>PatientID</th>\n",
              "      <th>Sex</th>\n",
              "      <th>Age</th>\n",
              "      <th>Size</th>\n",
              "      <th>Weight</th>\n",
              "      <th>BodyPart</th>\n",
              "      <th>ScanMode</th>\n",
              "      <th>SliceThickness</th>\n",
              "      <th>kVp</th>\n",
              "      <th>TableFeedperRotation</th>\n",
              "      <th>Collimation</th>\n",
              "      <th>CTDIvol</th>\n",
              "      <th>mA</th>\n",
              "      <th>Contrast</th>\n",
              "      <th>Location</th>\n",
              "    </tr>\n",
              "  </thead>\n",
              "  <tbody>\n",
              "    <tr>\n",
              "      <th>0</th>\n",
              "      <td>CT</td>\n",
              "      <td>Gemini</td>\n",
              "      <td>ANONYMOUS</td>\n",
              "      <td>1602651663112</td>\n",
              "      <td>F</td>\n",
              "      <td>065Y</td>\n",
              "      <td>NaN</td>\n",
              "      <td>NaN</td>\n",
              "      <td>NaN</td>\n",
              "      <td>HELIX</td>\n",
              "      <td>1.0</td>\n",
              "      <td>120</td>\n",
              "      <td>NaN</td>\n",
              "      <td>NaN</td>\n",
              "      <td>19.4</td>\n",
              "      <td>469</td>\n",
              "      <td>NaN</td>\n",
              "      <td>186.5</td>\n",
              "    </tr>\n",
              "    <tr>\n",
              "      <th>299</th>\n",
              "      <td>CT</td>\n",
              "      <td>Aquilion</td>\n",
              "      <td>ANONYMOUS</td>\n",
              "      <td>1602651190489</td>\n",
              "      <td>F</td>\n",
              "      <td>067Y</td>\n",
              "      <td>NaN</td>\n",
              "      <td>NaN</td>\n",
              "      <td>TCAR</td>\n",
              "      <td>HELICAL_CT</td>\n",
              "      <td>0.5</td>\n",
              "      <td>120</td>\n",
              "      <td>NaN</td>\n",
              "      <td>NaN</td>\n",
              "      <td>16.5</td>\n",
              "      <td>300</td>\n",
              "      <td>NaN</td>\n",
              "      <td>-59.4</td>\n",
              "    </tr>\n",
              "    <tr>\n",
              "      <th>755</th>\n",
              "      <td>CT</td>\n",
              "      <td>Aquilion</td>\n",
              "      <td>ANONYMOUS</td>\n",
              "      <td>1602651329556</td>\n",
              "      <td>F</td>\n",
              "      <td>008M</td>\n",
              "      <td>NaN</td>\n",
              "      <td>NaN</td>\n",
              "      <td>TORAX</td>\n",
              "      <td>HELICAL_CT</td>\n",
              "      <td>0.5</td>\n",
              "      <td>120</td>\n",
              "      <td>NaN</td>\n",
              "      <td>NaN</td>\n",
              "      <td>7.4</td>\n",
              "      <td>120</td>\n",
              "      <td>CE</td>\n",
              "      <td>39.6</td>\n",
              "    </tr>\n",
              "    <tr>\n",
              "      <th>1056</th>\n",
              "      <td>CT</td>\n",
              "      <td>Aquilion</td>\n",
              "      <td>ANONYMOUS</td>\n",
              "      <td>1602651435376</td>\n",
              "      <td>F</td>\n",
              "      <td>082Y</td>\n",
              "      <td>NaN</td>\n",
              "      <td>NaN</td>\n",
              "      <td>TORAX</td>\n",
              "      <td>HELICAL_CT</td>\n",
              "      <td>0.5</td>\n",
              "      <td>120</td>\n",
              "      <td>NaN</td>\n",
              "      <td>NaN</td>\n",
              "      <td>24.4</td>\n",
              "      <td>164</td>\n",
              "      <td>NaN</td>\n",
              "      <td>79.2</td>\n",
              "    </tr>\n",
              "    <tr>\n",
              "      <th>1400</th>\n",
              "      <td>CT</td>\n",
              "      <td>Aquilion</td>\n",
              "      <td>ANONYMOUS</td>\n",
              "      <td>1602651496132</td>\n",
              "      <td>F</td>\n",
              "      <td>067Y</td>\n",
              "      <td>NaN</td>\n",
              "      <td>NaN</td>\n",
              "      <td>TORAX</td>\n",
              "      <td>HELICAL_CT</td>\n",
              "      <td>0.5</td>\n",
              "      <td>120</td>\n",
              "      <td>NaN</td>\n",
              "      <td>NaN</td>\n",
              "      <td>33.4</td>\n",
              "      <td>428</td>\n",
              "      <td>NaN</td>\n",
              "      <td>79.2</td>\n",
              "    </tr>\n",
              "    <tr>\n",
              "      <th>1782</th>\n",
              "      <td>CT</td>\n",
              "      <td>Brilliance 10</td>\n",
              "      <td>ANONYMOUS</td>\n",
              "      <td>1602651556267</td>\n",
              "      <td>F</td>\n",
              "      <td>062Y</td>\n",
              "      <td>NaN</td>\n",
              "      <td>NaN</td>\n",
              "      <td>NaN</td>\n",
              "      <td>HELIX</td>\n",
              "      <td>2.0</td>\n",
              "      <td>120</td>\n",
              "      <td>NaN</td>\n",
              "      <td>NaN</td>\n",
              "      <td>7.4</td>\n",
              "      <td>167</td>\n",
              "      <td>NaN</td>\n",
              "      <td>141.5</td>\n",
              "    </tr>\n",
              "  </tbody>\n",
              "</table>\n",
              "</div>"
            ],
            "text/plain": [
              "     Modality   Manufacturer PatientName  ...   mA Contrast Location\n",
              "0          CT         Gemini   ANONYMOUS  ...  469      NaN    186.5\n",
              "299        CT       Aquilion   ANONYMOUS  ...  300      NaN    -59.4\n",
              "755        CT       Aquilion   ANONYMOUS  ...  120       CE     39.6\n",
              "1056       CT       Aquilion   ANONYMOUS  ...  164      NaN     79.2\n",
              "1400       CT       Aquilion   ANONYMOUS  ...  428      NaN     79.2\n",
              "1782       CT  Brilliance 10   ANONYMOUS  ...  167      NaN    141.5\n",
              "\n",
              "[6 rows x 18 columns]"
            ]
          },
          "metadata": {
            "tags": []
          },
          "execution_count": 5
        }
      ]
    },
    {
      "cell_type": "markdown",
      "metadata": {
        "id": "FcB-T2UVTSWx"
      },
      "source": [
        "**5. FEITO ISSO, VAMOS AGORA ANALIZAR ÍNDICES DOSIMÉTRICOS**"
      ]
    },
    {
      "cell_type": "code",
      "metadata": {
        "id": "AQYhO1FUTiJE",
        "outputId": "d1ceee22-7745-4b44-c842-971a2fbe17f7",
        "colab": {
          "base_uri": "https://localhost:8080/",
          "height": 235
        }
      },
      "source": [
        "lista_ID = data1.PatientID.values\n",
        "sub_result = []\n",
        "for ID in lista_ID:\n",
        "  filtro = dt[(dt.PatientID == ID)]\n",
        "  nome= filtro.iloc[0][\"PatientID\"]\n",
        "  sexo = filtro.iloc[0][\"Sex\"]\n",
        "  if(sexo =='F'):\n",
        "    sexo = 0\n",
        "  else:\n",
        "    sexo = 1\n",
        "  peso = filtro.iloc[0][\"Weight\"]\n",
        "  altura = filtro.iloc[0][\"Size\"]\n",
        "  idade = filtro.iloc[0][\"Age\"]\n",
        "  age = int(idade[1:3])\n",
        "  partecorpo = filtro.iloc[0][\"BodyPart\"]\n",
        "  modelo = filtro.iloc[0][\"Manufacturer\"]\n",
        "  modo = filtro.iloc[0][\"ScanMode\"]\n",
        "  kvp = filtro.iloc[0][\"kVp\"]\n",
        "  CTDI = filtro.CTDIvol.max()\n",
        "  slice_begin = filtro.Location.min()\n",
        "  mode_slice_begin = abs(slice_begin)\n",
        "  slice_end = filtro.Location.max()\n",
        "  mode_slice_end = abs(slice_end)\n",
        "  scanlength = (mode_slice_begin+mode_slice_end)/10\n",
        "  DLP = CTDI*scanlength \n",
        "  subresult = pd.DataFrame({\"ID\":[nome],\"Sexo\":[sexo],\"Peso\":[peso],\"Altura\":[altura],\"Idade\":[age],\"Anatomia\":[partecorpo],\"Modelo\":[modelo],\"Modo\":[modo],\"kVp\":[kvp],\"Scanlength\":[scanlength],\"CTDI\":[CTDI],\"DLP\":[DLP]})\n",
        "  sub_result.append(subresult)\n",
        "\n",
        "result = pd.concat(sub_result)\n",
        "result"
      ],
      "execution_count": null,
      "outputs": [
        {
          "output_type": "execute_result",
          "data": {
            "text/html": [
              "<div>\n",
              "<style scoped>\n",
              "    .dataframe tbody tr th:only-of-type {\n",
              "        vertical-align: middle;\n",
              "    }\n",
              "\n",
              "    .dataframe tbody tr th {\n",
              "        vertical-align: top;\n",
              "    }\n",
              "\n",
              "    .dataframe thead th {\n",
              "        text-align: right;\n",
              "    }\n",
              "</style>\n",
              "<table border=\"1\" class=\"dataframe\">\n",
              "  <thead>\n",
              "    <tr style=\"text-align: right;\">\n",
              "      <th></th>\n",
              "      <th>ID</th>\n",
              "      <th>Sexo</th>\n",
              "      <th>Peso</th>\n",
              "      <th>Altura</th>\n",
              "      <th>Idade</th>\n",
              "      <th>Anatomia</th>\n",
              "      <th>Modelo</th>\n",
              "      <th>Modo</th>\n",
              "      <th>kVp</th>\n",
              "      <th>Scanlength</th>\n",
              "      <th>CTDI</th>\n",
              "      <th>DLP</th>\n",
              "    </tr>\n",
              "  </thead>\n",
              "  <tbody>\n",
              "    <tr>\n",
              "      <th>0</th>\n",
              "      <td>1602651663112</td>\n",
              "      <td>0</td>\n",
              "      <td>NaN</td>\n",
              "      <td>NaN</td>\n",
              "      <td>65</td>\n",
              "      <td>NaN</td>\n",
              "      <td>Gemini</td>\n",
              "      <td>HELIX</td>\n",
              "      <td>120</td>\n",
              "      <td>29.80</td>\n",
              "      <td>19.4</td>\n",
              "      <td>578.120</td>\n",
              "    </tr>\n",
              "    <tr>\n",
              "      <th>0</th>\n",
              "      <td>1602651190489</td>\n",
              "      <td>0</td>\n",
              "      <td>NaN</td>\n",
              "      <td>NaN</td>\n",
              "      <td>67</td>\n",
              "      <td>TCAR</td>\n",
              "      <td>Aquilion</td>\n",
              "      <td>HELICAL_CT</td>\n",
              "      <td>120</td>\n",
              "      <td>27.30</td>\n",
              "      <td>16.5</td>\n",
              "      <td>450.450</td>\n",
              "    </tr>\n",
              "    <tr>\n",
              "      <th>0</th>\n",
              "      <td>1602651329556</td>\n",
              "      <td>0</td>\n",
              "      <td>NaN</td>\n",
              "      <td>NaN</td>\n",
              "      <td>8</td>\n",
              "      <td>TORAX</td>\n",
              "      <td>Aquilion</td>\n",
              "      <td>HELICAL_CT</td>\n",
              "      <td>120</td>\n",
              "      <td>12.00</td>\n",
              "      <td>7.4</td>\n",
              "      <td>88.800</td>\n",
              "    </tr>\n",
              "    <tr>\n",
              "      <th>0</th>\n",
              "      <td>1602651435376</td>\n",
              "      <td>0</td>\n",
              "      <td>NaN</td>\n",
              "      <td>NaN</td>\n",
              "      <td>82</td>\n",
              "      <td>TORAX</td>\n",
              "      <td>Aquilion</td>\n",
              "      <td>HELICAL_CT</td>\n",
              "      <td>120</td>\n",
              "      <td>27.44</td>\n",
              "      <td>24.4</td>\n",
              "      <td>669.536</td>\n",
              "    </tr>\n",
              "    <tr>\n",
              "      <th>0</th>\n",
              "      <td>1602651496132</td>\n",
              "      <td>0</td>\n",
              "      <td>NaN</td>\n",
              "      <td>NaN</td>\n",
              "      <td>67</td>\n",
              "      <td>TORAX</td>\n",
              "      <td>Aquilion</td>\n",
              "      <td>HELICAL_CT</td>\n",
              "      <td>120</td>\n",
              "      <td>30.48</td>\n",
              "      <td>33.4</td>\n",
              "      <td>1018.032</td>\n",
              "    </tr>\n",
              "    <tr>\n",
              "      <th>0</th>\n",
              "      <td>1602651556267</td>\n",
              "      <td>0</td>\n",
              "      <td>NaN</td>\n",
              "      <td>NaN</td>\n",
              "      <td>62</td>\n",
              "      <td>NaN</td>\n",
              "      <td>Brilliance 10</td>\n",
              "      <td>HELIX</td>\n",
              "      <td>120</td>\n",
              "      <td>36.30</td>\n",
              "      <td>7.4</td>\n",
              "      <td>268.620</td>\n",
              "    </tr>\n",
              "  </tbody>\n",
              "</table>\n",
              "</div>"
            ],
            "text/plain": [
              "              ID  Sexo  Peso  Altura  ...  kVp Scanlength  CTDI       DLP\n",
              "0  1602651663112     0   NaN     NaN  ...  120      29.80  19.4   578.120\n",
              "0  1602651190489     0   NaN     NaN  ...  120      27.30  16.5   450.450\n",
              "0  1602651329556     0   NaN     NaN  ...  120      12.00   7.4    88.800\n",
              "0  1602651435376     0   NaN     NaN  ...  120      27.44  24.4   669.536\n",
              "0  1602651496132     0   NaN     NaN  ...  120      30.48  33.4  1018.032\n",
              "0  1602651556267     0   NaN     NaN  ...  120      36.30   7.4   268.620\n",
              "\n",
              "[6 rows x 12 columns]"
            ]
          },
          "metadata": {
            "tags": []
          },
          "execution_count": 36
        }
      ]
    },
    {
      "cell_type": "markdown",
      "metadata": {
        "id": "5-z8Kv00oJgR"
      },
      "source": [
        "**6. QUE TAL ANALIZARMOS A CORRELAÇÃO ENTRE NOSSAS TAGS?**"
      ]
    },
    {
      "cell_type": "code",
      "metadata": {
        "id": "lVxncKQ-oNs1",
        "outputId": "359d11f6-ee97-4fbf-ba19-fa5b629a4d7d",
        "colab": {
          "base_uri": "https://localhost:8080/",
          "height": 489
        }
      },
      "source": [
        "plt.subplots(figsize=(10, 8))\n",
        "corr = result.corr()\n",
        "sns.heatmap(corr, cmap=sns.diverging_palette(220, 10, as_cmap=True),\n",
        "            square=True)\n",
        "plt.show()"
      ],
      "execution_count": null,
      "outputs": [
        {
          "output_type": "display_data",
          "data": {
            "image/png": "[encoded data removed]",
            "text/plain": [
              "<Figure size 720x576 with 2 Axes>"
            ]
          },
          "metadata": {
            "tags": []
          }
        }
      ]
    },
    {
      "cell_type": "markdown",
      "metadata": {
        "id": "QWuEhr4HrwPt"
      },
      "source": [
        "**9. VAMOS PLOTAR IDADE X DLP**"
      ]
    },
    {
      "cell_type": "code",
      "metadata": {
        "id": "gbeP6nJBrvnA",
        "outputId": "f43b2640-fcff-43a4-b6cf-9b41444dd54b",
        "colab": {
          "base_uri": "https://localhost:8080/",
          "height": 503
        }
      },
      "source": [
        "plt.subplots(figsize=(10, 8))\n",
        "plt.scatter(result.Idade,result.DLP)\n",
        "plt.xlabel('Idade',size=14)\n",
        "plt.ylabel('DLP',size=14)\n",
        "plt.grid(True)\n",
        "plt.show()"
      ],
      "execution_count": null,
      "outputs": [
        {
          "output_type": "display_data",
          "data": {
            "image/png": "[encoded data removed]",
            "text/plain": [
              "<Figure size 720x576 with 1 Axes>"
            ]
          },
          "metadata": {
            "tags": []
          }
        }
      ]
    },
    {
      "cell_type": "markdown",
      "metadata": {
        "id": "0P6xNJsBtRra"
      },
      "source": [
        "**9. VAMOS PLOTAR IDADE X COMPRIMENTO DE SCAN**"
      ]
    },
    {
      "cell_type": "code",
      "metadata": {
        "id": "im6E8Y6WtQu_",
        "outputId": "cd0886b4-6e84-411b-a7a3-6f00930d40d6",
        "colab": {
          "base_uri": "https://localhost:8080/",
          "height": 503
        }
      },
      "source": [
        "plt.subplots(figsize=(10, 8))\n",
        "plt.scatter(result.Idade,result.Scanlength)\n",
        "plt.xlabel('Idade',size=14)\n",
        "plt.ylabel('Comprimento de scan',size=14)\n",
        "plt.grid(True)\n",
        "plt.show()"
      ],
      "execution_count": null,
      "outputs": [
        {
          "output_type": "display_data",
          "data": {
            "image/png": "[encoded data removed]",
            "text/plain": [
              "<Figure size 720x576 with 1 Axes>"
            ]
          },
          "metadata": {
            "tags": []
          }
        }
      ]
    },
    {
      "cell_type": "markdown",
      "metadata": {
        "id": "cmTpDn-gG-Tl"
      },
      "source": [
        "**10. VAMOS SEGMENTAR DADOS PADRONIZADOS**"
      ]
    },
    {
      "cell_type": "code",
      "metadata": {
        "id": "XKJyUqE5G95o",
        "outputId": "e6df8613-f083-4659-dd71-2f40a64e5ea1",
        "colab": {
          "base_uri": "https://localhost:8080/",
          "height": 301
        }
      },
      "source": [
        "#NÚMERO DE GRUPOS\n",
        "x = result.filter(['Idade','CTDI'])\n",
        "wcss = []\n",
        "cl_num = 6\n",
        "number_clusters = range(1,cl_num)\n",
        "\n",
        "for i in number_clusters:\n",
        "    kmeans= KMeans(i)\n",
        "    kmeans.fit(x)\n",
        "    wcss_iter = kmeans.inertia_\n",
        "    wcss.append(wcss_iter)\n",
        "\n",
        "plt.plot(number_clusters, wcss)\n",
        "plt.title('The Elbow Method')\n",
        "plt.xlabel('Number of clusters')\n",
        "plt.ylabel('Within-cluster Sum of Squares')\n",
        "plt.show()"
      ],
      "execution_count": 73,
      "outputs": [
        {
          "output_type": "display_data",
          "data": {
            "image/png": "[encoded data removed]",
            "text/plain": [
              "<Figure size 432x288 with 1 Axes>"
            ]
          },
          "metadata": {
            "tags": []
          }
        }
      ]
    },
    {
      "cell_type": "code",
      "metadata": {
        "id": "Em1rXActKrIe",
        "outputId": "5796c4a6-05ad-453c-ebe5-081c1a3f1e35",
        "colab": {
          "base_uri": "https://localhost:8080/",
          "height": 503
        }
      },
      "source": [
        "#CLUSTERING\n",
        "kmeans = KMeans(4)\n",
        "kmeans.fit(x)\n",
        "grupos = kmeans.fit_predict(x)\n",
        "data_grupos = result.copy()\n",
        "data_grupos['Cluster'] = grupos\n",
        "\n",
        "plt.subplots(figsize=(10, 8))\n",
        "plt.scatter(data_grupos.Idade,data_grupos.DLP,c=data_grupos['Cluster'], cmap = 'rainbow')\n",
        "plt.xlabel('Idade',size=14)\n",
        "plt.ylabel('DLP',size=14)\n",
        "plt.grid(True)\n",
        "plt.show()\n"
      ],
      "execution_count": 72,
      "outputs": [
        {
          "output_type": "display_data",
          "data": {
            "image/png": "[encoded data removed]",
            "text/plain": [
              "<Figure size 720x576 with 1 Axes>"
            ]
          },
          "metadata": {
            "tags": []
          }
        }
      ]
    },
    {
      "cell_type": "code",
      "metadata": {
        "id": "pzJzJA7yN2fP",
        "outputId": "c69ffdd3-f5eb-45e3-9184-b4a05105c692",
        "colab": {
          "base_uri": "https://localhost:8080/",
          "height": 235
        }
      },
      "source": [
        "data_grupos"
      ],
      "execution_count": 74,
      "outputs": [
        {
          "output_type": "execute_result",
          "data": {
            "text/html": [
              "<div>\n",
              "<style scoped>\n",
              "    .dataframe tbody tr th:only-of-type {\n",
              "        vertical-align: middle;\n",
              "    }\n",
              "\n",
              "    .dataframe tbody tr th {\n",
              "        vertical-align: top;\n",
              "    }\n",
              "\n",
              "    .dataframe thead th {\n",
              "        text-align: right;\n",
              "    }\n",
              "</style>\n",
              "<table border=\"1\" class=\"dataframe\">\n",
              "  <thead>\n",
              "    <tr style=\"text-align: right;\">\n",
              "      <th></th>\n",
              "      <th>ID</th>\n",
              "      <th>Sexo</th>\n",
              "      <th>Peso</th>\n",
              "      <th>Altura</th>\n",
              "      <th>Idade</th>\n",
              "      <th>Anatomia</th>\n",
              "      <th>Modelo</th>\n",
              "      <th>Modo</th>\n",
              "      <th>kVp</th>\n",
              "      <th>Scanlength</th>\n",
              "      <th>CTDI</th>\n",
              "      <th>DLP</th>\n",
              "      <th>Cluster</th>\n",
              "    </tr>\n",
              "  </thead>\n",
              "  <tbody>\n",
              "    <tr>\n",
              "      <th>0</th>\n",
              "      <td>1602651663112</td>\n",
              "      <td>0</td>\n",
              "      <td>NaN</td>\n",
              "      <td>NaN</td>\n",
              "      <td>65</td>\n",
              "      <td>NaN</td>\n",
              "      <td>Gemini</td>\n",
              "      <td>HELIX</td>\n",
              "      <td>120</td>\n",
              "      <td>29.80</td>\n",
              "      <td>19.4</td>\n",
              "      <td>578.120</td>\n",
              "      <td>0</td>\n",
              "    </tr>\n",
              "    <tr>\n",
              "      <th>0</th>\n",
              "      <td>1602651190489</td>\n",
              "      <td>0</td>\n",
              "      <td>NaN</td>\n",
              "      <td>NaN</td>\n",
              "      <td>67</td>\n",
              "      <td>TCAR</td>\n",
              "      <td>Aquilion</td>\n",
              "      <td>HELICAL_CT</td>\n",
              "      <td>120</td>\n",
              "      <td>27.30</td>\n",
              "      <td>16.5</td>\n",
              "      <td>450.450</td>\n",
              "      <td>0</td>\n",
              "    </tr>\n",
              "    <tr>\n",
              "      <th>0</th>\n",
              "      <td>1602651329556</td>\n",
              "      <td>0</td>\n",
              "      <td>NaN</td>\n",
              "      <td>NaN</td>\n",
              "      <td>8</td>\n",
              "      <td>TORAX</td>\n",
              "      <td>Aquilion</td>\n",
              "      <td>HELICAL_CT</td>\n",
              "      <td>120</td>\n",
              "      <td>12.00</td>\n",
              "      <td>7.4</td>\n",
              "      <td>88.800</td>\n",
              "      <td>1</td>\n",
              "    </tr>\n",
              "    <tr>\n",
              "      <th>0</th>\n",
              "      <td>1602651435376</td>\n",
              "      <td>0</td>\n",
              "      <td>NaN</td>\n",
              "      <td>NaN</td>\n",
              "      <td>82</td>\n",
              "      <td>TORAX</td>\n",
              "      <td>Aquilion</td>\n",
              "      <td>HELICAL_CT</td>\n",
              "      <td>120</td>\n",
              "      <td>27.44</td>\n",
              "      <td>24.4</td>\n",
              "      <td>669.536</td>\n",
              "      <td>2</td>\n",
              "    </tr>\n",
              "    <tr>\n",
              "      <th>0</th>\n",
              "      <td>1602651496132</td>\n",
              "      <td>0</td>\n",
              "      <td>NaN</td>\n",
              "      <td>NaN</td>\n",
              "      <td>67</td>\n",
              "      <td>TORAX</td>\n",
              "      <td>Aquilion</td>\n",
              "      <td>HELICAL_CT</td>\n",
              "      <td>120</td>\n",
              "      <td>30.48</td>\n",
              "      <td>33.4</td>\n",
              "      <td>1018.032</td>\n",
              "      <td>3</td>\n",
              "    </tr>\n",
              "    <tr>\n",
              "      <th>0</th>\n",
              "      <td>1602651556267</td>\n",
              "      <td>0</td>\n",
              "      <td>NaN</td>\n",
              "      <td>NaN</td>\n",
              "      <td>62</td>\n",
              "      <td>NaN</td>\n",
              "      <td>Brilliance 10</td>\n",
              "      <td>HELIX</td>\n",
              "      <td>120</td>\n",
              "      <td>36.30</td>\n",
              "      <td>7.4</td>\n",
              "      <td>268.620</td>\n",
              "      <td>0</td>\n",
              "    </tr>\n",
              "  </tbody>\n",
              "</table>\n",
              "</div>"
            ],
            "text/plain": [
              "              ID  Sexo  Peso  Altura  ...  Scanlength  CTDI       DLP Cluster\n",
              "0  1602651663112     0   NaN     NaN  ...       29.80  19.4   578.120       0\n",
              "0  1602651190489     0   NaN     NaN  ...       27.30  16.5   450.450       0\n",
              "0  1602651329556     0   NaN     NaN  ...       12.00   7.4    88.800       1\n",
              "0  1602651435376     0   NaN     NaN  ...       27.44  24.4   669.536       2\n",
              "0  1602651496132     0   NaN     NaN  ...       30.48  33.4  1018.032       3\n",
              "0  1602651556267     0   NaN     NaN  ...       36.30   7.4   268.620       0\n",
              "\n",
              "[6 rows x 13 columns]"
            ]
          },
          "metadata": {
            "tags": []
          },
          "execution_count": 74
        }
      ]
    },
    {
      "cell_type": "markdown",
      "metadata": {
        "id": "A9OTjPo3Obvf"
      },
      "source": [
        "**11. VAMOS TENTAR ESTABELECER UMA DRL?**"
      ]
    },
    {
      "cell_type": "code",
      "metadata": {
        "id": "iM-kcPPBOhq1",
        "outputId": "e2f9f8e2-62c2-4063-ed31-54547888efeb",
        "colab": {
          "base_uri": "https://localhost:8080/",
          "height": 170
        }
      },
      "source": [
        "conj0 = data_grupos[(data_grupos.Cluster==0)]\n",
        "drl = conj0.DLP\n",
        "drl.describe()"
      ],
      "execution_count": 81,
      "outputs": [
        {
          "output_type": "execute_result",
          "data": {
            "text/plain": [
              "count      3.000000\n",
              "mean     432.396667\n",
              "std      155.537792\n",
              "min      268.620000\n",
              "25%      359.535000\n",
              "50%      450.450000\n",
              "75%      514.285000\n",
              "max      578.120000\n",
              "Name: DLP, dtype: float64"
            ]
          },
          "metadata": {
            "tags": []
          },
          "execution_count": 81
        }
      ]
    },
    {
      "cell_type": "markdown",
      "metadata": {
        "id": "thdgwO9geslQ"
      },
      "source": [
        "514.285 representa o terceiro quartil, logo, segundo RSNA/AAPM é a faixa indicada para estabelecimento da nossa DRL para os parâmetros estabelecidos."
      ]
    }
  ]
}