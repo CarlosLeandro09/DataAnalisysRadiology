{
  "nbformat": 4,
  "nbformat_minor": 0,
  "metadata": {
    "colab": {
      "name": "IFBA_Estatistica_básica.ipynb",
      "provenance": [],
      "collapsed_sections": [],
      "authorship_tag": "ABX9TyOeo9EtI6fAQQe5ifw38BbV",
      "include_colab_link": true
    },
    "kernelspec": {
      "name": "python3",
      "display_name": "Python 3"
    }
  },
  "cells": [
    {
      "cell_type": "markdown",
      "metadata": {
        "id": "view-in-github",
        "colab_type": "text"
      },
      "source": [
        "<a href=\"https://colab.research.google.com/github/CarlosLeandro09/DataAnalysisRadiology/blob/main/IFBA_Estatistica_b%C3%A1sica.ipynb\" target=\"_parent\"><img src=\"https://colab.research.google.com/assets/colab-badge.svg\" alt=\"Open In Colab\"/></a>"
      ]
    },
    {
      "cell_type": "markdown",
      "metadata": {
        "id": "XbrGbdPeB1lJ"
      },
      "source": [
        "# **1. Impotando bibliotecas úteis**"
      ]
    },
    {
      "cell_type": "code",
      "metadata": {
        "id": "lcj3y7ZCBz7y"
      },
      "source": [
        "import pandas as pd\n",
        "import numpy as np\n",
        "import matplotlib.pyplot as plt"
      ],
      "execution_count": 12,
      "outputs": []
    },
    {
      "cell_type": "markdown",
      "metadata": {
        "id": "36DfTMoSB1Fp"
      },
      "source": [
        "# **2. Criando Dataframe**"
      ]
    },
    {
      "cell_type": "code",
      "metadata": {
        "id": "VKMNOzByDFuZ",
        "outputId": "7499d37a-42bc-4366-ec8e-4779363f1523",
        "colab": {
          "base_uri": "https://localhost:8080/",
          "height": 390
        }
      },
      "source": [
        "df = pd.DataFrame({'Pizzaria':[1,2,3,4,5,6,7,8,9,10,11],'Dolares':[1,2,3,3,5,6,7,8,9,11,np.nan],'Pesos':[18.81, 37.62, 56.43, 56.43, 94.05, 112.86, 131.67, 150.48, 168.29, 406.91,np.nan]})\n",
        "df"
      ],
      "execution_count": 13,
      "outputs": [
        {
          "output_type": "execute_result",
          "data": {
            "text/html": [
              "<div>\n",
              "<style scoped>\n",
              "    .dataframe tbody tr th:only-of-type {\n",
              "        vertical-align: middle;\n",
              "    }\n",
              "\n",
              "    .dataframe tbody tr th {\n",
              "        vertical-align: top;\n",
              "    }\n",
              "\n",
              "    .dataframe thead th {\n",
              "        text-align: right;\n",
              "    }\n",
              "</style>\n",
              "<table border=\"1\" class=\"dataframe\">\n",
              "  <thead>\n",
              "    <tr style=\"text-align: right;\">\n",
              "      <th></th>\n",
              "      <th>Pizzaria</th>\n",
              "      <th>Dolares</th>\n",
              "      <th>Pesos</th>\n",
              "    </tr>\n",
              "  </thead>\n",
              "  <tbody>\n",
              "    <tr>\n",
              "      <th>0</th>\n",
              "      <td>1</td>\n",
              "      <td>1.0</td>\n",
              "      <td>18.81</td>\n",
              "    </tr>\n",
              "    <tr>\n",
              "      <th>1</th>\n",
              "      <td>2</td>\n",
              "      <td>2.0</td>\n",
              "      <td>37.62</td>\n",
              "    </tr>\n",
              "    <tr>\n",
              "      <th>2</th>\n",
              "      <td>3</td>\n",
              "      <td>3.0</td>\n",
              "      <td>56.43</td>\n",
              "    </tr>\n",
              "    <tr>\n",
              "      <th>3</th>\n",
              "      <td>4</td>\n",
              "      <td>3.0</td>\n",
              "      <td>56.43</td>\n",
              "    </tr>\n",
              "    <tr>\n",
              "      <th>4</th>\n",
              "      <td>5</td>\n",
              "      <td>5.0</td>\n",
              "      <td>94.05</td>\n",
              "    </tr>\n",
              "    <tr>\n",
              "      <th>5</th>\n",
              "      <td>6</td>\n",
              "      <td>6.0</td>\n",
              "      <td>112.86</td>\n",
              "    </tr>\n",
              "    <tr>\n",
              "      <th>6</th>\n",
              "      <td>7</td>\n",
              "      <td>7.0</td>\n",
              "      <td>131.67</td>\n",
              "    </tr>\n",
              "    <tr>\n",
              "      <th>7</th>\n",
              "      <td>8</td>\n",
              "      <td>8.0</td>\n",
              "      <td>150.48</td>\n",
              "    </tr>\n",
              "    <tr>\n",
              "      <th>8</th>\n",
              "      <td>9</td>\n",
              "      <td>9.0</td>\n",
              "      <td>168.29</td>\n",
              "    </tr>\n",
              "    <tr>\n",
              "      <th>9</th>\n",
              "      <td>10</td>\n",
              "      <td>11.0</td>\n",
              "      <td>406.91</td>\n",
              "    </tr>\n",
              "    <tr>\n",
              "      <th>10</th>\n",
              "      <td>11</td>\n",
              "      <td>NaN</td>\n",
              "      <td>NaN</td>\n",
              "    </tr>\n",
              "  </tbody>\n",
              "</table>\n",
              "</div>"
            ],
            "text/plain": [
              "    Pizzaria  Dolares   Pesos\n",
              "0          1      1.0   18.81\n",
              "1          2      2.0   37.62\n",
              "2          3      3.0   56.43\n",
              "3          4      3.0   56.43\n",
              "4          5      5.0   94.05\n",
              "5          6      6.0  112.86\n",
              "6          7      7.0  131.67\n",
              "7          8      8.0  150.48\n",
              "8          9      9.0  168.29\n",
              "9         10     11.0  406.91\n",
              "10        11      NaN     NaN"
            ]
          },
          "metadata": {
            "tags": []
          },
          "execution_count": 13
        }
      ]
    },
    {
      "cell_type": "markdown",
      "metadata": {
        "id": "P-Qxd01_GF-X"
      },
      "source": [
        "# **3. Limpeza de dados**"
      ]
    },
    {
      "cell_type": "code",
      "metadata": {
        "id": "zvWalKaWGNus",
        "outputId": "986a4410-e61c-4258-d99d-3b579dc76fec",
        "colab": {
          "base_uri": "https://localhost:8080/",
          "height": 359
        }
      },
      "source": [
        "data = df.dropna()\n",
        "data"
      ],
      "execution_count": 14,
      "outputs": [
        {
          "output_type": "execute_result",
          "data": {
            "text/html": [
              "<div>\n",
              "<style scoped>\n",
              "    .dataframe tbody tr th:only-of-type {\n",
              "        vertical-align: middle;\n",
              "    }\n",
              "\n",
              "    .dataframe tbody tr th {\n",
              "        vertical-align: top;\n",
              "    }\n",
              "\n",
              "    .dataframe thead th {\n",
              "        text-align: right;\n",
              "    }\n",
              "</style>\n",
              "<table border=\"1\" class=\"dataframe\">\n",
              "  <thead>\n",
              "    <tr style=\"text-align: right;\">\n",
              "      <th></th>\n",
              "      <th>Pizzaria</th>\n",
              "      <th>Dolares</th>\n",
              "      <th>Pesos</th>\n",
              "    </tr>\n",
              "  </thead>\n",
              "  <tbody>\n",
              "    <tr>\n",
              "      <th>0</th>\n",
              "      <td>1</td>\n",
              "      <td>1.0</td>\n",
              "      <td>18.81</td>\n",
              "    </tr>\n",
              "    <tr>\n",
              "      <th>1</th>\n",
              "      <td>2</td>\n",
              "      <td>2.0</td>\n",
              "      <td>37.62</td>\n",
              "    </tr>\n",
              "    <tr>\n",
              "      <th>2</th>\n",
              "      <td>3</td>\n",
              "      <td>3.0</td>\n",
              "      <td>56.43</td>\n",
              "    </tr>\n",
              "    <tr>\n",
              "      <th>3</th>\n",
              "      <td>4</td>\n",
              "      <td>3.0</td>\n",
              "      <td>56.43</td>\n",
              "    </tr>\n",
              "    <tr>\n",
              "      <th>4</th>\n",
              "      <td>5</td>\n",
              "      <td>5.0</td>\n",
              "      <td>94.05</td>\n",
              "    </tr>\n",
              "    <tr>\n",
              "      <th>5</th>\n",
              "      <td>6</td>\n",
              "      <td>6.0</td>\n",
              "      <td>112.86</td>\n",
              "    </tr>\n",
              "    <tr>\n",
              "      <th>6</th>\n",
              "      <td>7</td>\n",
              "      <td>7.0</td>\n",
              "      <td>131.67</td>\n",
              "    </tr>\n",
              "    <tr>\n",
              "      <th>7</th>\n",
              "      <td>8</td>\n",
              "      <td>8.0</td>\n",
              "      <td>150.48</td>\n",
              "    </tr>\n",
              "    <tr>\n",
              "      <th>8</th>\n",
              "      <td>9</td>\n",
              "      <td>9.0</td>\n",
              "      <td>168.29</td>\n",
              "    </tr>\n",
              "    <tr>\n",
              "      <th>9</th>\n",
              "      <td>10</td>\n",
              "      <td>11.0</td>\n",
              "      <td>406.91</td>\n",
              "    </tr>\n",
              "  </tbody>\n",
              "</table>\n",
              "</div>"
            ],
            "text/plain": [
              "   Pizzaria  Dolares   Pesos\n",
              "0         1      1.0   18.81\n",
              "1         2      2.0   37.62\n",
              "2         3      3.0   56.43\n",
              "3         4      3.0   56.43\n",
              "4         5      5.0   94.05\n",
              "5         6      6.0  112.86\n",
              "6         7      7.0  131.67\n",
              "7         8      8.0  150.48\n",
              "8         9      9.0  168.29\n",
              "9        10     11.0  406.91"
            ]
          },
          "metadata": {
            "tags": []
          },
          "execution_count": 14
        }
      ]
    },
    {
      "cell_type": "markdown",
      "metadata": {
        "id": "hl02jvvcF2FH"
      },
      "source": [
        "# **4. Analisando DF**"
      ]
    },
    {
      "cell_type": "code",
      "metadata": {
        "id": "9NJWgbLtER65",
        "outputId": "989e9026-7371-4f4f-ec3b-6afc923a1cb4",
        "colab": {
          "base_uri": "https://localhost:8080/",
          "height": 34
        }
      },
      "source": [
        "mediaD = data.Dolares.mean()\n",
        "mediaP = data.Pesos.mean()\n",
        "print(mediaD,mediaP)"
      ],
      "execution_count": 15,
      "outputs": [
        {
          "output_type": "stream",
          "text": [
            "5.5 123.35499999999999\n"
          ],
          "name": "stdout"
        }
      ]
    },
    {
      "cell_type": "code",
      "metadata": {
        "id": "P4VOwaWrEgkw",
        "outputId": "4a8f7df9-3d03-42b2-e51e-da74b96b5e06",
        "colab": {
          "base_uri": "https://localhost:8080/",
          "height": 34
        }
      },
      "source": [
        "medianaD = data.Dolares.median()\n",
        "medianaP = data.Pesos.median()\n",
        "print(medianaD,medianaP)"
      ],
      "execution_count": 16,
      "outputs": [
        {
          "output_type": "stream",
          "text": [
            "5.5 103.455\n"
          ],
          "name": "stdout"
        }
      ]
    },
    {
      "cell_type": "code",
      "metadata": {
        "id": "EQdui4dbE88v",
        "outputId": "e607660d-8ca6-4a2e-9f84-5afa8d9c2c7a",
        "colab": {
          "base_uri": "https://localhost:8080/",
          "height": 68
        }
      },
      "source": [
        "modaD = data.Dolares.mode()\n",
        "modaP = data.Pesos.mode()\n",
        "print(modaD,modaP)"
      ],
      "execution_count": 17,
      "outputs": [
        {
          "output_type": "stream",
          "text": [
            "0    3.0\n",
            "dtype: float64 0    56.43\n",
            "dtype: float64\n"
          ],
          "name": "stdout"
        }
      ]
    },
    {
      "cell_type": "code",
      "metadata": {
        "id": "R8pMzatDGhyX",
        "outputId": "c8404cc0-0426-4495-faff-3659c6385c7d",
        "colab": {
          "base_uri": "https://localhost:8080/",
          "height": 665
        }
      },
      "source": [
        "data['MediaP'] = float(mediaP)\n",
        "data['MedianaP'] = float(medianaP)\n",
        "data['ModaP'] = float(modaP)\n",
        "data"
      ],
      "execution_count": 18,
      "outputs": [
        {
          "output_type": "stream",
          "text": [
            "/usr/local/lib/python3.6/dist-packages/ipykernel_launcher.py:1: SettingWithCopyWarning: \n",
            "A value is trying to be set on a copy of a slice from a DataFrame.\n",
            "Try using .loc[row_indexer,col_indexer] = value instead\n",
            "\n",
            "See the caveats in the documentation: https://pandas.pydata.org/pandas-docs/stable/user_guide/indexing.html#returning-a-view-versus-a-copy\n",
            "  \"\"\"Entry point for launching an IPython kernel.\n",
            "/usr/local/lib/python3.6/dist-packages/ipykernel_launcher.py:2: SettingWithCopyWarning: \n",
            "A value is trying to be set on a copy of a slice from a DataFrame.\n",
            "Try using .loc[row_indexer,col_indexer] = value instead\n",
            "\n",
            "See the caveats in the documentation: https://pandas.pydata.org/pandas-docs/stable/user_guide/indexing.html#returning-a-view-versus-a-copy\n",
            "  \n",
            "/usr/local/lib/python3.6/dist-packages/ipykernel_launcher.py:3: SettingWithCopyWarning: \n",
            "A value is trying to be set on a copy of a slice from a DataFrame.\n",
            "Try using .loc[row_indexer,col_indexer] = value instead\n",
            "\n",
            "See the caveats in the documentation: https://pandas.pydata.org/pandas-docs/stable/user_guide/indexing.html#returning-a-view-versus-a-copy\n",
            "  This is separate from the ipykernel package so we can avoid doing imports until\n"
          ],
          "name": "stderr"
        },
        {
          "output_type": "execute_result",
          "data": {
            "text/html": [
              "<div>\n",
              "<style scoped>\n",
              "    .dataframe tbody tr th:only-of-type {\n",
              "        vertical-align: middle;\n",
              "    }\n",
              "\n",
              "    .dataframe tbody tr th {\n",
              "        vertical-align: top;\n",
              "    }\n",
              "\n",
              "    .dataframe thead th {\n",
              "        text-align: right;\n",
              "    }\n",
              "</style>\n",
              "<table border=\"1\" class=\"dataframe\">\n",
              "  <thead>\n",
              "    <tr style=\"text-align: right;\">\n",
              "      <th></th>\n",
              "      <th>Pizzaria</th>\n",
              "      <th>Dolares</th>\n",
              "      <th>Pesos</th>\n",
              "      <th>MediaP</th>\n",
              "      <th>MedianaP</th>\n",
              "      <th>ModaP</th>\n",
              "    </tr>\n",
              "  </thead>\n",
              "  <tbody>\n",
              "    <tr>\n",
              "      <th>0</th>\n",
              "      <td>1</td>\n",
              "      <td>1.0</td>\n",
              "      <td>18.81</td>\n",
              "      <td>123.355</td>\n",
              "      <td>103.455</td>\n",
              "      <td>56.43</td>\n",
              "    </tr>\n",
              "    <tr>\n",
              "      <th>1</th>\n",
              "      <td>2</td>\n",
              "      <td>2.0</td>\n",
              "      <td>37.62</td>\n",
              "      <td>123.355</td>\n",
              "      <td>103.455</td>\n",
              "      <td>56.43</td>\n",
              "    </tr>\n",
              "    <tr>\n",
              "      <th>2</th>\n",
              "      <td>3</td>\n",
              "      <td>3.0</td>\n",
              "      <td>56.43</td>\n",
              "      <td>123.355</td>\n",
              "      <td>103.455</td>\n",
              "      <td>56.43</td>\n",
              "    </tr>\n",
              "    <tr>\n",
              "      <th>3</th>\n",
              "      <td>4</td>\n",
              "      <td>3.0</td>\n",
              "      <td>56.43</td>\n",
              "      <td>123.355</td>\n",
              "      <td>103.455</td>\n",
              "      <td>56.43</td>\n",
              "    </tr>\n",
              "    <tr>\n",
              "      <th>4</th>\n",
              "      <td>5</td>\n",
              "      <td>5.0</td>\n",
              "      <td>94.05</td>\n",
              "      <td>123.355</td>\n",
              "      <td>103.455</td>\n",
              "      <td>56.43</td>\n",
              "    </tr>\n",
              "    <tr>\n",
              "      <th>5</th>\n",
              "      <td>6</td>\n",
              "      <td>6.0</td>\n",
              "      <td>112.86</td>\n",
              "      <td>123.355</td>\n",
              "      <td>103.455</td>\n",
              "      <td>56.43</td>\n",
              "    </tr>\n",
              "    <tr>\n",
              "      <th>6</th>\n",
              "      <td>7</td>\n",
              "      <td>7.0</td>\n",
              "      <td>131.67</td>\n",
              "      <td>123.355</td>\n",
              "      <td>103.455</td>\n",
              "      <td>56.43</td>\n",
              "    </tr>\n",
              "    <tr>\n",
              "      <th>7</th>\n",
              "      <td>8</td>\n",
              "      <td>8.0</td>\n",
              "      <td>150.48</td>\n",
              "      <td>123.355</td>\n",
              "      <td>103.455</td>\n",
              "      <td>56.43</td>\n",
              "    </tr>\n",
              "    <tr>\n",
              "      <th>8</th>\n",
              "      <td>9</td>\n",
              "      <td>9.0</td>\n",
              "      <td>168.29</td>\n",
              "      <td>123.355</td>\n",
              "      <td>103.455</td>\n",
              "      <td>56.43</td>\n",
              "    </tr>\n",
              "    <tr>\n",
              "      <th>9</th>\n",
              "      <td>10</td>\n",
              "      <td>11.0</td>\n",
              "      <td>406.91</td>\n",
              "      <td>123.355</td>\n",
              "      <td>103.455</td>\n",
              "      <td>56.43</td>\n",
              "    </tr>\n",
              "  </tbody>\n",
              "</table>\n",
              "</div>"
            ],
            "text/plain": [
              "   Pizzaria  Dolares   Pesos   MediaP  MedianaP  ModaP\n",
              "0         1      1.0   18.81  123.355   103.455  56.43\n",
              "1         2      2.0   37.62  123.355   103.455  56.43\n",
              "2         3      3.0   56.43  123.355   103.455  56.43\n",
              "3         4      3.0   56.43  123.355   103.455  56.43\n",
              "4         5      5.0   94.05  123.355   103.455  56.43\n",
              "5         6      6.0  112.86  123.355   103.455  56.43\n",
              "6         7      7.0  131.67  123.355   103.455  56.43\n",
              "7         8      8.0  150.48  123.355   103.455  56.43\n",
              "8         9      9.0  168.29  123.355   103.455  56.43\n",
              "9        10     11.0  406.91  123.355   103.455  56.43"
            ]
          },
          "metadata": {
            "tags": []
          },
          "execution_count": 18
        }
      ]
    },
    {
      "cell_type": "code",
      "metadata": {
        "id": "9O8JhZ-FZweb",
        "outputId": "20b86e98-ef32-4d88-8f39-aeef17cc6c40",
        "colab": {
          "base_uri": "https://localhost:8080/",
          "height": 34
        }
      },
      "source": [
        "varD = data.Dolares.var()\n",
        "varP = data.Pesos.var()\n",
        "print(varD,varP)"
      ],
      "execution_count": 26,
      "outputs": [
        {
          "output_type": "stream",
          "text": [
            "10.722222222222221 12381.609294444448\n"
          ],
          "name": "stdout"
        }
      ]
    },
    {
      "cell_type": "code",
      "metadata": {
        "id": "qO7LBH9QaPkb",
        "outputId": "1e80bab2-6c21-4b28-9672-22d5c1b6f601",
        "colab": {
          "base_uri": "https://localhost:8080/",
          "height": 34
        }
      },
      "source": [
        "stdD = data.Dolares.std()\n",
        "stdP = data.Pesos.std()\n",
        "print(stdD,stdP)"
      ],
      "execution_count": 27,
      "outputs": [
        {
          "output_type": "stream",
          "text": [
            "3.2744804507314167 111.2726799104095\n"
          ],
          "name": "stdout"
        }
      ]
    },
    {
      "cell_type": "code",
      "metadata": {
        "id": "RI5edeXKacpx",
        "outputId": "17577ccf-e784-45a2-fe9e-57207eccccaa",
        "colab": {
          "base_uri": "https://localhost:8080/",
          "height": 34
        }
      },
      "source": [
        "cvD = stdD/mediaD\n",
        "cvP = stdP/mediaP\n",
        "print(cvD,cvP)"
      ],
      "execution_count": 29,
      "outputs": [
        {
          "output_type": "stream",
          "text": [
            "0.5953600819511666 0.9020524495189454\n"
          ],
          "name": "stdout"
        }
      ]
    },
    {
      "cell_type": "code",
      "metadata": {
        "id": "HM7ndH1CFQnf",
        "outputId": "8b645307-cc85-46de-de51-49a516ab3b74",
        "colab": {
          "base_uri": "https://localhost:8080/",
          "height": 483
        }
      },
      "source": [
        "plt.rcParams['figure.figsize'] = (10,8)\n",
        "plt.scatter(data.Pizzaria,data.Pesos,c='b')\n",
        "plt.plot(data.Pizzaria,data.MediaP,c='r')\n",
        "plt.plot(data.Pizzaria,data.MedianaP,c='g')\n",
        "plt.show()"
      ],
      "execution_count": 30,
      "outputs": [
        {
          "output_type": "display_data",
          "data": {
            "image/png": "[encoded data removed]",
            "text/plain": [
              "<Figure size 720x576 with 1 Axes>"
            ]
          },
          "metadata": {
            "tags": [],
            "needs_background": "light"
          }
        }
      ]
    }
  ]
}