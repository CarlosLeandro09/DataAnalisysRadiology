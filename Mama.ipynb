{
  "nbformat": 4,
  "nbformat_minor": 0,
  "metadata": {
    "colab": {
      "provenance": [],
      "authorship_tag": "ABX9TyPjNVWihyeVa7fUsAlQYTh8",
      "include_colab_link": true
    },
    "kernelspec": {
      "name": "python3",
      "display_name": "Python 3"
    },
    "language_info": {
      "name": "python"
    }
  },
  "cells": [
    {
      "cell_type": "markdown",
      "metadata": {
        "id": "view-in-github",
        "colab_type": "text"
      },
      "source": [
        "<a href=\"https://colab.research.google.com/github/CarlosLeandro09/DataAnalysisRadiology/blob/main/Mama.ipynb\" target=\"_parent\"><img src=\"https://colab.research.google.com/assets/colab-badge.svg\" alt=\"Open In Colab\"/></a>"
      ]
    },
    {
      "cell_type": "code",
      "execution_count": null,
      "metadata": {
        "colab": {
          "base_uri": "https://localhost:8080/"
        },
        "id": "02OwS0YprMfY",
        "outputId": "f529af62-c28b-4477-dfeb-80e57c187864"
      },
      "outputs": [
        {
          "output_type": "stream",
          "name": "stdout",
          "text": [
            "Looking in indexes: https://pypi.org/simple, https://us-python.pkg.dev/colab-wheels/public/simple/\n",
            "Requirement already satisfied: pydicom in /usr/local/lib/python3.7/dist-packages (2.3.1)\n"
          ]
        }
      ],
      "source": [
        "!pip install pydicom"
      ]
    },
    {
      "cell_type": "code",
      "source": [
        "!pip install tqdm"
      ],
      "metadata": {
        "colab": {
          "base_uri": "https://localhost:8080/"
        },
        "id": "hrqc33F6rgkW",
        "outputId": "a087a511-1552-418a-edfd-82958d9d96d5"
      },
      "execution_count": null,
      "outputs": [
        {
          "output_type": "stream",
          "name": "stdout",
          "text": [
            "Looking in indexes: https://pypi.org/simple, https://us-python.pkg.dev/colab-wheels/public/simple/\n",
            "Requirement already satisfied: tqdm in /usr/local/lib/python3.7/dist-packages (4.64.1)\n"
          ]
        }
      ]
    },
    {
      "cell_type": "code",
      "source": [
        "import cv2\n",
        "import matplotlib.pyplot as plt\n",
        "from matplotlib import pyplot\n",
        "from tqdm import tqdm\n",
        "import numpy as np\n",
        "import seaborn\n",
        "import seaborn as sns\n",
        "import pydicom as dicom"
      ],
      "metadata": {
        "colab": {
          "base_uri": "https://localhost:8080/"
        },
        "id": "yfB-zk26rPQX",
        "outputId": "d3d66018-5eac-4f46-d71e-217165fc5a82"
      },
      "execution_count": null,
      "outputs": [
        {
          "output_type": "stream",
          "name": "stdout",
          "text": [
            "env: SM_FRAMEWORK=tf.keras\n"
          ]
        }
      ]
    },
    {
      "cell_type": "code",
      "source": [
        "image1=dicom.dcmread('/content/mama00001.dcm')\n",
        "np_pixel_array1 = image1.pixel_array\n",
        "plt.imsave('imagem.png', np_pixel_array1, cmap='gray')\n",
        "im = cv2.imread('./imagem.png',1)"
      ],
      "metadata": {
        "id": "0LnZN4-8r66K"
      },
      "execution_count": null,
      "outputs": []
    },
    {
      "cell_type": "code",
      "source": [
        "gray = im\n",
        "gray = im[:,:,1]\n",
        "blur = cv2.GaussianBlur(gray, (3,3), 0)\n",
        "ret,thresh1 = cv2.threshold(blur, 25, 255, 0)\n",
        "plt.imshow(thresh1)"
      ],
      "metadata": {
        "id": "9Xuj3jUB85c0",
        "colab": {
          "base_uri": "https://localhost:8080/",
          "height": 286
        },
        "outputId": "72a9cf13-ae94-4ab3-9062-ca72533eba5c"
      },
      "execution_count": null,
      "outputs": [
        {
          "output_type": "execute_result",
          "data": {
            "text/plain": [
              "<matplotlib.image.AxesImage at 0x7f738f620750>"
            ]
          },
          "metadata": {},
          "execution_count": 42
        },
        {
          "output_type": "display_data",
          "data": {
            "text/plain": [
              "<Figure size 432x288 with 1 Axes>"
            ],
            "image/png": "[encoded data removed]"
          },
          "metadata": {
            "needs_background": "light"
          }
        }
      ]
    },
    {
      "cell_type": "code",
      "source": [
        "count = 0\n",
        "for x in range(0,len(thresh1[0])):\n",
        "  for y in range(0,len(thresh1[1])):\n",
        "    if thresh1[x,y] != 0:\n",
        "      thresh1[x,y] == (255,255)\n",
        "      count +=1\n",
        "print(count)\n",
        "plt.imshow(thresh1, cmap = \"cool\")"
      ],
      "metadata": {
        "colab": {
          "base_uri": "https://localhost:8080/",
          "height": 304
        },
        "id": "RlLLsTiP7Oz2",
        "outputId": "00de38ea-d6d7-4e41-b882-017d797bc8ba"
      },
      "execution_count": null,
      "outputs": [
        {
          "output_type": "stream",
          "name": "stdout",
          "text": [
            "6930687\n"
          ]
        },
        {
          "output_type": "execute_result",
          "data": {
            "text/plain": [
              "<matplotlib.image.AxesImage at 0x7f738f5504d0>"
            ]
          },
          "metadata": {},
          "execution_count": 43
        },
        {
          "output_type": "display_data",
          "data": {
            "text/plain": [
              "<Figure size 432x288 with 1 Axes>"
            ],
            "image/png": "[encoded data removed]"
          },
          "metadata": {
            "needs_background": "light"
          }
        }
      ]
    },
    {
      "cell_type": "code",
      "source": [
        "x_cassete = 24\n",
        "y_cassete = 30\n",
        "\n",
        "x_pixel = x_cassete/(thresh1.shape[1])\n",
        "y_pixel = y_cassete/(thresh1.shape[0])\n",
        "\n",
        "area_pixel = x_pixel*y_pixel\n",
        "area_mama = area_pixel*count\n",
        "forca = 18\n",
        "\n",
        "press_mama = 10*((forca*(9.80665))/area_mama)\n",
        "\n",
        "print(\"A área da mama é: \" + str(area_mama) + \" cm^2\")\n",
        "print(\"A pressão na mama é: \" + str(press_mama) + \" kPa\")"
      ],
      "metadata": {
        "colab": {
          "base_uri": "https://localhost:8080/"
        },
        "id": "zRVsdtN_AMsZ",
        "outputId": "cf2030cc-3715-4308-a032-d9be25e14e74"
      },
      "execution_count": null,
      "outputs": [
        {
          "output_type": "stream",
          "name": "stdout",
          "text": [
            "A área da mama é: 181.29159418773457 cm^2\n",
            "A pressão na mama é: 9.736783483585395 kPa\n"
          ]
        }
      ]
    },
    {
      "cell_type": "code",
      "source": [],
      "metadata": {
        "id": "fsMsRbxqF1S0"
      },
      "execution_count": null,
      "outputs": []
    }
  ]
}