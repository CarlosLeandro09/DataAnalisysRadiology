{
  "nbformat": 4,
  "nbformat_minor": 0,
  "metadata": {
    "colab": {
      "name": "IFBA_Estatistica_básica.ipynb",
      "provenance": [],
      "collapsed_sections": [],
      "authorship_tag": "ABX9TyOeo9EtI6fAQQe5ifw38BbV",
      "include_colab_link": true
    },
    "kernelspec": {
      "name": "python3",
      "display_name": "Python 3"
    }
  },
  "cells": [
    {
      "cell_type": "markdown",
      "metadata": {
        "id": "view-in-github",
        "colab_type": "text"
      },
      "source": [
        "<a href=\"https://colab.research.google.com/github/CarlosLeandro09/DataAnalysisRadiology/blob/main/IFBA_Estatistica_b%C3%A1sica.ipynb\" target=\"_parent\"><img src=\"https://colab.research.google.com/assets/colab-badge.svg\" alt=\"Open In Colab\"/></a>"
      ]
    },
    {
      "cell_type": "markdown",
      "metadata": {
        "id": "XbrGbdPeB1lJ"
      },
      "source": [
        "# **1. Impotando bibliotecas úteis**"
      ]
    },
    {
      "cell_type": "code",
      "metadata": {
        "id": "lcj3y7ZCBz7y"
      },
      "source": [
        "import pandas as pd\n",
        "import numpy as np\n",
        "import matplotlib.pyplot as plt"
      ],
      "execution_count": null,
      "outputs": []
    },
    {
      "cell_type": "markdown",
      "metadata": {
        "id": "36DfTMoSB1Fp"
      },
      "source": [
        "# **2. Criando Dataframe**"
      ]
    },
    {
      "cell_type": "code",
      "metadata": {
        "id": "VKMNOzByDFuZ"
      },
      "source": [
        "df = pd.DataFrame({'Pizzaria':[1,2,3,4,5,6,7,8,9,10,11],'Dolares':[1,2,3,3,5,6,7,8,9,11,np.nan],'Pesos':[18.81, 37.62, 56.43, 56.43, 94.05, 112.86, 131.67, 150.48, 168.29, 406.91,np.nan]})\n",
        "df"
      ],
      "execution_count": null,
      "outputs": []
    },
    {
      "cell_type": "markdown",
      "metadata": {
        "id": "P-Qxd01_GF-X"
      },
      "source": [
        "# **3. Limpeza de dados**"
      ]
    },
    {
      "cell_type": "code",
      "metadata": {
        "id": "zvWalKaWGNus"
      },
      "source": [
        "data = df.dropna()\n",
        "data"
      ],
      "execution_count": null,
      "outputs": []
    },
    {
      "cell_type": "markdown",
      "metadata": {
        "id": "hl02jvvcF2FH"
      },
      "source": [
        "# **4. Analisando DF**"
      ]
    },
    {
      "cell_type": "code",
      "metadata": {
        "id": "9NJWgbLtER65"
      },
      "source": [
        "mediaD = data.Dolares.mean()\n",
        "mediaP = data.Pesos.mean()\n",
        "print(mediaD,mediaP)"
      ],
      "execution_count": null,
      "outputs": []
    },
    {
      "cell_type": "code",
      "metadata": {
        "id": "P4VOwaWrEgkw"
      },
      "source": [
        "medianaD = data.Dolares.median()\n",
        "medianaP = data.Pesos.median()\n",
        "print(medianaD,medianaP)"
      ],
      "execution_count": null,
      "outputs": []
    },
    {
      "cell_type": "code",
      "metadata": {
        "id": "EQdui4dbE88v"
      },
      "source": [
        "modaD = data.Dolares.mode()\n",
        "modaP = data.Pesos.mode()\n",
        "print(modaD,modaP)"
      ],
      "execution_count": null,
      "outputs": []
    },
    {
      "cell_type": "code",
      "metadata": {
        "id": "R8pMzatDGhyX"
      },
      "source": [
        "data['MediaP'] = float(mediaP)\n",
        "data['MedianaP'] = float(medianaP)\n",
        "data['ModaP'] = float(modaP)\n",
        "data"
      ],
      "execution_count": null,
      "outputs": []
    },
    {
      "cell_type": "code",
      "metadata": {
        "id": "9O8JhZ-FZweb"
      },
      "source": [
        "varD = data.Dolares.var()\n",
        "varP = data.Pesos.var()\n",
        "print(varD,varP)"
      ],
      "execution_count": null,
      "outputs": []
    },
    {
      "cell_type": "code",
      "metadata": {
        "id": "qO7LBH9QaPkb"
      },
      "source": [
        "stdD = data.Dolares.std()\n",
        "stdP = data.Pesos.std()\n",
        "print(stdD,stdP)"
      ],
      "execution_count": null,
      "outputs": []
    },
    {
      "cell_type": "code",
      "metadata": {
        "id": "RI5edeXKacpx"
      },
      "source": [
        "cvD = stdD/mediaD\n",
        "cvP = stdP/mediaP\n",
        "print(cvD,cvP)"
      ],
      "execution_count": null,
      "outputs": []
    },
    {
      "cell_type": "code",
      "metadata": {
        "id": "HM7ndH1CFQnf"
      },
      "source": [
        "plt.rcParams['figure.figsize'] = (10,8)\n",
        "plt.scatter(data.Pizzaria,data.Pesos,c='b')\n",
        "plt.plot(data.Pizzaria,data.MediaP,c='r')\n",
        "plt.plot(data.Pizzaria,data.MedianaP,c='g')\n",
        "plt.show()"
      ],
      "execution_count": null,
      "outputs": []
    }
  ]
}
