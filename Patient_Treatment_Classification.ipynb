{
  "nbformat": 4,
  "nbformat_minor": 0,
  "metadata": {
    "colab": {
      "provenance": [],
      "authorship_tag": "ABX9TyP1TJvrWSipxzMjQj+CueKZ",
      "include_colab_link": true
    },
    "kernelspec": {
      "name": "python3",
      "display_name": "Python 3"
    }
  },
  "cells": [
    {
      "cell_type": "markdown",
      "metadata": {
        "id": "view-in-github",
        "colab_type": "text"
      },
      "source": [
        "<a href=\"https://colab.research.google.com/github/CarlosLeandro09/DataAnalysisRadiology/blob/main/Patient_Treatment_Classification.ipynb\" target=\"_parent\"><img src=\"https://colab.research.google.com/assets/colab-badge.svg\" alt=\"Open In Colab\"/></a>"
      ]
    },
    {
      "cell_type": "markdown",
      "source": [
        "I don't remenber if it's mine rsrs"
      ],
      "metadata": {
        "id": "zaI4-a7VDYvH"
      }
    },
    {
      "cell_type": "markdown",
      "metadata": {
        "id": "DXyX3XgO-PVr"
      },
      "source": [
        "# **Initial observations:**\n",
        "\n",
        "*   This notebook is focused on providing *tools* for building and avaluating models.\n",
        "*   Relative to the model applied to the worked dataset there is *no great concern with accuracy*."
      ]
    },
    {
      "cell_type": "markdown",
      "metadata": {
        "id": "vbC7b0aomM40"
      },
      "source": [
        "# **1. Let's import the relevant packages**"
      ]
    },
    {
      "cell_type": "code",
      "metadata": {
        "id": "MnN_6_awlMew"
      },
      "source": [
        "import pandas as pd\n",
        "import numpy as np\n",
        "\n",
        "from sklearn.impute import SimpleImputer\n",
        "from sklearn.preprocessing import StandardScaler\n",
        "from sklearn.preprocessing import OneHotEncoder, LabelEncoder\n",
        "from sklearn.compose import ColumnTransformer\n",
        "from sklearn.tree import DecisionTreeClassifier\n",
        "from sklearn.naive_bayes import GaussianNB\n",
        "from sklearn.linear_model import LogisticRegression\n",
        "from sklearn.svm import SVC\n",
        "from sklearn.neighbors import KNeighborsClassifier\n",
        "from sklearn.ensemble import RandomForestClassifier\n",
        "from sklearn.neural_network import MLPClassifier\n",
        "from sklearn.model_selection import StratifiedKFold\n",
        "from sklearn.metrics import confusion_matrix, recall_score, precision_score, accuracy_score, f1_score,roc_auc_score\n",
        "\n",
        "from statistics import mean\n",
        "import pickle"
      ],
      "execution_count": null,
      "outputs": []
    },
    {
      "cell_type": "markdown",
      "metadata": {
        "id": "jcQkQYIDnGCk"
      },
      "source": [
        "# **2. We have also import our dataset and spend time analyzing**"
      ]
    },
    {
      "cell_type": "markdown",
      "metadata": {
        "id": "786Z8JiTLLDu"
      },
      "source": [
        "This dataset was downloaded from Mendeley Data.\n",
        "\n",
        "Sadikin, Mujiono (2020), “EHR Dataset for Patient Treatment Classification”, Mendeley Data, V1, doi: 10.17632/7kv3rctx7m.1\n",
        "\n",
        "About: \"The dataset is Electronic Health Record Predicting collected from a private Hospital in Indonesia.It contains the patient's laboratory test results used to determine next patient treatment whether in care or out care.\"\n",
        "\n",
        "Source: https://www.kaggle.com/manishkc06/patient-treatment-classification"
      ]
    },
    {
      "cell_type": "code",
      "metadata": {
        "colab": {
          "base_uri": "https://localhost:8080/",
          "height": 204
        },
        "id": "z0dwXeURmKuU",
        "outputId": "4bd740ce-2c4b-4997-b60a-5d57728ca87d"
      },
      "source": [
        "data = pd.read_csv('Patient_Treatment_Classification.csv')\n",
        "data.head()"
      ],
      "execution_count": null,
      "outputs": [
        {
          "output_type": "execute_result",
          "data": {
            "text/html": [
              "<div>\n",
              "<style scoped>\n",
              "    .dataframe tbody tr th:only-of-type {\n",
              "        vertical-align: middle;\n",
              "    }\n",
              "\n",
              "    .dataframe tbody tr th {\n",
              "        vertical-align: top;\n",
              "    }\n",
              "\n",
              "    .dataframe thead th {\n",
              "        text-align: right;\n",
              "    }\n",
              "</style>\n",
              "<table border=\"1\" class=\"dataframe\">\n",
              "  <thead>\n",
              "    <tr style=\"text-align: right;\">\n",
              "      <th></th>\n",
              "      <th>HAEMATOCRIT</th>\n",
              "      <th>HAEMOGLOBINS</th>\n",
              "      <th>ERYTHROCYTE</th>\n",
              "      <th>LEUCOCYTE</th>\n",
              "      <th>THROMBOCYTE</th>\n",
              "      <th>MCH</th>\n",
              "      <th>MCHC</th>\n",
              "      <th>MCV</th>\n",
              "      <th>AGE</th>\n",
              "      <th>SEX</th>\n",
              "      <th>SOURCE</th>\n",
              "    </tr>\n",
              "  </thead>\n",
              "  <tbody>\n",
              "    <tr>\n",
              "      <th>0</th>\n",
              "      <td>33.8</td>\n",
              "      <td>11.1</td>\n",
              "      <td>4.18</td>\n",
              "      <td>4.6</td>\n",
              "      <td>150</td>\n",
              "      <td>26.6</td>\n",
              "      <td>32.8</td>\n",
              "      <td>80.9</td>\n",
              "      <td>33</td>\n",
              "      <td>F</td>\n",
              "      <td>1</td>\n",
              "    </tr>\n",
              "    <tr>\n",
              "      <th>1</th>\n",
              "      <td>44.6</td>\n",
              "      <td>14.0</td>\n",
              "      <td>6.86</td>\n",
              "      <td>6.3</td>\n",
              "      <td>232</td>\n",
              "      <td>20.4</td>\n",
              "      <td>31.4</td>\n",
              "      <td>65.0</td>\n",
              "      <td>36</td>\n",
              "      <td>M</td>\n",
              "      <td>0</td>\n",
              "    </tr>\n",
              "    <tr>\n",
              "      <th>2</th>\n",
              "      <td>42.9</td>\n",
              "      <td>14.0</td>\n",
              "      <td>4.57</td>\n",
              "      <td>6.2</td>\n",
              "      <td>336</td>\n",
              "      <td>30.6</td>\n",
              "      <td>32.6</td>\n",
              "      <td>93.9</td>\n",
              "      <td>70</td>\n",
              "      <td>F</td>\n",
              "      <td>0</td>\n",
              "    </tr>\n",
              "    <tr>\n",
              "      <th>3</th>\n",
              "      <td>41.9</td>\n",
              "      <td>14.4</td>\n",
              "      <td>4.67</td>\n",
              "      <td>3.5</td>\n",
              "      <td>276</td>\n",
              "      <td>30.8</td>\n",
              "      <td>34.4</td>\n",
              "      <td>89.7</td>\n",
              "      <td>18</td>\n",
              "      <td>F</td>\n",
              "      <td>0</td>\n",
              "    </tr>\n",
              "    <tr>\n",
              "      <th>4</th>\n",
              "      <td>40.6</td>\n",
              "      <td>13.3</td>\n",
              "      <td>4.85</td>\n",
              "      <td>14.9</td>\n",
              "      <td>711</td>\n",
              "      <td>27.4</td>\n",
              "      <td>32.8</td>\n",
              "      <td>83.7</td>\n",
              "      <td>36</td>\n",
              "      <td>M</td>\n",
              "      <td>0</td>\n",
              "    </tr>\n",
              "  </tbody>\n",
              "</table>\n",
              "</div>"
            ],
            "text/plain": [
              "   HAEMATOCRIT  HAEMOGLOBINS  ERYTHROCYTE  LEUCOCYTE  ...   MCV  AGE  SEX  SOURCE\n",
              "0         33.8          11.1         4.18        4.6  ...  80.9   33    F       1\n",
              "1         44.6          14.0         6.86        6.3  ...  65.0   36    M       0\n",
              "2         42.9          14.0         4.57        6.2  ...  93.9   70    F       0\n",
              "3         41.9          14.4         4.67        3.5  ...  89.7   18    F       0\n",
              "4         40.6          13.3         4.85       14.9  ...  83.7   36    M       0\n",
              "\n",
              "[5 rows x 11 columns]"
            ]
          },
          "metadata": {
            "tags": []
          },
          "execution_count": 3
        }
      ]
    },
    {
      "cell_type": "markdown",
      "metadata": {
        "id": "OI5KWW-9MwXN"
      },
      "source": [
        "In this section we must do the statistical analysis of the dataset.\n",
        "\n",
        "Note that there are children and adults."
      ]
    },
    {
      "cell_type": "code",
      "metadata": {
        "colab": {
          "base_uri": "https://localhost:8080/",
          "height": 317
        },
        "id": "QWuUEns_nwMd",
        "outputId": "0bbda239-7b82-4528-df2d-42abeeb401be"
      },
      "source": [
        "data.describe()"
      ],
      "execution_count": null,
      "outputs": [
        {
          "output_type": "execute_result",
          "data": {
            "text/html": [
              "<div>\n",
              "<style scoped>\n",
              "    .dataframe tbody tr th:only-of-type {\n",
              "        vertical-align: middle;\n",
              "    }\n",
              "\n",
              "    .dataframe tbody tr th {\n",
              "        vertical-align: top;\n",
              "    }\n",
              "\n",
              "    .dataframe thead th {\n",
              "        text-align: right;\n",
              "    }\n",
              "</style>\n",
              "<table border=\"1\" class=\"dataframe\">\n",
              "  <thead>\n",
              "    <tr style=\"text-align: right;\">\n",
              "      <th></th>\n",
              "      <th>HAEMATOCRIT</th>\n",
              "      <th>HAEMOGLOBINS</th>\n",
              "      <th>ERYTHROCYTE</th>\n",
              "      <th>LEUCOCYTE</th>\n",
              "      <th>THROMBOCYTE</th>\n",
              "      <th>MCH</th>\n",
              "      <th>MCHC</th>\n",
              "      <th>MCV</th>\n",
              "      <th>AGE</th>\n",
              "      <th>SOURCE</th>\n",
              "    </tr>\n",
              "  </thead>\n",
              "  <tbody>\n",
              "    <tr>\n",
              "      <th>count</th>\n",
              "      <td>3309.000000</td>\n",
              "      <td>3309.000000</td>\n",
              "      <td>3309.000000</td>\n",
              "      <td>3309.000000</td>\n",
              "      <td>3309.000000</td>\n",
              "      <td>3309.000000</td>\n",
              "      <td>3309.000000</td>\n",
              "      <td>3309.000000</td>\n",
              "      <td>3309.000000</td>\n",
              "      <td>3309.000000</td>\n",
              "    </tr>\n",
              "    <tr>\n",
              "      <th>mean</th>\n",
              "      <td>38.226111</td>\n",
              "      <td>12.749350</td>\n",
              "      <td>4.544802</td>\n",
              "      <td>8.715533</td>\n",
              "      <td>258.893019</td>\n",
              "      <td>28.230039</td>\n",
              "      <td>33.336476</td>\n",
              "      <td>84.611333</td>\n",
              "      <td>46.644303</td>\n",
              "      <td>0.398005</td>\n",
              "    </tr>\n",
              "    <tr>\n",
              "      <th>std</th>\n",
              "      <td>5.971943</td>\n",
              "      <td>2.084325</td>\n",
              "      <td>0.784510</td>\n",
              "      <td>4.991299</td>\n",
              "      <td>112.676139</td>\n",
              "      <td>2.696520</td>\n",
              "      <td>1.247055</td>\n",
              "      <td>6.916079</td>\n",
              "      <td>21.874106</td>\n",
              "      <td>0.489561</td>\n",
              "    </tr>\n",
              "    <tr>\n",
              "      <th>min</th>\n",
              "      <td>13.700000</td>\n",
              "      <td>3.800000</td>\n",
              "      <td>1.480000</td>\n",
              "      <td>1.100000</td>\n",
              "      <td>10.000000</td>\n",
              "      <td>14.900000</td>\n",
              "      <td>26.000000</td>\n",
              "      <td>54.000000</td>\n",
              "      <td>1.000000</td>\n",
              "      <td>0.000000</td>\n",
              "    </tr>\n",
              "    <tr>\n",
              "      <th>25%</th>\n",
              "      <td>34.300000</td>\n",
              "      <td>11.400000</td>\n",
              "      <td>4.040000</td>\n",
              "      <td>5.700000</td>\n",
              "      <td>191.000000</td>\n",
              "      <td>27.200000</td>\n",
              "      <td>32.700000</td>\n",
              "      <td>81.500000</td>\n",
              "      <td>29.000000</td>\n",
              "      <td>0.000000</td>\n",
              "    </tr>\n",
              "    <tr>\n",
              "      <th>50%</th>\n",
              "      <td>38.700000</td>\n",
              "      <td>12.900000</td>\n",
              "      <td>4.580000</td>\n",
              "      <td>7.600000</td>\n",
              "      <td>257.000000</td>\n",
              "      <td>28.700000</td>\n",
              "      <td>33.400000</td>\n",
              "      <td>85.300000</td>\n",
              "      <td>48.000000</td>\n",
              "      <td>0.000000</td>\n",
              "    </tr>\n",
              "    <tr>\n",
              "      <th>75%</th>\n",
              "      <td>42.500000</td>\n",
              "      <td>14.200000</td>\n",
              "      <td>5.060000</td>\n",
              "      <td>10.300000</td>\n",
              "      <td>322.000000</td>\n",
              "      <td>29.800000</td>\n",
              "      <td>34.100000</td>\n",
              "      <td>88.800000</td>\n",
              "      <td>64.000000</td>\n",
              "      <td>1.000000</td>\n",
              "    </tr>\n",
              "    <tr>\n",
              "      <th>max</th>\n",
              "      <td>69.000000</td>\n",
              "      <td>18.900000</td>\n",
              "      <td>7.860000</td>\n",
              "      <td>76.600000</td>\n",
              "      <td>1121.000000</td>\n",
              "      <td>40.800000</td>\n",
              "      <td>38.400000</td>\n",
              "      <td>115.600000</td>\n",
              "      <td>99.000000</td>\n",
              "      <td>1.000000</td>\n",
              "    </tr>\n",
              "  </tbody>\n",
              "</table>\n",
              "</div>"
            ],
            "text/plain": [
              "       HAEMATOCRIT  HAEMOGLOBINS  ...          AGE       SOURCE\n",
              "count  3309.000000   3309.000000  ...  3309.000000  3309.000000\n",
              "mean     38.226111     12.749350  ...    46.644303     0.398005\n",
              "std       5.971943      2.084325  ...    21.874106     0.489561\n",
              "min      13.700000      3.800000  ...     1.000000     0.000000\n",
              "25%      34.300000     11.400000  ...    29.000000     0.000000\n",
              "50%      38.700000     12.900000  ...    48.000000     0.000000\n",
              "75%      42.500000     14.200000  ...    64.000000     1.000000\n",
              "max      69.000000     18.900000  ...    99.000000     1.000000\n",
              "\n",
              "[8 rows x 10 columns]"
            ]
          },
          "metadata": {
            "tags": []
          },
          "execution_count": 4
        }
      ]
    },
    {
      "cell_type": "markdown",
      "metadata": {
        "id": "TsAffG6DNrA0"
      },
      "source": [
        "It is important to note the format of each column for later need."
      ]
    },
    {
      "cell_type": "code",
      "metadata": {
        "colab": {
          "base_uri": "https://localhost:8080/"
        },
        "id": "BVk5GVz6s9Yl",
        "outputId": "ff7f2f99-9b0b-4d2f-ee20-1dfe4d6f8db1"
      },
      "source": [
        "data.dtypes"
      ],
      "execution_count": null,
      "outputs": [
        {
          "output_type": "execute_result",
          "data": {
            "text/plain": [
              "HAEMATOCRIT     float64\n",
              "HAEMOGLOBINS    float64\n",
              "ERYTHROCYTE     float64\n",
              "LEUCOCYTE       float64\n",
              "THROMBOCYTE       int64\n",
              "MCH             float64\n",
              "MCHC            float64\n",
              "MCV             float64\n",
              "AGE               int64\n",
              "SEX              object\n",
              "SOURCE            int64\n",
              "dtype: object"
            ]
          },
          "metadata": {
            "tags": []
          },
          "execution_count": 5
        }
      ]
    },
    {
      "cell_type": "markdown",
      "metadata": {
        "id": "y0zKSLf_noMu"
      },
      "source": [
        "# **3. Let's process the data and define attributes**\n",
        "\n",
        "\n",
        "1.   The prediction will be executed only to adult people (>=18).\n",
        "2.   The other attributes must be positive and a number.\n",
        "3. Remenber! We have numerical and categorical attributes.\n",
        "\n",
        "\n",
        "\n",
        "\n",
        "\n"
      ]
    },
    {
      "cell_type": "code",
      "metadata": {
        "colab": {
          "base_uri": "https://localhost:8080/"
        },
        "id": "9RWFrBMdokZ9",
        "outputId": "28f29432-74ec-4e7e-8fb2-1dbd66828090"
      },
      "source": [
        "columns = data.columns\n",
        "columns"
      ],
      "execution_count": null,
      "outputs": [
        {
          "output_type": "execute_result",
          "data": {
            "text/plain": [
              "Index(['HAEMATOCRIT', 'HAEMOGLOBINS', 'ERYTHROCYTE', 'LEUCOCYTE',\n",
              "       'THROMBOCYTE', 'MCH', 'MCHC', 'MCV', 'AGE', 'SEX', 'SOURCE'],\n",
              "      dtype='object')"
            ]
          },
          "metadata": {
            "tags": []
          },
          "execution_count": 6
        }
      ]
    },
    {
      "cell_type": "markdown",
      "metadata": {
        "id": "fWYPtmdhOGWx"
      },
      "source": [
        "Pay attention again on column AGE. We have only adults!"
      ]
    },
    {
      "cell_type": "code",
      "metadata": {
        "colab": {
          "base_uri": "https://localhost:8080/",
          "height": 317
        },
        "id": "kaJ1j1grsg13",
        "outputId": "51f12d0f-5597-4fc7-eb6f-854535af8b85"
      },
      "source": [
        "columns_changed = ['HAEMATOCRIT', 'HAEMOGLOBINS', 'ERYTHROCYTE', 'LEUCOCYTE', 'THROMBOCYTE', 'MCH', 'MCHC', 'MCV', 'AGE', 'SOURCE']\n",
        "for i in columns_changed:\n",
        "  if i != 'AGE':\n",
        "    data.drop(data[data[i] < 0].index, inplace=True)\n",
        "  else:\n",
        "    data.drop(data[data[i] < 18].index, inplace=True)\n",
        "data.describe()"
      ],
      "execution_count": null,
      "outputs": [
        {
          "output_type": "execute_result",
          "data": {
            "text/html": [
              "<div>\n",
              "<style scoped>\n",
              "    .dataframe tbody tr th:only-of-type {\n",
              "        vertical-align: middle;\n",
              "    }\n",
              "\n",
              "    .dataframe tbody tr th {\n",
              "        vertical-align: top;\n",
              "    }\n",
              "\n",
              "    .dataframe thead th {\n",
              "        text-align: right;\n",
              "    }\n",
              "</style>\n",
              "<table border=\"1\" class=\"dataframe\">\n",
              "  <thead>\n",
              "    <tr style=\"text-align: right;\">\n",
              "      <th></th>\n",
              "      <th>HAEMATOCRIT</th>\n",
              "      <th>HAEMOGLOBINS</th>\n",
              "      <th>ERYTHROCYTE</th>\n",
              "      <th>LEUCOCYTE</th>\n",
              "      <th>THROMBOCYTE</th>\n",
              "      <th>MCH</th>\n",
              "      <th>MCHC</th>\n",
              "      <th>MCV</th>\n",
              "      <th>AGE</th>\n",
              "      <th>SOURCE</th>\n",
              "    </tr>\n",
              "  </thead>\n",
              "  <tbody>\n",
              "    <tr>\n",
              "      <th>count</th>\n",
              "      <td>2971.000000</td>\n",
              "      <td>2971.000000</td>\n",
              "      <td>2971.000000</td>\n",
              "      <td>2971.000000</td>\n",
              "      <td>2971.000000</td>\n",
              "      <td>2971.000000</td>\n",
              "      <td>2971.000000</td>\n",
              "      <td>2971.000000</td>\n",
              "      <td>2971.000000</td>\n",
              "      <td>2971.000000</td>\n",
              "    </tr>\n",
              "    <tr>\n",
              "      <th>mean</th>\n",
              "      <td>38.183945</td>\n",
              "      <td>12.740424</td>\n",
              "      <td>4.500074</td>\n",
              "      <td>8.834197</td>\n",
              "      <td>260.722316</td>\n",
              "      <td>28.475564</td>\n",
              "      <td>33.348435</td>\n",
              "      <td>85.318411</td>\n",
              "      <td>50.964322</td>\n",
              "      <td>0.401885</td>\n",
              "    </tr>\n",
              "    <tr>\n",
              "      <th>std</th>\n",
              "      <td>6.125176</td>\n",
              "      <td>2.139588</td>\n",
              "      <td>0.792586</td>\n",
              "      <td>5.036751</td>\n",
              "      <td>112.754816</td>\n",
              "      <td>2.636728</td>\n",
              "      <td>1.261048</td>\n",
              "      <td>6.695162</td>\n",
              "      <td>18.629294</td>\n",
              "      <td>0.490361</td>\n",
              "    </tr>\n",
              "    <tr>\n",
              "      <th>min</th>\n",
              "      <td>13.700000</td>\n",
              "      <td>3.800000</td>\n",
              "      <td>1.480000</td>\n",
              "      <td>1.100000</td>\n",
              "      <td>10.000000</td>\n",
              "      <td>14.900000</td>\n",
              "      <td>26.000000</td>\n",
              "      <td>54.000000</td>\n",
              "      <td>18.000000</td>\n",
              "      <td>0.000000</td>\n",
              "    </tr>\n",
              "    <tr>\n",
              "      <th>25%</th>\n",
              "      <td>34.100000</td>\n",
              "      <td>11.300000</td>\n",
              "      <td>3.980000</td>\n",
              "      <td>5.800000</td>\n",
              "      <td>195.000000</td>\n",
              "      <td>27.600000</td>\n",
              "      <td>32.700000</td>\n",
              "      <td>82.600000</td>\n",
              "      <td>34.000000</td>\n",
              "      <td>0.000000</td>\n",
              "    </tr>\n",
              "    <tr>\n",
              "      <th>50%</th>\n",
              "      <td>38.700000</td>\n",
              "      <td>12.900000</td>\n",
              "      <td>4.520000</td>\n",
              "      <td>7.700000</td>\n",
              "      <td>258.000000</td>\n",
              "      <td>28.900000</td>\n",
              "      <td>33.400000</td>\n",
              "      <td>85.900000</td>\n",
              "      <td>52.000000</td>\n",
              "      <td>0.000000</td>\n",
              "    </tr>\n",
              "    <tr>\n",
              "      <th>75%</th>\n",
              "      <td>42.600000</td>\n",
              "      <td>14.300000</td>\n",
              "      <td>5.010000</td>\n",
              "      <td>10.400000</td>\n",
              "      <td>322.000000</td>\n",
              "      <td>30.000000</td>\n",
              "      <td>34.100000</td>\n",
              "      <td>89.100000</td>\n",
              "      <td>66.000000</td>\n",
              "      <td>1.000000</td>\n",
              "    </tr>\n",
              "    <tr>\n",
              "      <th>max</th>\n",
              "      <td>69.000000</td>\n",
              "      <td>18.900000</td>\n",
              "      <td>7.860000</td>\n",
              "      <td>76.600000</td>\n",
              "      <td>1121.000000</td>\n",
              "      <td>40.800000</td>\n",
              "      <td>38.400000</td>\n",
              "      <td>115.600000</td>\n",
              "      <td>99.000000</td>\n",
              "      <td>1.000000</td>\n",
              "    </tr>\n",
              "  </tbody>\n",
              "</table>\n",
              "</div>"
            ],
            "text/plain": [
              "       HAEMATOCRIT  HAEMOGLOBINS  ...          AGE       SOURCE\n",
              "count  2971.000000   2971.000000  ...  2971.000000  2971.000000\n",
              "mean     38.183945     12.740424  ...    50.964322     0.401885\n",
              "std       6.125176      2.139588  ...    18.629294     0.490361\n",
              "min      13.700000      3.800000  ...    18.000000     0.000000\n",
              "25%      34.100000     11.300000  ...    34.000000     0.000000\n",
              "50%      38.700000     12.900000  ...    52.000000     0.000000\n",
              "75%      42.600000     14.300000  ...    66.000000     1.000000\n",
              "max      69.000000     18.900000  ...    99.000000     1.000000\n",
              "\n",
              "[8 rows x 10 columns]"
            ]
          },
          "metadata": {
            "tags": []
          },
          "execution_count": 7
        }
      ]
    },
    {
      "cell_type": "markdown",
      "metadata": {
        "id": "SC-ELRwwOiEY"
      },
      "source": [
        "Here, we can notice the division of the dataset into: predictive attributes and targets."
      ]
    },
    {
      "cell_type": "code",
      "metadata": {
        "id": "ZLkCyYIGw4rw"
      },
      "source": [
        "predictors = data.iloc[:, 0:10].values\n",
        "targets = data.iloc[:, 10].values"
      ],
      "execution_count": null,
      "outputs": []
    },
    {
      "cell_type": "markdown",
      "metadata": {
        "id": "2op3SavjOzOz"
      },
      "source": [
        "SimpleImputer assigns the missing values ​​to the mean value of the column."
      ]
    },
    {
      "cell_type": "code",
      "metadata": {
        "colab": {
          "base_uri": "https://localhost:8080/"
        },
        "id": "3WFizy8hvtT9",
        "outputId": "db94a135-ced3-4440-88e0-c17fcc22a4a0"
      },
      "source": [
        "imputer = SimpleImputer(missing_values = np.nan, strategy = 'mean')\n",
        "imputer = imputer.fit(predictors[:, 0:9])\n",
        "predictors[:, 0:9] = imputer.transform(predictors[:, 0:9])\n",
        "predictors"
      ],
      "execution_count": null,
      "outputs": [
        {
          "output_type": "execute_result",
          "data": {
            "text/plain": [
              "array([[33.8, 11.1, 4.18, ..., 80.9, 33.0, 'F'],\n",
              "       [44.6, 14.0, 6.86, ..., 65.0, 36.0, 'M'],\n",
              "       [42.9, 14.0, 4.57, ..., 93.9, 70.0, 'F'],\n",
              "       ...,\n",
              "       [38.2, 12.4, 4.4, ..., 86.8, 64.0, 'M'],\n",
              "       [43.4, 15.2, 5.29, ..., 82.0, 33.0, 'M'],\n",
              "       [32.4, 10.7, 3.66, ..., 88.5, 72.0, 'F']], dtype=object)"
            ]
          },
          "metadata": {
            "tags": []
          },
          "execution_count": 9
        }
      ]
    },
    {
      "cell_type": "markdown",
      "metadata": {
        "id": "dUGm6QInPRGy"
      },
      "source": [
        "OneHotEncoder encodes categorical features as a one-hot numeric array."
      ]
    },
    {
      "cell_type": "code",
      "metadata": {
        "colab": {
          "base_uri": "https://localhost:8080/"
        },
        "id": "hrNKvh87zzB5",
        "outputId": "d56cef7c-d14d-40f0-91fa-702e8ef3bbdc"
      },
      "source": [
        "onehotencorder = ColumnTransformer(transformers=[(\"OneHot\", OneHotEncoder(), [9])],remainder='passthrough')\n",
        "predictors = onehotencorder.fit_transform(predictors)\n",
        "predictors"
      ],
      "execution_count": null,
      "outputs": [
        {
          "output_type": "execute_result",
          "data": {
            "text/plain": [
              "array([[1.0, 0.0, 33.8, ..., 32.8, 80.9, 33.0],\n",
              "       [0.0, 1.0, 44.6, ..., 31.4, 65.0, 36.0],\n",
              "       [1.0, 0.0, 42.9, ..., 32.6, 93.9, 70.0],\n",
              "       ...,\n",
              "       [0.0, 1.0, 38.2, ..., 32.5, 86.8, 64.0],\n",
              "       [0.0, 1.0, 43.4, ..., 35.0, 82.0, 33.0],\n",
              "       [1.0, 0.0, 32.4, ..., 33.0, 88.5, 72.0]], dtype=object)"
            ]
          },
          "metadata": {
            "tags": []
          },
          "execution_count": 10
        }
      ]
    },
    {
      "cell_type": "markdown",
      "metadata": {
        "id": "KKT2vcXIQAwa"
      },
      "source": [
        "LabelEncoder converts each value in a column to a number."
      ]
    },
    {
      "cell_type": "code",
      "metadata": {
        "colab": {
          "base_uri": "https://localhost:8080/"
        },
        "id": "R2Yf-HsO3U9m",
        "outputId": "b807f501-2937-4cf8-acfe-3e35ad786462"
      },
      "source": [
        "#It's not required\n",
        "labelencorder_targets = LabelEncoder()\n",
        "targets = labelencorder_targets.fit_transform(targets)\n",
        "targets"
      ],
      "execution_count": null,
      "outputs": [
        {
          "output_type": "execute_result",
          "data": {
            "text/plain": [
              "array([1, 0, 0, ..., 0, 0, 1])"
            ]
          },
          "metadata": {
            "tags": []
          },
          "execution_count": 11
        }
      ]
    },
    {
      "cell_type": "markdown",
      "metadata": {
        "id": "qeky6VtgQd04"
      },
      "source": [
        "Standardize features by removing the mean and scaling to unit variance."
      ]
    },
    {
      "cell_type": "code",
      "metadata": {
        "colab": {
          "base_uri": "https://localhost:8080/"
        },
        "id": "ZQa90VhyCl25",
        "outputId": "f7934b22-c8be-491e-b91e-f29cd5390313"
      },
      "source": [
        "scaler = StandardScaler()\n",
        "predictors = scaler.fit_transform(predictors)\n",
        "predictors"
      ],
      "execution_count": null,
      "outputs": [
        {
          "output_type": "execute_result",
          "data": {
            "text/plain": [
              "array([[ 1.05716845e+00, -1.05716845e+00, -7.15846024e-01, ...,\n",
              "        -4.34977190e-01, -6.60052012e-01, -9.64467373e-01],\n",
              "       [-9.45923046e-01,  9.45923046e-01,  1.04766547e+00, ...,\n",
              "        -1.54535164e+00, -3.03530100e+00, -8.03403562e-01],\n",
              "       [ 1.05716845e+00, -1.05716845e+00,  7.70075700e-01, ...,\n",
              "        -5.93602111e-01,  1.28197546e+00,  1.02198629e+00],\n",
              "       ...,\n",
              "       [-9.45923046e-01,  9.45923046e-01,  2.62162317e-03, ...,\n",
              "        -6.72914572e-01,  2.21329688e-01,  6.99858669e-01],\n",
              "       [-9.45923046e-01,  9.45923046e-01,  8.51719751e-01, ...,\n",
              "         1.30989694e+00, -4.95726611e-01, -9.64467373e-01],\n",
              "       [ 1.05716845e+00, -1.05716845e+00, -9.44449366e-01, ...,\n",
              "        -2.76352269e-01,  4.75287127e-01,  1.12936216e+00]])"
            ]
          },
          "metadata": {
            "tags": []
          },
          "execution_count": 12
        }
      ]
    },
    {
      "cell_type": "markdown",
      "metadata": {
        "id": "nbKMmqgNVLeq"
      },
      "source": [
        "# **4. Determination of 3 best algorithms**"
      ]
    },
    {
      "cell_type": "code",
      "metadata": {
        "id": "-rJQIXmwKzEx",
        "colab": {
          "base_uri": "https://localhost:8080/"
        },
        "outputId": "1023336e-0133-4960-c89e-c26236b4a01a"
      },
      "source": [
        "classifier = [LogisticRegression(),SVC(kernel = 'rbf', random_state = 1, C = 2.0, probability=True),KNeighborsClassifier(n_neighbors=5, metric='minkowski', p = 2),RandomForestClassifier(n_estimators=40, criterion='entropy', random_state=0),MLPClassifier(verbose = False, max_iter = 1000, tol = 0.000010, solver='adam', hidden_layer_sizes=(100), activation = 'relu', batch_size=200, learning_rate_init=0.001)]\n",
        "type_classifier = ['Logistic', 'SVC', 'KNN', 'RF', 'MLP']\n",
        "size_classifier = len(classifier)\n",
        "kfold = StratifiedKFold(n_splits=10, shuffle=True, random_state = 0)\n",
        "\n",
        "result_tp = []\n",
        "mean_main_tp = []\n",
        "\n",
        "result_fp = []\n",
        "mean_main_fp = []\n",
        "\n",
        "result_fn = []\n",
        "mean_main_fn = []\n",
        "\n",
        "result_tn = []\n",
        "mean_main_tn = []\n",
        "\n",
        "result_auc = []\n",
        "mean_main_auc = []\n",
        "\n",
        "result_accuracy = []\n",
        "mean_main_accuracy = []\n",
        "\n",
        "result_precision = []\n",
        "mean_main_precision = []\n",
        "\n",
        "result_recall = []\n",
        "mean_main_recall = []\n",
        "\n",
        "result_f1_score = []\n",
        "mean_main_f1_score = []\n",
        "\n",
        "for j in range(0,size_classifier):\n",
        "  for index_trainning, index_test in kfold.split(predictors, np.zeros(shape=(targets.shape[0], 1))):\n",
        "    classifier_model = classifier[j]\n",
        "    classifier_model.fit(predictors[index_trainning], targets[index_trainning])\n",
        "    prevision = classifier_model.predict_proba(predictors[index_test])\n",
        "    prevision = prevision[:,1]\n",
        "\n",
        "    auc_score = round(roc_auc_score(targets[index_test],prevision),3)\n",
        "    result_auc.append(auc_score)\n",
        "\n",
        "    prevision = classifier_model.predict(predictors[index_test])\n",
        "\n",
        "    tp, fp, fn, tn = confusion_matrix(targets[index_test], prevision).ravel()\n",
        "    result_tp.append(tp)\n",
        "    result_fp.append(fp)\n",
        "    result_fn.append(fn)\n",
        "    result_tn.append(tn)\n",
        "\n",
        "    accuracy = round(accuracy_score(targets[index_test],prevision),3)\n",
        "    result_accuracy.append(accuracy)\n",
        "\n",
        "    precision = round(precision_score(y_pred = prevision, y_true = targets[index_test]),3)\n",
        "    result_precision.append(precision)\n",
        "\n",
        "    recall = round(recall_score(y_pred = prevision, y_true = targets[index_test]),3)\n",
        "    result_recall.append(recall)\n",
        "\n",
        "    f1_score = round(2*precision*recall/(precision + recall),3)\n",
        "    result_f1_score.append(f1_score)\n",
        "\n",
        "  result_score = np.asarray(result_tp)\n",
        "  mean_result = mean(result_score)\n",
        "  mean_main_tp.append(mean_result)\n",
        "\n",
        "  result_score = np.asarray(result_fp)\n",
        "  mean_result = mean(result_score)\n",
        "  mean_main_fp.append(mean_result)\n",
        "\n",
        "  result_score = np.asarray(result_fn)\n",
        "  mean_result = mean(result_score)\n",
        "  mean_main_fn.append(mean_result)\n",
        "\n",
        "  result_score = np.asarray(result_tn)\n",
        "  mean_result = mean(result_score)\n",
        "  mean_main_tn.append(mean_result)\n",
        "\n",
        "  result_score = np.asarray(result_auc)\n",
        "  mean_result = mean(result_score)\n",
        "  mean_main_auc.append(mean_result)\n",
        "\n",
        "  result_score = np.asarray(result_accuracy)\n",
        "  mean_result = mean(result_score)\n",
        "  mean_main_accuracy.append(mean_result)\n",
        "\n",
        "  result_score = np.asarray(result_precision)\n",
        "  mean_result = mean(result_score)\n",
        "  mean_main_precision.append(mean_result)\n",
        "\n",
        "  result_score = np.asarray(result_recall)\n",
        "  mean_result = mean(result_score)\n",
        "  mean_main_recall.append(mean_result)\n",
        "\n",
        "  result_score = np.asarray(result_f1_score)\n",
        "  mean_result = mean(result_score)\n",
        "  mean_main_f1_score.append(mean_result)\n",
        "\n",
        "  result_tp = []\n",
        "  result_fp = []\n",
        "  result_fn = []\n",
        "  result_tn = []\n",
        "  result_auc = []\n",
        "  result_accuracy = []\n",
        "  result_precision = []\n",
        "  result_recall = []\n",
        "  result_f1_score = []\n",
        "\n",
        "print('Average tp,fp,fn,tn for each algorithm:')\n",
        "for k in range(0,size_classifier):\n",
        "  print(str(type_classifier[k]) + ': ' + str(mean_main_tp[k]) + ', ' + str(mean_main_fp[k])+ ', ' + str(mean_main_fn[k])+ ', ' + str(mean_main_tn[k]))\n",
        "print(\"-------------------------------------------------------------------------\")\n",
        "print('Average AUC score for each algorithm:')\n",
        "for k in range(0,size_classifier):\n",
        "  print(str(type_classifier[k]) + ': ' + str(mean_main_auc[k]))\n",
        "print(\"-------------------------------------------------------------------------\")\n",
        "print('Average accuracy score for each algorithm:')\n",
        "for k in range(0,size_classifier):\n",
        "  print(str(type_classifier[k]) + ': ' + str(mean_main_accuracy[k]))\n",
        "print(\"-------------------------------------------------------------------------\")\n",
        "print('Average precision for each algorithm:')\n",
        "for k in range(0,size_classifier):\n",
        "  print(str(type_classifier[k]) + ': ' + str(mean_main_precision[k]))\n",
        "print(\"-------------------------------------------------------------------------\")\n",
        "print('Average recall for each algorithm:')\n",
        "for k in range(0,size_classifier):\n",
        "  print(str(type_classifier[k]) + ': ' + str(mean_main_recall[k]))\n",
        "print(\"-------------------------------------------------------------------------\")\n",
        "print('Average f1 score for each algorithm:')\n",
        "for k in range(0,size_classifier):\n",
        "  print(str(type_classifier[k]) + ': ' + str(mean_main_f1_score[k]))\n"
      ],
      "execution_count": null,
      "outputs": [
        {
          "output_type": "stream",
          "text": [
            "Average tp,fp,fn,tn for each algorithm:\n",
            "Logistic: 154, 22, 60, 59\n",
            "SVC: 156, 21, 51, 67\n",
            "KNN: 143, 34, 47, 71\n",
            "RF: 149, 28, 46, 73\n",
            "MLP: 147, 30, 46, 72\n",
            "-------------------------------------------------------------------------\n",
            "Average AUC score for each algorithm:\n",
            "Logistic: 0.7626\n",
            "SVC: 0.8002\n",
            "KNN: 0.7618\n",
            "RF: 0.7974\n",
            "MLP: 0.7942\n",
            "-------------------------------------------------------------------------\n",
            "Average accuracy score for each algorithm:\n",
            "Logistic: 0.72\n",
            "SVC: 0.7537\n",
            "KNN: 0.7247\n",
            "RF: 0.7473\n",
            "MLP: 0.7424999999999999\n",
            "-------------------------------------------------------------------------\n",
            "Average precision for each algorithm:\n",
            "Logistic: 0.7224\n",
            "SVC: 0.7591\n",
            "KNN: 0.6789\n",
            "RF: 0.7175\n",
            "MLP: 0.7086\n",
            "-------------------------------------------------------------------------\n",
            "Average recall for each algorithm:\n",
            "Logistic: 0.4946\n",
            "SVC: 0.5669\n",
            "KNN: 0.5991\n",
            "RF: 0.6113\n",
            "MLP: 0.6098\n",
            "-------------------------------------------------------------------------\n",
            "Average f1 score for each algorithm:\n",
            "Logistic: 0.5857\n",
            "SVC: 0.6483\n",
            "KNN: 0.6356\n",
            "RF: 0.6591\n",
            "MLP: 0.6545\n"
          ],
          "name": "stdout"
        }
      ]
    },
    {
      "cell_type": "markdown",
      "metadata": {
        "id": "KXUt1CqHypfi"
      },
      "source": [
        "# **5. Save the 4 best algorithms**"
      ]
    },
    {
      "cell_type": "code",
      "metadata": {
        "id": "eHLPak4pxzDQ"
      },
      "source": [
        "classifier = [SVC(kernel = 'rbf', random_state = 1, C = 2.0, probability=True),KNeighborsClassifier(n_neighbors=5, metric='minkowski', p = 2),RandomForestClassifier(n_estimators=40, criterion='entropy', random_state=0),MLPClassifier(verbose = False, max_iter = 1000, tol = 0.000010, solver='adam', hidden_layer_sizes=(100), activation = 'relu', batch_size=200, learning_rate_init=0.001)]\n",
        "type_classifier = ['SVC', 'KNN', 'RF', 'MLP']\n",
        "size_classifier = len(classifier)\n",
        "for l in range(0,size_classifier):\n",
        "  classifier_model = classifier[l]\n",
        "  classifier_model.fit(predictors, targets)\n",
        "  pickle.dump(classifier_model, open(str(type_classifier[l]) + '.sav', 'wb'))"
      ],
      "execution_count": null,
      "outputs": []
    },
    {
      "cell_type": "markdown",
      "metadata": {
        "id": "JBDU2u4p4bC8"
      },
      "source": [
        "# **6. Combination of algorithms**"
      ]
    },
    {
      "cell_type": "code",
      "metadata": {
        "colab": {
          "base_uri": "https://localhost:8080/"
        },
        "id": "xk3K0R764jRr",
        "outputId": "6fd00b48-7a63-4673-8fc6-44d7f048edf0"
      },
      "source": [
        "new_register = [[1.0, 0.0, 30, 11, 4, 4, 150, 26, 32, 80, 30]]\n",
        "new_register = np.asarray(new_register)\n",
        "new_register = new_register.reshape(-1, 1)\n",
        "scaler = StandardScaler()\n",
        "new_register = scaler.fit_transform(new_register)\n",
        "new_register = new_register.reshape(-1, 11)\n",
        "new_register"
      ],
      "execution_count": null,
      "outputs": [
        {
          "output_type": "execute_result",
          "data": {
            "text/plain": [
              "array([[-0.75654952, -0.77986057, -0.08052908, -0.52343903, -0.68661637,\n",
              "        -0.68661637,  2.71679689, -0.17377328, -0.03390698,  1.0850234 ,\n",
              "        -0.08052908]])"
            ]
          },
          "metadata": {
            "tags": []
          },
          "execution_count": 23
        }
      ]
    },
    {
      "cell_type": "code",
      "metadata": {
        "id": "J6QHLQgk5npU"
      },
      "source": [
        "svm = pickle.load(open('SVC.sav', 'rb'))\n",
        "knn = pickle.load(open('KNN.sav', 'rb'))\n",
        "rf = pickle.load(open('RF.sav', 'rb'))\n",
        "mlp = pickle.load(open('MLP.sav', 'rb'))"
      ],
      "execution_count": null,
      "outputs": []
    },
    {
      "cell_type": "code",
      "metadata": {
        "id": "Z_4qWEIN631E"
      },
      "source": [
        "predict_svm = svm.predict(new_register)\n",
        "predict_knn = knn.predict(new_register)\n",
        "predict_rf = rf.predict(new_register)\n",
        "predict_mlp = mlp.predict(new_register)"
      ],
      "execution_count": null,
      "outputs": []
    },
    {
      "cell_type": "code",
      "metadata": {
        "colab": {
          "base_uri": "https://localhost:8080/"
        },
        "id": "SWclKcOK8V5q",
        "outputId": "d8e70b61-8fbd-4b2c-dc0b-8999da5df257"
      },
      "source": [
        "print(predict_knn,predict_svm,predict_rf,predict_mlp)"
      ],
      "execution_count": null,
      "outputs": [
        {
          "output_type": "stream",
          "text": [
            "[0] [0] [0] [0]\n"
          ],
          "name": "stdout"
        }
      ]
    },
    {
      "cell_type": "code",
      "metadata": {
        "colab": {
          "base_uri": "https://localhost:8080/"
        },
        "id": "AUULFQdW-CQ8",
        "outputId": "eed87ac6-d19a-4591-e840-3a1810d27e9c"
      },
      "source": [
        "proba_svm = svm.predict_proba(new_register)\n",
        "max_svm = proba_svm.max()\n",
        "\n",
        "proba_knn = knn.predict_proba(new_register)\n",
        "max_knn = proba_knn.max()\n",
        "\n",
        "proba_rf = rf.predict_proba(new_register)\n",
        "max_rf = proba_rf.max()\n",
        "\n",
        "proba_mlp = mlp.predict_proba(new_register)\n",
        "max_mlp = proba_mlp.max()\n",
        "\n",
        "confidence = np.array([max_svm,max_knn,max_rf,max_mlp])\n",
        "max_confidence = confidence.max()\n",
        "print(confidence, max_confidence)\n",
        "\n",
        "max_general = 0.8"
      ],
      "execution_count": null,
      "outputs": [
        {
          "output_type": "stream",
          "text": [
            "[0.79848027 0.8        0.775      0.86486476] 0.8648647616905916\n"
          ],
          "name": "stdout"
        }
      ]
    },
    {
      "cell_type": "code",
      "metadata": {
        "colab": {
          "base_uri": "https://localhost:8080/"
        },
        "id": "iMBT-hSt8gH6",
        "outputId": "8c96bfb1-90b1-47b9-e725-7af1c739f616"
      },
      "source": [
        "in_care_patient = 0\n",
        "out_care_patient = 0\n",
        "\n",
        "if max_knn >= max_general:\n",
        "  if predict_knn[0] == 1:\n",
        "      in_care_patient += 1\n",
        "  else:\n",
        "      out_care_patient += 1\n",
        "\n",
        "if max_svm >= max_general:\n",
        "  if predict_svm[0] == 1:\n",
        "      in_care_patient += 1\n",
        "  else:\n",
        "      out_care_patient += 1\n",
        "\n",
        "if max_rf >= max_general:\n",
        "  if predict_rf[0] == 1:\n",
        "      in_care_patient += 1\n",
        "  else:\n",
        "      out_care_patient += 1\n",
        "\n",
        "if max_mlp >= max_general:\n",
        "  if predict_mlp[0] == 1:\n",
        "      in_care_patient += 1\n",
        "  else:\n",
        "      out_care_patient += 1\n",
        "\n",
        "print('Votes for Out care patient: ' + str(out_care_patient))\n",
        "print('Votes for In care patient: ' + str(in_care_patient))\n",
        "print(\"-------------------------------------------------------------------------\")\n",
        "if in_care_patient > out_care_patient:\n",
        "  print('In care patient')\n",
        "elif in_care_patient == out_care_patient:\n",
        "  print('Result: Inconclusive result')\n",
        "else:\n",
        "  print('Result: Out care patient')\n",
        "print('Maximum confidence:' + str(round(max_confidence,3)))"
      ],
      "execution_count": null,
      "outputs": [
        {
          "output_type": "stream",
          "text": [
            "Votes for Out care patient: 2\n",
            "Votes for In care patient: 0\n",
            "-------------------------------------------------------------------------\n",
            "Result: Out care patient\n",
            "Maximum confidence:0.865\n"
          ],
          "name": "stdout"
        }
      ]
    }
  ]
}