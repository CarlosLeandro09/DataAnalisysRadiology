{
  "nbformat": 4,
  "nbformat_minor": 0,
  "metadata": {
    "colab": {
      "name": "Um_pouco_de_Pandas.ipynb",
      "provenance": [],
      "collapsed_sections": [],
      "authorship_tag": "ABX9TyNQ/mttWxVC+Q/txtMtuQr9",
      "include_colab_link": true
    },
    "kernelspec": {
      "name": "python3",
      "display_name": "Python 3"
    }
  },
  "cells": [
    {
      "cell_type": "markdown",
      "metadata": {
        "id": "view-in-github",
        "colab_type": "text"
      },
      "source": [
        "<a href=\"https://colab.research.google.com/github/CarlosLeandro09/DataAnalysisRadiology/blob/main/Um_pouco_de_Pandas.ipynb\" target=\"_parent\"><img src=\"https://colab.research.google.com/assets/colab-badge.svg\" alt=\"Open In Colab\"/></a>"
      ]
    },
    {
      "cell_type": "markdown",
      "metadata": {
        "id": "4hKdBzqOczBi"
      },
      "source": [
        "# **Basic stage**"
      ]
    },
    {
      "cell_type": "markdown",
      "metadata": {
        "id": "VPPIbP1sdifm"
      },
      "source": [
        "**1.** Importações importantes para um estágio inicial"
      ]
    },
    {
      "cell_type": "code",
      "metadata": {
        "id": "lxpTmWuwVJ_H"
      },
      "source": [
        "import pandas as pd\n",
        "import numpy as np"
      ],
      "execution_count": 2,
      "outputs": []
    },
    {
      "cell_type": "markdown",
      "metadata": {
        "id": "IARv9R1kdRPk"
      },
      "source": [
        "**2.** Dados em uma escala temporal: **Séries**"
      ]
    },
    {
      "cell_type": "code",
      "metadata": {
        "id": "0bx5F_KqVqJi",
        "outputId": "e1c54823-e7d6-4809-957e-1df033e9de7f",
        "colab": {
          "base_uri": "https://localhost:8080/",
          "height": 102
        }
      },
      "source": [
        "series = pd.Series([np.nan, 0, 1, 2])\n",
        "series"
      ],
      "execution_count": 3,
      "outputs": [
        {
          "output_type": "execute_result",
          "data": {
            "text/plain": [
              "0    NaN\n",
              "1    0.0\n",
              "2    1.0\n",
              "3    2.0\n",
              "dtype: float64"
            ]
          },
          "metadata": {
            "tags": []
          },
          "execution_count": 3
        }
      ]
    },
    {
      "cell_type": "markdown",
      "metadata": {
        "id": "fnx9ZerceR0F"
      },
      "source": [
        "**3.** Ainda relativo a séries, vamos \"manipular\" **datas**...\n",
        "\n",
        "pd.date_range(start=None, end=None, periods=None, freq=None, tz=None, normalize=False, name=None, closed=None, **kwargs)   "
      ]
    },
    {
      "cell_type": "code",
      "metadata": {
        "id": "mZqIRS1veCcC",
        "outputId": "f7c99812-70ca-468f-9049-68a135637beb",
        "colab": {
          "base_uri": "https://localhost:8080/",
          "height": 34
        }
      },
      "source": [
        "datas = pd.date_range(\"20200101\",periods=4,freq=\"D\")\n",
        "datas"
      ],
      "execution_count": 4,
      "outputs": [
        {
          "output_type": "execute_result",
          "data": {
            "text/plain": [
              "DatetimeIndex(['2020-01-01', '2020-01-02', '2020-01-03', '2020-01-04'], dtype='datetime64[ns]', freq='D')"
            ]
          },
          "metadata": {
            "tags": []
          },
          "execution_count": 4
        }
      ]
    },
    {
      "cell_type": "markdown",
      "metadata": {
        "id": "LqYT1pZ2iXbY"
      },
      "source": [
        "**4.** Criação de **DataFrame**"
      ]
    },
    {
      "cell_type": "code",
      "metadata": {
        "id": "rAJC48ffe2XO",
        "outputId": "c32a8845-4f6f-4acf-b2cd-e8522f4fe465",
        "colab": {
          "base_uri": "https://localhost:8080/",
          "height": 173
        }
      },
      "source": [
        "df = pd.DataFrame(np.random.randn(4,4), index = datas, columns = list(\"ABCD\"))\n",
        "df"
      ],
      "execution_count": 5,
      "outputs": [
        {
          "output_type": "execute_result",
          "data": {
            "text/html": [
              "<div>\n",
              "<style scoped>\n",
              "    .dataframe tbody tr th:only-of-type {\n",
              "        vertical-align: middle;\n",
              "    }\n",
              "\n",
              "    .dataframe tbody tr th {\n",
              "        vertical-align: top;\n",
              "    }\n",
              "\n",
              "    .dataframe thead th {\n",
              "        text-align: right;\n",
              "    }\n",
              "</style>\n",
              "<table border=\"1\" class=\"dataframe\">\n",
              "  <thead>\n",
              "    <tr style=\"text-align: right;\">\n",
              "      <th></th>\n",
              "      <th>A</th>\n",
              "      <th>B</th>\n",
              "      <th>C</th>\n",
              "      <th>D</th>\n",
              "    </tr>\n",
              "  </thead>\n",
              "  <tbody>\n",
              "    <tr>\n",
              "      <th>2020-01-01</th>\n",
              "      <td>0.377983</td>\n",
              "      <td>-0.080575</td>\n",
              "      <td>-1.224774</td>\n",
              "      <td>-1.431919</td>\n",
              "    </tr>\n",
              "    <tr>\n",
              "      <th>2020-01-02</th>\n",
              "      <td>0.080579</td>\n",
              "      <td>-0.157075</td>\n",
              "      <td>-1.161359</td>\n",
              "      <td>-0.472065</td>\n",
              "    </tr>\n",
              "    <tr>\n",
              "      <th>2020-01-03</th>\n",
              "      <td>-1.087464</td>\n",
              "      <td>0.138276</td>\n",
              "      <td>0.076402</td>\n",
              "      <td>-0.251545</td>\n",
              "    </tr>\n",
              "    <tr>\n",
              "      <th>2020-01-04</th>\n",
              "      <td>0.221153</td>\n",
              "      <td>1.745922</td>\n",
              "      <td>1.327153</td>\n",
              "      <td>0.433962</td>\n",
              "    </tr>\n",
              "  </tbody>\n",
              "</table>\n",
              "</div>"
            ],
            "text/plain": [
              "                   A         B         C         D\n",
              "2020-01-01  0.377983 -0.080575 -1.224774 -1.431919\n",
              "2020-01-02  0.080579 -0.157075 -1.161359 -0.472065\n",
              "2020-01-03 -1.087464  0.138276  0.076402 -0.251545\n",
              "2020-01-04  0.221153  1.745922  1.327153  0.433962"
            ]
          },
          "metadata": {
            "tags": []
          },
          "execution_count": 5
        }
      ]
    },
    {
      "cell_type": "code",
      "metadata": {
        "id": "aAQ6pb7QpnMQ",
        "outputId": "ca5140b0-baf7-4e3d-d60b-5107c4f6e7e4",
        "colab": {
          "base_uri": "https://localhost:8080/",
          "height": 204
        }
      },
      "source": [
        "df2 = pd.DataFrame({\"A\":7,\n",
        "                    \"B\":pd.Series(1,index=list(range(5)),dtype=\"float32\"),\n",
        "                    \"C\":np.array([3]*5,dtype=\"int32\"), \n",
        "                    \"D\":pd.Categorical([\"Carro\",\"Coelho\",\"Caipora\",\"Cigarro\",\"Cinema\"]),\n",
        "                    \"E\":pd.Timestamp(\"20190204\"),\n",
        "                    \"F\":\"Dragonball\"})\n",
        "df2"
      ],
      "execution_count": 6,
      "outputs": [
        {
          "output_type": "execute_result",
          "data": {
            "text/html": [
              "<div>\n",
              "<style scoped>\n",
              "    .dataframe tbody tr th:only-of-type {\n",
              "        vertical-align: middle;\n",
              "    }\n",
              "\n",
              "    .dataframe tbody tr th {\n",
              "        vertical-align: top;\n",
              "    }\n",
              "\n",
              "    .dataframe thead th {\n",
              "        text-align: right;\n",
              "    }\n",
              "</style>\n",
              "<table border=\"1\" class=\"dataframe\">\n",
              "  <thead>\n",
              "    <tr style=\"text-align: right;\">\n",
              "      <th></th>\n",
              "      <th>A</th>\n",
              "      <th>B</th>\n",
              "      <th>C</th>\n",
              "      <th>D</th>\n",
              "      <th>E</th>\n",
              "      <th>F</th>\n",
              "    </tr>\n",
              "  </thead>\n",
              "  <tbody>\n",
              "    <tr>\n",
              "      <th>0</th>\n",
              "      <td>7</td>\n",
              "      <td>1.0</td>\n",
              "      <td>3</td>\n",
              "      <td>Carro</td>\n",
              "      <td>2019-02-04</td>\n",
              "      <td>Dragonball</td>\n",
              "    </tr>\n",
              "    <tr>\n",
              "      <th>1</th>\n",
              "      <td>7</td>\n",
              "      <td>1.0</td>\n",
              "      <td>3</td>\n",
              "      <td>Coelho</td>\n",
              "      <td>2019-02-04</td>\n",
              "      <td>Dragonball</td>\n",
              "    </tr>\n",
              "    <tr>\n",
              "      <th>2</th>\n",
              "      <td>7</td>\n",
              "      <td>1.0</td>\n",
              "      <td>3</td>\n",
              "      <td>Caipora</td>\n",
              "      <td>2019-02-04</td>\n",
              "      <td>Dragonball</td>\n",
              "    </tr>\n",
              "    <tr>\n",
              "      <th>3</th>\n",
              "      <td>7</td>\n",
              "      <td>1.0</td>\n",
              "      <td>3</td>\n",
              "      <td>Cigarro</td>\n",
              "      <td>2019-02-04</td>\n",
              "      <td>Dragonball</td>\n",
              "    </tr>\n",
              "    <tr>\n",
              "      <th>4</th>\n",
              "      <td>7</td>\n",
              "      <td>1.0</td>\n",
              "      <td>3</td>\n",
              "      <td>Cinema</td>\n",
              "      <td>2019-02-04</td>\n",
              "      <td>Dragonball</td>\n",
              "    </tr>\n",
              "  </tbody>\n",
              "</table>\n",
              "</div>"
            ],
            "text/plain": [
              "   A    B  C        D          E           F\n",
              "0  7  1.0  3    Carro 2019-02-04  Dragonball\n",
              "1  7  1.0  3   Coelho 2019-02-04  Dragonball\n",
              "2  7  1.0  3  Caipora 2019-02-04  Dragonball\n",
              "3  7  1.0  3  Cigarro 2019-02-04  Dragonball\n",
              "4  7  1.0  3   Cinema 2019-02-04  Dragonball"
            ]
          },
          "metadata": {
            "tags": []
          },
          "execution_count": 6
        }
      ]
    },
    {
      "cell_type": "code",
      "metadata": {
        "id": "ttdjqdxT0DNL",
        "outputId": "dac1598a-5c45-4cff-dc2f-d3b99b6475e5",
        "colab": {
          "base_uri": "https://localhost:8080/",
          "height": 142
        }
      },
      "source": [
        "df2.head(3)"
      ],
      "execution_count": 7,
      "outputs": [
        {
          "output_type": "execute_result",
          "data": {
            "text/html": [
              "<div>\n",
              "<style scoped>\n",
              "    .dataframe tbody tr th:only-of-type {\n",
              "        vertical-align: middle;\n",
              "    }\n",
              "\n",
              "    .dataframe tbody tr th {\n",
              "        vertical-align: top;\n",
              "    }\n",
              "\n",
              "    .dataframe thead th {\n",
              "        text-align: right;\n",
              "    }\n",
              "</style>\n",
              "<table border=\"1\" class=\"dataframe\">\n",
              "  <thead>\n",
              "    <tr style=\"text-align: right;\">\n",
              "      <th></th>\n",
              "      <th>A</th>\n",
              "      <th>B</th>\n",
              "      <th>C</th>\n",
              "      <th>D</th>\n",
              "      <th>E</th>\n",
              "      <th>F</th>\n",
              "    </tr>\n",
              "  </thead>\n",
              "  <tbody>\n",
              "    <tr>\n",
              "      <th>0</th>\n",
              "      <td>7</td>\n",
              "      <td>1.0</td>\n",
              "      <td>3</td>\n",
              "      <td>Carro</td>\n",
              "      <td>2019-02-04</td>\n",
              "      <td>Dragonball</td>\n",
              "    </tr>\n",
              "    <tr>\n",
              "      <th>1</th>\n",
              "      <td>7</td>\n",
              "      <td>1.0</td>\n",
              "      <td>3</td>\n",
              "      <td>Coelho</td>\n",
              "      <td>2019-02-04</td>\n",
              "      <td>Dragonball</td>\n",
              "    </tr>\n",
              "    <tr>\n",
              "      <th>2</th>\n",
              "      <td>7</td>\n",
              "      <td>1.0</td>\n",
              "      <td>3</td>\n",
              "      <td>Caipora</td>\n",
              "      <td>2019-02-04</td>\n",
              "      <td>Dragonball</td>\n",
              "    </tr>\n",
              "  </tbody>\n",
              "</table>\n",
              "</div>"
            ],
            "text/plain": [
              "   A    B  C        D          E           F\n",
              "0  7  1.0  3    Carro 2019-02-04  Dragonball\n",
              "1  7  1.0  3   Coelho 2019-02-04  Dragonball\n",
              "2  7  1.0  3  Caipora 2019-02-04  Dragonball"
            ]
          },
          "metadata": {
            "tags": []
          },
          "execution_count": 7
        }
      ]
    },
    {
      "cell_type": "code",
      "metadata": {
        "id": "7KQXBSul0N0b",
        "outputId": "e281f6af-8a72-49d8-b060-9deba337f745",
        "colab": {
          "base_uri": "https://localhost:8080/",
          "height": 142
        }
      },
      "source": [
        "df2.tail(3)"
      ],
      "execution_count": 8,
      "outputs": [
        {
          "output_type": "execute_result",
          "data": {
            "text/html": [
              "<div>\n",
              "<style scoped>\n",
              "    .dataframe tbody tr th:only-of-type {\n",
              "        vertical-align: middle;\n",
              "    }\n",
              "\n",
              "    .dataframe tbody tr th {\n",
              "        vertical-align: top;\n",
              "    }\n",
              "\n",
              "    .dataframe thead th {\n",
              "        text-align: right;\n",
              "    }\n",
              "</style>\n",
              "<table border=\"1\" class=\"dataframe\">\n",
              "  <thead>\n",
              "    <tr style=\"text-align: right;\">\n",
              "      <th></th>\n",
              "      <th>A</th>\n",
              "      <th>B</th>\n",
              "      <th>C</th>\n",
              "      <th>D</th>\n",
              "      <th>E</th>\n",
              "      <th>F</th>\n",
              "    </tr>\n",
              "  </thead>\n",
              "  <tbody>\n",
              "    <tr>\n",
              "      <th>2</th>\n",
              "      <td>7</td>\n",
              "      <td>1.0</td>\n",
              "      <td>3</td>\n",
              "      <td>Caipora</td>\n",
              "      <td>2019-02-04</td>\n",
              "      <td>Dragonball</td>\n",
              "    </tr>\n",
              "    <tr>\n",
              "      <th>3</th>\n",
              "      <td>7</td>\n",
              "      <td>1.0</td>\n",
              "      <td>3</td>\n",
              "      <td>Cigarro</td>\n",
              "      <td>2019-02-04</td>\n",
              "      <td>Dragonball</td>\n",
              "    </tr>\n",
              "    <tr>\n",
              "      <th>4</th>\n",
              "      <td>7</td>\n",
              "      <td>1.0</td>\n",
              "      <td>3</td>\n",
              "      <td>Cinema</td>\n",
              "      <td>2019-02-04</td>\n",
              "      <td>Dragonball</td>\n",
              "    </tr>\n",
              "  </tbody>\n",
              "</table>\n",
              "</div>"
            ],
            "text/plain": [
              "   A    B  C        D          E           F\n",
              "2  7  1.0  3  Caipora 2019-02-04  Dragonball\n",
              "3  7  1.0  3  Cigarro 2019-02-04  Dragonball\n",
              "4  7  1.0  3   Cinema 2019-02-04  Dragonball"
            ]
          },
          "metadata": {
            "tags": []
          },
          "execution_count": 8
        }
      ]
    },
    {
      "cell_type": "code",
      "metadata": {
        "id": "xycTxl200fVK",
        "outputId": "236d69ef-ff8e-4497-b587-d4b67f5a169a",
        "colab": {
          "base_uri": "https://localhost:8080/",
          "height": 34
        }
      },
      "source": [
        "df2.index"
      ],
      "execution_count": 9,
      "outputs": [
        {
          "output_type": "execute_result",
          "data": {
            "text/plain": [
              "Int64Index([0, 1, 2, 3, 4], dtype='int64')"
            ]
          },
          "metadata": {
            "tags": []
          },
          "execution_count": 9
        }
      ]
    },
    {
      "cell_type": "code",
      "metadata": {
        "id": "jvwsT0vJ0fG8",
        "outputId": "de9e2b80-b22d-4a89-9ac7-10d2b23a0b95",
        "colab": {
          "base_uri": "https://localhost:8080/",
          "height": 34
        }
      },
      "source": [
        "df2.columns"
      ],
      "execution_count": 10,
      "outputs": [
        {
          "output_type": "execute_result",
          "data": {
            "text/plain": [
              "Index(['A', 'B', 'C', 'D', 'E', 'F'], dtype='object')"
            ]
          },
          "metadata": {
            "tags": []
          },
          "execution_count": 10
        }
      ]
    },
    {
      "cell_type": "code",
      "metadata": {
        "id": "1q3uWy800yjj",
        "outputId": "eb793dad-f6aa-479c-ee48-27bffeb739f6",
        "colab": {
          "base_uri": "https://localhost:8080/",
          "height": 85
        }
      },
      "source": [
        "#df --> Tira índices e colunas\n",
        "df.to_numpy()"
      ],
      "execution_count": 11,
      "outputs": [
        {
          "output_type": "execute_result",
          "data": {
            "text/plain": [
              "array([[ 0.37798319, -0.08057534, -1.2247735 , -1.43191929],\n",
              "       [ 0.08057924, -0.15707529, -1.1613592 , -0.4720646 ],\n",
              "       [-1.0874643 ,  0.13827593,  0.07640192, -0.25154547],\n",
              "       [ 0.2211527 ,  1.74592232,  1.32715267,  0.43396162]])"
            ]
          },
          "metadata": {
            "tags": []
          },
          "execution_count": 11
        }
      ]
    },
    {
      "cell_type": "code",
      "metadata": {
        "id": "cif3fsratMuU",
        "outputId": "631601c2-3a4a-450e-85ce-c24e01521550",
        "colab": {
          "base_uri": "https://localhost:8080/",
          "height": 136
        }
      },
      "source": [
        "df2.dtypes"
      ],
      "execution_count": 12,
      "outputs": [
        {
          "output_type": "execute_result",
          "data": {
            "text/plain": [
              "A             int64\n",
              "B           float32\n",
              "C             int32\n",
              "D          category\n",
              "E    datetime64[ns]\n",
              "F            object\n",
              "dtype: object"
            ]
          },
          "metadata": {
            "tags": []
          },
          "execution_count": 12
        }
      ]
    },
    {
      "cell_type": "code",
      "metadata": {
        "id": "esbMWzy4tSIC",
        "outputId": "ab3ea09f-b8ed-4809-f2e8-307ba3b613d7",
        "colab": {
          "base_uri": "https://localhost:8080/",
          "height": 34
        }
      },
      "source": [
        "df2.shape"
      ],
      "execution_count": 13,
      "outputs": [
        {
          "output_type": "execute_result",
          "data": {
            "text/plain": [
              "(5, 6)"
            ]
          },
          "metadata": {
            "tags": []
          },
          "execution_count": 13
        }
      ]
    },
    {
      "cell_type": "markdown",
      "metadata": {
        "id": "Cnhk7NQUtnk7"
      },
      "source": [
        "**5.** Adição de **colunas** ao DataFrame"
      ]
    },
    {
      "cell_type": "code",
      "metadata": {
        "id": "d_7Owmpmtln4",
        "outputId": "b2858c21-7c40-461b-dc3d-5c0cca9cf354",
        "colab": {
          "base_uri": "https://localhost:8080/",
          "height": 204
        }
      },
      "source": [
        "df2[\"G\"] = pd.Series(\"RX\",index=list(range(5)),dtype=\"str\")\n",
        "df2"
      ],
      "execution_count": 14,
      "outputs": [
        {
          "output_type": "execute_result",
          "data": {
            "text/html": [
              "<div>\n",
              "<style scoped>\n",
              "    .dataframe tbody tr th:only-of-type {\n",
              "        vertical-align: middle;\n",
              "    }\n",
              "\n",
              "    .dataframe tbody tr th {\n",
              "        vertical-align: top;\n",
              "    }\n",
              "\n",
              "    .dataframe thead th {\n",
              "        text-align: right;\n",
              "    }\n",
              "</style>\n",
              "<table border=\"1\" class=\"dataframe\">\n",
              "  <thead>\n",
              "    <tr style=\"text-align: right;\">\n",
              "      <th></th>\n",
              "      <th>A</th>\n",
              "      <th>B</th>\n",
              "      <th>C</th>\n",
              "      <th>D</th>\n",
              "      <th>E</th>\n",
              "      <th>F</th>\n",
              "      <th>G</th>\n",
              "    </tr>\n",
              "  </thead>\n",
              "  <tbody>\n",
              "    <tr>\n",
              "      <th>0</th>\n",
              "      <td>7</td>\n",
              "      <td>1.0</td>\n",
              "      <td>3</td>\n",
              "      <td>Carro</td>\n",
              "      <td>2019-02-04</td>\n",
              "      <td>Dragonball</td>\n",
              "      <td>RX</td>\n",
              "    </tr>\n",
              "    <tr>\n",
              "      <th>1</th>\n",
              "      <td>7</td>\n",
              "      <td>1.0</td>\n",
              "      <td>3</td>\n",
              "      <td>Coelho</td>\n",
              "      <td>2019-02-04</td>\n",
              "      <td>Dragonball</td>\n",
              "      <td>RX</td>\n",
              "    </tr>\n",
              "    <tr>\n",
              "      <th>2</th>\n",
              "      <td>7</td>\n",
              "      <td>1.0</td>\n",
              "      <td>3</td>\n",
              "      <td>Caipora</td>\n",
              "      <td>2019-02-04</td>\n",
              "      <td>Dragonball</td>\n",
              "      <td>RX</td>\n",
              "    </tr>\n",
              "    <tr>\n",
              "      <th>3</th>\n",
              "      <td>7</td>\n",
              "      <td>1.0</td>\n",
              "      <td>3</td>\n",
              "      <td>Cigarro</td>\n",
              "      <td>2019-02-04</td>\n",
              "      <td>Dragonball</td>\n",
              "      <td>RX</td>\n",
              "    </tr>\n",
              "    <tr>\n",
              "      <th>4</th>\n",
              "      <td>7</td>\n",
              "      <td>1.0</td>\n",
              "      <td>3</td>\n",
              "      <td>Cinema</td>\n",
              "      <td>2019-02-04</td>\n",
              "      <td>Dragonball</td>\n",
              "      <td>RX</td>\n",
              "    </tr>\n",
              "  </tbody>\n",
              "</table>\n",
              "</div>"
            ],
            "text/plain": [
              "   A    B  C        D          E           F   G\n",
              "0  7  1.0  3    Carro 2019-02-04  Dragonball  RX\n",
              "1  7  1.0  3   Coelho 2019-02-04  Dragonball  RX\n",
              "2  7  1.0  3  Caipora 2019-02-04  Dragonball  RX\n",
              "3  7  1.0  3  Cigarro 2019-02-04  Dragonball  RX\n",
              "4  7  1.0  3   Cinema 2019-02-04  Dragonball  RX"
            ]
          },
          "metadata": {
            "tags": []
          },
          "execution_count": 14
        }
      ]
    },
    {
      "cell_type": "markdown",
      "metadata": {
        "id": "942ra8R3vEft"
      },
      "source": [
        "**6.** **Operação** entre colunas"
      ]
    },
    {
      "cell_type": "code",
      "metadata": {
        "id": "549cGAlrvLlM",
        "outputId": "cd838b87-ee24-41d1-c124-87a9ab2a8782",
        "colab": {
          "base_uri": "https://localhost:8080/",
          "height": 204
        }
      },
      "source": [
        "df2[\"Soma\"] = df2[\"A\"] + df2[\"C\"]\n",
        "df2"
      ],
      "execution_count": 15,
      "outputs": [
        {
          "output_type": "execute_result",
          "data": {
            "text/html": [
              "<div>\n",
              "<style scoped>\n",
              "    .dataframe tbody tr th:only-of-type {\n",
              "        vertical-align: middle;\n",
              "    }\n",
              "\n",
              "    .dataframe tbody tr th {\n",
              "        vertical-align: top;\n",
              "    }\n",
              "\n",
              "    .dataframe thead th {\n",
              "        text-align: right;\n",
              "    }\n",
              "</style>\n",
              "<table border=\"1\" class=\"dataframe\">\n",
              "  <thead>\n",
              "    <tr style=\"text-align: right;\">\n",
              "      <th></th>\n",
              "      <th>A</th>\n",
              "      <th>B</th>\n",
              "      <th>C</th>\n",
              "      <th>D</th>\n",
              "      <th>E</th>\n",
              "      <th>F</th>\n",
              "      <th>G</th>\n",
              "      <th>Soma</th>\n",
              "    </tr>\n",
              "  </thead>\n",
              "  <tbody>\n",
              "    <tr>\n",
              "      <th>0</th>\n",
              "      <td>7</td>\n",
              "      <td>1.0</td>\n",
              "      <td>3</td>\n",
              "      <td>Carro</td>\n",
              "      <td>2019-02-04</td>\n",
              "      <td>Dragonball</td>\n",
              "      <td>RX</td>\n",
              "      <td>10</td>\n",
              "    </tr>\n",
              "    <tr>\n",
              "      <th>1</th>\n",
              "      <td>7</td>\n",
              "      <td>1.0</td>\n",
              "      <td>3</td>\n",
              "      <td>Coelho</td>\n",
              "      <td>2019-02-04</td>\n",
              "      <td>Dragonball</td>\n",
              "      <td>RX</td>\n",
              "      <td>10</td>\n",
              "    </tr>\n",
              "    <tr>\n",
              "      <th>2</th>\n",
              "      <td>7</td>\n",
              "      <td>1.0</td>\n",
              "      <td>3</td>\n",
              "      <td>Caipora</td>\n",
              "      <td>2019-02-04</td>\n",
              "      <td>Dragonball</td>\n",
              "      <td>RX</td>\n",
              "      <td>10</td>\n",
              "    </tr>\n",
              "    <tr>\n",
              "      <th>3</th>\n",
              "      <td>7</td>\n",
              "      <td>1.0</td>\n",
              "      <td>3</td>\n",
              "      <td>Cigarro</td>\n",
              "      <td>2019-02-04</td>\n",
              "      <td>Dragonball</td>\n",
              "      <td>RX</td>\n",
              "      <td>10</td>\n",
              "    </tr>\n",
              "    <tr>\n",
              "      <th>4</th>\n",
              "      <td>7</td>\n",
              "      <td>1.0</td>\n",
              "      <td>3</td>\n",
              "      <td>Cinema</td>\n",
              "      <td>2019-02-04</td>\n",
              "      <td>Dragonball</td>\n",
              "      <td>RX</td>\n",
              "      <td>10</td>\n",
              "    </tr>\n",
              "  </tbody>\n",
              "</table>\n",
              "</div>"
            ],
            "text/plain": [
              "   A    B  C        D          E           F   G  Soma\n",
              "0  7  1.0  3    Carro 2019-02-04  Dragonball  RX    10\n",
              "1  7  1.0  3   Coelho 2019-02-04  Dragonball  RX    10\n",
              "2  7  1.0  3  Caipora 2019-02-04  Dragonball  RX    10\n",
              "3  7  1.0  3  Cigarro 2019-02-04  Dragonball  RX    10\n",
              "4  7  1.0  3   Cinema 2019-02-04  Dragonball  RX    10"
            ]
          },
          "metadata": {
            "tags": []
          },
          "execution_count": 15
        }
      ]
    },
    {
      "cell_type": "code",
      "metadata": {
        "id": "fPwoChMI1WuN",
        "outputId": "646a4bfb-293b-4c53-da05-49bc137e5d4c",
        "colab": {
          "base_uri": "https://localhost:8080/",
          "height": 297
        }
      },
      "source": [
        "#Transposta\n",
        "df2.T"
      ],
      "execution_count": 16,
      "outputs": [
        {
          "output_type": "execute_result",
          "data": {
            "text/html": [
              "<div>\n",
              "<style scoped>\n",
              "    .dataframe tbody tr th:only-of-type {\n",
              "        vertical-align: middle;\n",
              "    }\n",
              "\n",
              "    .dataframe tbody tr th {\n",
              "        vertical-align: top;\n",
              "    }\n",
              "\n",
              "    .dataframe thead th {\n",
              "        text-align: right;\n",
              "    }\n",
              "</style>\n",
              "<table border=\"1\" class=\"dataframe\">\n",
              "  <thead>\n",
              "    <tr style=\"text-align: right;\">\n",
              "      <th></th>\n",
              "      <th>0</th>\n",
              "      <th>1</th>\n",
              "      <th>2</th>\n",
              "      <th>3</th>\n",
              "      <th>4</th>\n",
              "    </tr>\n",
              "  </thead>\n",
              "  <tbody>\n",
              "    <tr>\n",
              "      <th>A</th>\n",
              "      <td>7</td>\n",
              "      <td>7</td>\n",
              "      <td>7</td>\n",
              "      <td>7</td>\n",
              "      <td>7</td>\n",
              "    </tr>\n",
              "    <tr>\n",
              "      <th>B</th>\n",
              "      <td>1</td>\n",
              "      <td>1</td>\n",
              "      <td>1</td>\n",
              "      <td>1</td>\n",
              "      <td>1</td>\n",
              "    </tr>\n",
              "    <tr>\n",
              "      <th>C</th>\n",
              "      <td>3</td>\n",
              "      <td>3</td>\n",
              "      <td>3</td>\n",
              "      <td>3</td>\n",
              "      <td>3</td>\n",
              "    </tr>\n",
              "    <tr>\n",
              "      <th>D</th>\n",
              "      <td>Carro</td>\n",
              "      <td>Coelho</td>\n",
              "      <td>Caipora</td>\n",
              "      <td>Cigarro</td>\n",
              "      <td>Cinema</td>\n",
              "    </tr>\n",
              "    <tr>\n",
              "      <th>E</th>\n",
              "      <td>2019-02-04 00:00:00</td>\n",
              "      <td>2019-02-04 00:00:00</td>\n",
              "      <td>2019-02-04 00:00:00</td>\n",
              "      <td>2019-02-04 00:00:00</td>\n",
              "      <td>2019-02-04 00:00:00</td>\n",
              "    </tr>\n",
              "    <tr>\n",
              "      <th>F</th>\n",
              "      <td>Dragonball</td>\n",
              "      <td>Dragonball</td>\n",
              "      <td>Dragonball</td>\n",
              "      <td>Dragonball</td>\n",
              "      <td>Dragonball</td>\n",
              "    </tr>\n",
              "    <tr>\n",
              "      <th>G</th>\n",
              "      <td>RX</td>\n",
              "      <td>RX</td>\n",
              "      <td>RX</td>\n",
              "      <td>RX</td>\n",
              "      <td>RX</td>\n",
              "    </tr>\n",
              "    <tr>\n",
              "      <th>Soma</th>\n",
              "      <td>10</td>\n",
              "      <td>10</td>\n",
              "      <td>10</td>\n",
              "      <td>10</td>\n",
              "      <td>10</td>\n",
              "    </tr>\n",
              "  </tbody>\n",
              "</table>\n",
              "</div>"
            ],
            "text/plain": [
              "                        0  ...                    4\n",
              "A                       7  ...                    7\n",
              "B                       1  ...                    1\n",
              "C                       3  ...                    3\n",
              "D                   Carro  ...               Cinema\n",
              "E     2019-02-04 00:00:00  ...  2019-02-04 00:00:00\n",
              "F              Dragonball  ...           Dragonball\n",
              "G                      RX  ...                   RX\n",
              "Soma                   10  ...                   10\n",
              "\n",
              "[8 rows x 5 columns]"
            ]
          },
          "metadata": {
            "tags": []
          },
          "execution_count": 16
        }
      ]
    },
    {
      "cell_type": "markdown",
      "metadata": {
        "id": "CPU5empJzhwM"
      },
      "source": [
        "**7.** **Concatenando** dataframes"
      ]
    },
    {
      "cell_type": "code",
      "metadata": {
        "id": "a0u1RTXFziWE"
      },
      "source": [
        "df1 = pd.DataFrame(np.random.randn(2,2), index = pd.date_range(\"20190104\",periods=2,freq=\"D\"), columns = list(\"AB\"))\n",
        "df2 = pd.DataFrame(np.random.randn(2,2), index = pd.date_range(\"20190106\",periods=2,freq=\"D\"), columns = list(\"AB\"))\n",
        "df3 = pd.DataFrame(np.random.randn(2,2), index = pd.date_range(\"20190108\",periods=2,freq=\"D\"), columns = list(\"AB\"))"
      ],
      "execution_count": 18,
      "outputs": []
    },
    {
      "cell_type": "code",
      "metadata": {
        "id": "f1vAC1FHESAp",
        "outputId": "6b11ec86-8a7d-4496-9b9d-79e003bc8e4f",
        "colab": {
          "base_uri": "https://localhost:8080/",
          "height": 235
        }
      },
      "source": [
        "combinacao = pd.concat([df1,df2,df3],keys=[\"df1\",\"df2\",\"df3\"])\n",
        "combinacao"
      ],
      "execution_count": 20,
      "outputs": [
        {
          "output_type": "execute_result",
          "data": {
            "text/html": [
              "<div>\n",
              "<style scoped>\n",
              "    .dataframe tbody tr th:only-of-type {\n",
              "        vertical-align: middle;\n",
              "    }\n",
              "\n",
              "    .dataframe tbody tr th {\n",
              "        vertical-align: top;\n",
              "    }\n",
              "\n",
              "    .dataframe thead th {\n",
              "        text-align: right;\n",
              "    }\n",
              "</style>\n",
              "<table border=\"1\" class=\"dataframe\">\n",
              "  <thead>\n",
              "    <tr style=\"text-align: right;\">\n",
              "      <th></th>\n",
              "      <th></th>\n",
              "      <th>A</th>\n",
              "      <th>B</th>\n",
              "    </tr>\n",
              "  </thead>\n",
              "  <tbody>\n",
              "    <tr>\n",
              "      <th rowspan=\"2\" valign=\"top\">df1</th>\n",
              "      <th>2019-01-04</th>\n",
              "      <td>-1.942876</td>\n",
              "      <td>0.281525</td>\n",
              "    </tr>\n",
              "    <tr>\n",
              "      <th>2019-01-05</th>\n",
              "      <td>0.094521</td>\n",
              "      <td>0.029968</td>\n",
              "    </tr>\n",
              "    <tr>\n",
              "      <th rowspan=\"2\" valign=\"top\">df2</th>\n",
              "      <th>2019-01-06</th>\n",
              "      <td>0.500834</td>\n",
              "      <td>-1.647706</td>\n",
              "    </tr>\n",
              "    <tr>\n",
              "      <th>2019-01-07</th>\n",
              "      <td>0.774551</td>\n",
              "      <td>-1.103098</td>\n",
              "    </tr>\n",
              "    <tr>\n",
              "      <th rowspan=\"2\" valign=\"top\">df3</th>\n",
              "      <th>2019-01-08</th>\n",
              "      <td>0.442636</td>\n",
              "      <td>-0.734281</td>\n",
              "    </tr>\n",
              "    <tr>\n",
              "      <th>2019-01-09</th>\n",
              "      <td>0.011706</td>\n",
              "      <td>1.962418</td>\n",
              "    </tr>\n",
              "  </tbody>\n",
              "</table>\n",
              "</div>"
            ],
            "text/plain": [
              "                       A         B\n",
              "df1 2019-01-04 -1.942876  0.281525\n",
              "    2019-01-05  0.094521  0.029968\n",
              "df2 2019-01-06  0.500834 -1.647706\n",
              "    2019-01-07  0.774551 -1.103098\n",
              "df3 2019-01-08  0.442636 -0.734281\n",
              "    2019-01-09  0.011706  1.962418"
            ]
          },
          "metadata": {
            "tags": []
          },
          "execution_count": 20
        }
      ]
    },
    {
      "cell_type": "code",
      "metadata": {
        "id": "6xhoO0quGDlo",
        "outputId": "165c0650-dec4-44ca-ec20-f5894e0e0b01",
        "colab": {
          "base_uri": "https://localhost:8080/",
          "height": 136
        }
      },
      "source": [
        "#\"Selecionando\" informações da coluna\n",
        "combinacao[\"A\"]"
      ],
      "execution_count": 21,
      "outputs": [
        {
          "output_type": "execute_result",
          "data": {
            "text/plain": [
              "df1  2019-01-04   -1.942876\n",
              "     2019-01-05    0.094521\n",
              "df2  2019-01-06    0.500834\n",
              "     2019-01-07    0.774551\n",
              "df3  2019-01-08    0.442636\n",
              "     2019-01-09    0.011706\n",
              "Name: A, dtype: float64"
            ]
          },
          "metadata": {
            "tags": []
          },
          "execution_count": 21
        }
      ]
    },
    {
      "cell_type": "code",
      "metadata": {
        "id": "O89DKLEjGPE_",
        "outputId": "41162960-302c-4327-f2e1-2e342583df54",
        "colab": {
          "base_uri": "https://localhost:8080/",
          "height": 111
        }
      },
      "source": [
        "#Selecionando key\n",
        "combinacao.loc[\"df1\"]"
      ],
      "execution_count": 23,
      "outputs": [
        {
          "output_type": "execute_result",
          "data": {
            "text/html": [
              "<div>\n",
              "<style scoped>\n",
              "    .dataframe tbody tr th:only-of-type {\n",
              "        vertical-align: middle;\n",
              "    }\n",
              "\n",
              "    .dataframe tbody tr th {\n",
              "        vertical-align: top;\n",
              "    }\n",
              "\n",
              "    .dataframe thead th {\n",
              "        text-align: right;\n",
              "    }\n",
              "</style>\n",
              "<table border=\"1\" class=\"dataframe\">\n",
              "  <thead>\n",
              "    <tr style=\"text-align: right;\">\n",
              "      <th></th>\n",
              "      <th>A</th>\n",
              "      <th>B</th>\n",
              "    </tr>\n",
              "  </thead>\n",
              "  <tbody>\n",
              "    <tr>\n",
              "      <th>2019-01-04</th>\n",
              "      <td>-1.942876</td>\n",
              "      <td>0.281525</td>\n",
              "    </tr>\n",
              "    <tr>\n",
              "      <th>2019-01-05</th>\n",
              "      <td>0.094521</td>\n",
              "      <td>0.029968</td>\n",
              "    </tr>\n",
              "  </tbody>\n",
              "</table>\n",
              "</div>"
            ],
            "text/plain": [
              "                   A         B\n",
              "2019-01-04 -1.942876  0.281525\n",
              "2019-01-05  0.094521  0.029968"
            ]
          },
          "metadata": {
            "tags": []
          },
          "execution_count": 23
        }
      ]
    },
    {
      "cell_type": "markdown",
      "metadata": {
        "id": "X36XkQE-Hz94"
      },
      "source": [
        "**8.** Aplicando **Merge**"
      ]
    },
    {
      "cell_type": "code",
      "metadata": {
        "id": "K_ecl3vuH9Au"
      },
      "source": [
        ""
      ],
      "execution_count": null,
      "outputs": []
    }
  ]
}