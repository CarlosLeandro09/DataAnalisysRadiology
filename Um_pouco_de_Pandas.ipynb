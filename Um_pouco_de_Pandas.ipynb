{
  "nbformat": 4,
  "nbformat_minor": 0,
  "metadata": {
    "colab": {
      "name": "Um_pouco_de_Pandas.ipynb",
      "provenance": [],
      "collapsed_sections": [],
      "authorship_tag": "ABX9TyOPWwxL/KXfTeXN3Iyz6i0x",
      "include_colab_link": true
    },
    "kernelspec": {
      "name": "python3",
      "display_name": "Python 3"
    }
  },
  "cells": [
    {
      "cell_type": "markdown",
      "metadata": {
        "id": "view-in-github",
        "colab_type": "text"
      },
      "source": [
        "<a href=\"https://colab.research.google.com/github/CarlosLeandro09/DataAnalisysRadiology/blob/main/Um_pouco_de_Pandas.ipynb\" target=\"_parent\"><img src=\"https://colab.research.google.com/assets/colab-badge.svg\" alt=\"Open In Colab\"/></a>"
      ]
    },
    {
      "cell_type": "markdown",
      "metadata": {
        "id": "4hKdBzqOczBi"
      },
      "source": [
        "# **Basic stage**"
      ]
    },
    {
      "cell_type": "markdown",
      "metadata": {
        "id": "VPPIbP1sdifm"
      },
      "source": [
        "**1.** Importações importantes para um estágio inicial"
      ]
    },
    {
      "cell_type": "code",
      "metadata": {
        "id": "lxpTmWuwVJ_H"
      },
      "source": [
        "import pandas as pd\n",
        "import numpy as np"
      ],
      "execution_count": 2,
      "outputs": []
    },
    {
      "cell_type": "markdown",
      "metadata": {
        "id": "IARv9R1kdRPk"
      },
      "source": [
        "**2.** Dados em uma escala temporal: **Séries**"
      ]
    },
    {
      "cell_type": "code",
      "metadata": {
        "id": "0bx5F_KqVqJi",
        "outputId": "50263721-a8ed-4f88-fd3e-b8dd6d8bf5ab",
        "colab": {
          "base_uri": "https://localhost:8080/",
          "height": 102
        }
      },
      "source": [
        "series = pd.Series([np.nan, 0, 1, 2])\n",
        "series"
      ],
      "execution_count": 3,
      "outputs": [
        {
          "output_type": "execute_result",
          "data": {
            "text/plain": [
              "0    NaN\n",
              "1    0.0\n",
              "2    1.0\n",
              "3    2.0\n",
              "dtype: float64"
            ]
          },
          "metadata": {
            "tags": []
          },
          "execution_count": 3
        }
      ]
    },
    {
      "cell_type": "markdown",
      "metadata": {
        "id": "fnx9ZerceR0F"
      },
      "source": [
        "**3.** Ainda relativo a séries, vamos \"manipular\" **datas**...\n",
        "\n",
        "pd.date_range(start=None, end=None, periods=None, freq=None, tz=None, normalize=False, name=None, closed=None, **kwargs)   "
      ]
    },
    {
      "cell_type": "code",
      "metadata": {
        "id": "mZqIRS1veCcC",
        "outputId": "806f5b21-acff-4eab-844d-3fea55e3ee8d",
        "colab": {
          "base_uri": "https://localhost:8080/",
          "height": 34
        }
      },
      "source": [
        "datas = pd.date_range(\"20200101\",periods=4,freq=\"D\")\n",
        "datas"
      ],
      "execution_count": 7,
      "outputs": [
        {
          "output_type": "execute_result",
          "data": {
            "text/plain": [
              "DatetimeIndex(['2020-01-01', '2020-01-02', '2020-01-03', '2020-01-04'], dtype='datetime64[ns]', freq='D')"
            ]
          },
          "metadata": {
            "tags": []
          },
          "execution_count": 7
        }
      ]
    },
    {
      "cell_type": "markdown",
      "metadata": {
        "id": "LqYT1pZ2iXbY"
      },
      "source": [
        "**4.** Criação de **DataFrame**"
      ]
    },
    {
      "cell_type": "code",
      "metadata": {
        "id": "rAJC48ffe2XO",
        "outputId": "a58d4684-c86e-4340-ecac-6629b1d18137",
        "colab": {
          "base_uri": "https://localhost:8080/",
          "height": 173
        }
      },
      "source": [
        "df = pd.DataFrame(np.random.randn(4,4), index = datas, columns = list(\"ABCD\"))\n",
        "df"
      ],
      "execution_count": 13,
      "outputs": [
        {
          "output_type": "execute_result",
          "data": {
            "text/html": [
              "<div>\n",
              "<style scoped>\n",
              "    .dataframe tbody tr th:only-of-type {\n",
              "        vertical-align: middle;\n",
              "    }\n",
              "\n",
              "    .dataframe tbody tr th {\n",
              "        vertical-align: top;\n",
              "    }\n",
              "\n",
              "    .dataframe thead th {\n",
              "        text-align: right;\n",
              "    }\n",
              "</style>\n",
              "<table border=\"1\" class=\"dataframe\">\n",
              "  <thead>\n",
              "    <tr style=\"text-align: right;\">\n",
              "      <th></th>\n",
              "      <th>A</th>\n",
              "      <th>B</th>\n",
              "      <th>C</th>\n",
              "      <th>D</th>\n",
              "    </tr>\n",
              "  </thead>\n",
              "  <tbody>\n",
              "    <tr>\n",
              "      <th>2020-01-01</th>\n",
              "      <td>-0.315967</td>\n",
              "      <td>1.206254</td>\n",
              "      <td>1.361349</td>\n",
              "      <td>0.280692</td>\n",
              "    </tr>\n",
              "    <tr>\n",
              "      <th>2020-01-02</th>\n",
              "      <td>-0.499006</td>\n",
              "      <td>-0.288771</td>\n",
              "      <td>-0.892038</td>\n",
              "      <td>-0.504584</td>\n",
              "    </tr>\n",
              "    <tr>\n",
              "      <th>2020-01-03</th>\n",
              "      <td>0.005865</td>\n",
              "      <td>-0.050910</td>\n",
              "      <td>1.916251</td>\n",
              "      <td>-0.895642</td>\n",
              "    </tr>\n",
              "    <tr>\n",
              "      <th>2020-01-04</th>\n",
              "      <td>0.001959</td>\n",
              "      <td>-1.682268</td>\n",
              "      <td>-0.794105</td>\n",
              "      <td>0.314212</td>\n",
              "    </tr>\n",
              "  </tbody>\n",
              "</table>\n",
              "</div>"
            ],
            "text/plain": [
              "                   A         B         C         D\n",
              "2020-01-01 -0.315967  1.206254  1.361349  0.280692\n",
              "2020-01-02 -0.499006 -0.288771 -0.892038 -0.504584\n",
              "2020-01-03  0.005865 -0.050910  1.916251 -0.895642\n",
              "2020-01-04  0.001959 -1.682268 -0.794105  0.314212"
            ]
          },
          "metadata": {
            "tags": []
          },
          "execution_count": 13
        }
      ]
    },
    {
      "cell_type": "code",
      "metadata": {
        "id": "aAQ6pb7QpnMQ",
        "outputId": "a7d965f0-3700-417f-af0e-d8707b3a64e4",
        "colab": {
          "base_uri": "https://localhost:8080/",
          "height": 204
        }
      },
      "source": [
        "df2 = pd.DataFrame({\"A\":7,\n",
        "                    \"B\":pd.Series(1,index=list(range(5)),dtype=\"float32\"),\n",
        "                    \"C\":np.array([3]*5,dtype=\"int32\"), \n",
        "                    \"D\":pd.Categorical([\"Carro\",\"Coelho\",\"Caipora\",\"Cigarro\",\"Cinema\"]),\n",
        "                    \"E\":pd.Timestamp(\"20190204\"),\n",
        "                    \"F\":\"Dragonball\"})\n",
        "df2"
      ],
      "execution_count": 25,
      "outputs": [
        {
          "output_type": "execute_result",
          "data": {
            "text/html": [
              "<div>\n",
              "<style scoped>\n",
              "    .dataframe tbody tr th:only-of-type {\n",
              "        vertical-align: middle;\n",
              "    }\n",
              "\n",
              "    .dataframe tbody tr th {\n",
              "        vertical-align: top;\n",
              "    }\n",
              "\n",
              "    .dataframe thead th {\n",
              "        text-align: right;\n",
              "    }\n",
              "</style>\n",
              "<table border=\"1\" class=\"dataframe\">\n",
              "  <thead>\n",
              "    <tr style=\"text-align: right;\">\n",
              "      <th></th>\n",
              "      <th>A</th>\n",
              "      <th>B</th>\n",
              "      <th>C</th>\n",
              "      <th>D</th>\n",
              "      <th>E</th>\n",
              "      <th>F</th>\n",
              "    </tr>\n",
              "  </thead>\n",
              "  <tbody>\n",
              "    <tr>\n",
              "      <th>0</th>\n",
              "      <td>7</td>\n",
              "      <td>1.0</td>\n",
              "      <td>3</td>\n",
              "      <td>Carro</td>\n",
              "      <td>2019-02-04</td>\n",
              "      <td>Dragonball</td>\n",
              "    </tr>\n",
              "    <tr>\n",
              "      <th>1</th>\n",
              "      <td>7</td>\n",
              "      <td>1.0</td>\n",
              "      <td>3</td>\n",
              "      <td>Coelho</td>\n",
              "      <td>2019-02-04</td>\n",
              "      <td>Dragonball</td>\n",
              "    </tr>\n",
              "    <tr>\n",
              "      <th>2</th>\n",
              "      <td>7</td>\n",
              "      <td>1.0</td>\n",
              "      <td>3</td>\n",
              "      <td>Caipora</td>\n",
              "      <td>2019-02-04</td>\n",
              "      <td>Dragonball</td>\n",
              "    </tr>\n",
              "    <tr>\n",
              "      <th>3</th>\n",
              "      <td>7</td>\n",
              "      <td>1.0</td>\n",
              "      <td>3</td>\n",
              "      <td>Cigarro</td>\n",
              "      <td>2019-02-04</td>\n",
              "      <td>Dragonball</td>\n",
              "    </tr>\n",
              "    <tr>\n",
              "      <th>4</th>\n",
              "      <td>7</td>\n",
              "      <td>1.0</td>\n",
              "      <td>3</td>\n",
              "      <td>Cinema</td>\n",
              "      <td>2019-02-04</td>\n",
              "      <td>Dragonball</td>\n",
              "    </tr>\n",
              "  </tbody>\n",
              "</table>\n",
              "</div>"
            ],
            "text/plain": [
              "   A    B  C        D          E           F\n",
              "0  7  1.0  3    Carro 2019-02-04  Dragonball\n",
              "1  7  1.0  3   Coelho 2019-02-04  Dragonball\n",
              "2  7  1.0  3  Caipora 2019-02-04  Dragonball\n",
              "3  7  1.0  3  Cigarro 2019-02-04  Dragonball\n",
              "4  7  1.0  3   Cinema 2019-02-04  Dragonball"
            ]
          },
          "metadata": {
            "tags": []
          },
          "execution_count": 25
        }
      ]
    },
    {
      "cell_type": "code",
      "metadata": {
        "id": "ttdjqdxT0DNL",
        "outputId": "8b0b12f9-2763-4113-aac4-76382ff354fb",
        "colab": {
          "base_uri": "https://localhost:8080/",
          "height": 142
        }
      },
      "source": [
        "df2.head(3)"
      ],
      "execution_count": 33,
      "outputs": [
        {
          "output_type": "execute_result",
          "data": {
            "text/html": [
              "<div>\n",
              "<style scoped>\n",
              "    .dataframe tbody tr th:only-of-type {\n",
              "        vertical-align: middle;\n",
              "    }\n",
              "\n",
              "    .dataframe tbody tr th {\n",
              "        vertical-align: top;\n",
              "    }\n",
              "\n",
              "    .dataframe thead th {\n",
              "        text-align: right;\n",
              "    }\n",
              "</style>\n",
              "<table border=\"1\" class=\"dataframe\">\n",
              "  <thead>\n",
              "    <tr style=\"text-align: right;\">\n",
              "      <th></th>\n",
              "      <th>A</th>\n",
              "      <th>B</th>\n",
              "      <th>C</th>\n",
              "      <th>D</th>\n",
              "      <th>E</th>\n",
              "      <th>F</th>\n",
              "      <th>G</th>\n",
              "      <th>Soma</th>\n",
              "    </tr>\n",
              "  </thead>\n",
              "  <tbody>\n",
              "    <tr>\n",
              "      <th>0</th>\n",
              "      <td>7</td>\n",
              "      <td>1.0</td>\n",
              "      <td>3</td>\n",
              "      <td>Carro</td>\n",
              "      <td>2019-02-04</td>\n",
              "      <td>Dragonball</td>\n",
              "      <td>RX</td>\n",
              "      <td>10</td>\n",
              "    </tr>\n",
              "    <tr>\n",
              "      <th>1</th>\n",
              "      <td>7</td>\n",
              "      <td>1.0</td>\n",
              "      <td>3</td>\n",
              "      <td>Coelho</td>\n",
              "      <td>2019-02-04</td>\n",
              "      <td>Dragonball</td>\n",
              "      <td>RX</td>\n",
              "      <td>10</td>\n",
              "    </tr>\n",
              "    <tr>\n",
              "      <th>2</th>\n",
              "      <td>7</td>\n",
              "      <td>1.0</td>\n",
              "      <td>3</td>\n",
              "      <td>Caipora</td>\n",
              "      <td>2019-02-04</td>\n",
              "      <td>Dragonball</td>\n",
              "      <td>RX</td>\n",
              "      <td>10</td>\n",
              "    </tr>\n",
              "  </tbody>\n",
              "</table>\n",
              "</div>"
            ],
            "text/plain": [
              "   A    B  C        D          E           F   G  Soma\n",
              "0  7  1.0  3    Carro 2019-02-04  Dragonball  RX    10\n",
              "1  7  1.0  3   Coelho 2019-02-04  Dragonball  RX    10\n",
              "2  7  1.0  3  Caipora 2019-02-04  Dragonball  RX    10"
            ]
          },
          "metadata": {
            "tags": []
          },
          "execution_count": 33
        }
      ]
    },
    {
      "cell_type": "code",
      "metadata": {
        "id": "7KQXBSul0N0b",
        "outputId": "330d6ea7-6d1f-4459-eda6-6ac271ff3819",
        "colab": {
          "base_uri": "https://localhost:8080/",
          "height": 142
        }
      },
      "source": [
        "df2.tail(3)"
      ],
      "execution_count": 34,
      "outputs": [
        {
          "output_type": "execute_result",
          "data": {
            "text/html": [
              "<div>\n",
              "<style scoped>\n",
              "    .dataframe tbody tr th:only-of-type {\n",
              "        vertical-align: middle;\n",
              "    }\n",
              "\n",
              "    .dataframe tbody tr th {\n",
              "        vertical-align: top;\n",
              "    }\n",
              "\n",
              "    .dataframe thead th {\n",
              "        text-align: right;\n",
              "    }\n",
              "</style>\n",
              "<table border=\"1\" class=\"dataframe\">\n",
              "  <thead>\n",
              "    <tr style=\"text-align: right;\">\n",
              "      <th></th>\n",
              "      <th>A</th>\n",
              "      <th>B</th>\n",
              "      <th>C</th>\n",
              "      <th>D</th>\n",
              "      <th>E</th>\n",
              "      <th>F</th>\n",
              "      <th>G</th>\n",
              "      <th>Soma</th>\n",
              "    </tr>\n",
              "  </thead>\n",
              "  <tbody>\n",
              "    <tr>\n",
              "      <th>2</th>\n",
              "      <td>7</td>\n",
              "      <td>1.0</td>\n",
              "      <td>3</td>\n",
              "      <td>Caipora</td>\n",
              "      <td>2019-02-04</td>\n",
              "      <td>Dragonball</td>\n",
              "      <td>RX</td>\n",
              "      <td>10</td>\n",
              "    </tr>\n",
              "    <tr>\n",
              "      <th>3</th>\n",
              "      <td>7</td>\n",
              "      <td>1.0</td>\n",
              "      <td>3</td>\n",
              "      <td>Cigarro</td>\n",
              "      <td>2019-02-04</td>\n",
              "      <td>Dragonball</td>\n",
              "      <td>RX</td>\n",
              "      <td>10</td>\n",
              "    </tr>\n",
              "    <tr>\n",
              "      <th>4</th>\n",
              "      <td>7</td>\n",
              "      <td>1.0</td>\n",
              "      <td>3</td>\n",
              "      <td>Cinema</td>\n",
              "      <td>2019-02-04</td>\n",
              "      <td>Dragonball</td>\n",
              "      <td>RX</td>\n",
              "      <td>10</td>\n",
              "    </tr>\n",
              "  </tbody>\n",
              "</table>\n",
              "</div>"
            ],
            "text/plain": [
              "   A    B  C        D          E           F   G  Soma\n",
              "2  7  1.0  3  Caipora 2019-02-04  Dragonball  RX    10\n",
              "3  7  1.0  3  Cigarro 2019-02-04  Dragonball  RX    10\n",
              "4  7  1.0  3   Cinema 2019-02-04  Dragonball  RX    10"
            ]
          },
          "metadata": {
            "tags": []
          },
          "execution_count": 34
        }
      ]
    },
    {
      "cell_type": "code",
      "metadata": {
        "id": "xycTxl200fVK",
        "outputId": "ac21a0f1-ecce-4070-e733-6a37f8b59dbb",
        "colab": {
          "base_uri": "https://localhost:8080/",
          "height": 34
        }
      },
      "source": [
        "df2.index"
      ],
      "execution_count": 35,
      "outputs": [
        {
          "output_type": "execute_result",
          "data": {
            "text/plain": [
              "Int64Index([0, 1, 2, 3, 4], dtype='int64')"
            ]
          },
          "metadata": {
            "tags": []
          },
          "execution_count": 35
        }
      ]
    },
    {
      "cell_type": "code",
      "metadata": {
        "id": "jvwsT0vJ0fG8",
        "outputId": "886f5044-7e53-4bfc-b3c1-52bdfb991b8a",
        "colab": {
          "base_uri": "https://localhost:8080/",
          "height": 34
        }
      },
      "source": [
        "df2.columns"
      ],
      "execution_count": 36,
      "outputs": [
        {
          "output_type": "execute_result",
          "data": {
            "text/plain": [
              "Index(['A', 'B', 'C', 'D', 'E', 'F', 'G', 'Soma'], dtype='object')"
            ]
          },
          "metadata": {
            "tags": []
          },
          "execution_count": 36
        }
      ]
    },
    {
      "cell_type": "code",
      "metadata": {
        "id": "1q3uWy800yjj",
        "outputId": "08110350-a5f0-4afd-c862-93cfd9046399",
        "colab": {
          "base_uri": "https://localhost:8080/",
          "height": 85
        }
      },
      "source": [
        "#df --> Tira índices e colunas\n",
        "df.to_numpy()"
      ],
      "execution_count": 39,
      "outputs": [
        {
          "output_type": "execute_result",
          "data": {
            "text/plain": [
              "array([[-0.31596681,  1.20625397,  1.36134855,  0.28069225],\n",
              "       [-0.49900598, -0.28877094, -0.89203772, -0.5045837 ],\n",
              "       [ 0.00586543, -0.05090964,  1.91625086, -0.8956424 ],\n",
              "       [ 0.00195941, -1.6822675 , -0.79410459,  0.31421248]])"
            ]
          },
          "metadata": {
            "tags": []
          },
          "execution_count": 39
        }
      ]
    },
    {
      "cell_type": "code",
      "metadata": {
        "id": "cif3fsratMuU",
        "outputId": "c41ddb19-82da-4806-8804-bfa9a7584a1d",
        "colab": {
          "base_uri": "https://localhost:8080/",
          "height": 170
        }
      },
      "source": [
        "df2.dtypes"
      ],
      "execution_count": 41,
      "outputs": [
        {
          "output_type": "execute_result",
          "data": {
            "text/plain": [
              "A                int64\n",
              "B              float32\n",
              "C                int32\n",
              "D             category\n",
              "E       datetime64[ns]\n",
              "F               object\n",
              "G               object\n",
              "Soma             int64\n",
              "dtype: object"
            ]
          },
          "metadata": {
            "tags": []
          },
          "execution_count": 41
        }
      ]
    },
    {
      "cell_type": "code",
      "metadata": {
        "id": "esbMWzy4tSIC",
        "outputId": "4a90c2c4-8c99-4deb-dcfe-8427e42ab9f4",
        "colab": {
          "base_uri": "https://localhost:8080/",
          "height": 34
        }
      },
      "source": [
        "df2.shape"
      ],
      "execution_count": 42,
      "outputs": [
        {
          "output_type": "execute_result",
          "data": {
            "text/plain": [
              "(5, 8)"
            ]
          },
          "metadata": {
            "tags": []
          },
          "execution_count": 42
        }
      ]
    },
    {
      "cell_type": "markdown",
      "metadata": {
        "id": "Cnhk7NQUtnk7"
      },
      "source": [
        "**5.** Adição de **colunas** ao DataFrame"
      ]
    },
    {
      "cell_type": "code",
      "metadata": {
        "id": "d_7Owmpmtln4",
        "outputId": "0241f8d1-ddc2-4811-a74f-7621e397eb79",
        "colab": {
          "base_uri": "https://localhost:8080/",
          "height": 204
        }
      },
      "source": [
        "df2[\"G\"] = pd.Series(\"RX\",index=list(range(5)),dtype=\"str\")\n",
        "df2"
      ],
      "execution_count": 43,
      "outputs": [
        {
          "output_type": "execute_result",
          "data": {
            "text/html": [
              "<div>\n",
              "<style scoped>\n",
              "    .dataframe tbody tr th:only-of-type {\n",
              "        vertical-align: middle;\n",
              "    }\n",
              "\n",
              "    .dataframe tbody tr th {\n",
              "        vertical-align: top;\n",
              "    }\n",
              "\n",
              "    .dataframe thead th {\n",
              "        text-align: right;\n",
              "    }\n",
              "</style>\n",
              "<table border=\"1\" class=\"dataframe\">\n",
              "  <thead>\n",
              "    <tr style=\"text-align: right;\">\n",
              "      <th></th>\n",
              "      <th>A</th>\n",
              "      <th>B</th>\n",
              "      <th>C</th>\n",
              "      <th>D</th>\n",
              "      <th>E</th>\n",
              "      <th>F</th>\n",
              "      <th>G</th>\n",
              "      <th>Soma</th>\n",
              "    </tr>\n",
              "  </thead>\n",
              "  <tbody>\n",
              "    <tr>\n",
              "      <th>0</th>\n",
              "      <td>7</td>\n",
              "      <td>1.0</td>\n",
              "      <td>3</td>\n",
              "      <td>Carro</td>\n",
              "      <td>2019-02-04</td>\n",
              "      <td>Dragonball</td>\n",
              "      <td>RX</td>\n",
              "      <td>10</td>\n",
              "    </tr>\n",
              "    <tr>\n",
              "      <th>1</th>\n",
              "      <td>7</td>\n",
              "      <td>1.0</td>\n",
              "      <td>3</td>\n",
              "      <td>Coelho</td>\n",
              "      <td>2019-02-04</td>\n",
              "      <td>Dragonball</td>\n",
              "      <td>RX</td>\n",
              "      <td>10</td>\n",
              "    </tr>\n",
              "    <tr>\n",
              "      <th>2</th>\n",
              "      <td>7</td>\n",
              "      <td>1.0</td>\n",
              "      <td>3</td>\n",
              "      <td>Caipora</td>\n",
              "      <td>2019-02-04</td>\n",
              "      <td>Dragonball</td>\n",
              "      <td>RX</td>\n",
              "      <td>10</td>\n",
              "    </tr>\n",
              "    <tr>\n",
              "      <th>3</th>\n",
              "      <td>7</td>\n",
              "      <td>1.0</td>\n",
              "      <td>3</td>\n",
              "      <td>Cigarro</td>\n",
              "      <td>2019-02-04</td>\n",
              "      <td>Dragonball</td>\n",
              "      <td>RX</td>\n",
              "      <td>10</td>\n",
              "    </tr>\n",
              "    <tr>\n",
              "      <th>4</th>\n",
              "      <td>7</td>\n",
              "      <td>1.0</td>\n",
              "      <td>3</td>\n",
              "      <td>Cinema</td>\n",
              "      <td>2019-02-04</td>\n",
              "      <td>Dragonball</td>\n",
              "      <td>RX</td>\n",
              "      <td>10</td>\n",
              "    </tr>\n",
              "  </tbody>\n",
              "</table>\n",
              "</div>"
            ],
            "text/plain": [
              "   A    B  C        D          E           F   G  Soma\n",
              "0  7  1.0  3    Carro 2019-02-04  Dragonball  RX    10\n",
              "1  7  1.0  3   Coelho 2019-02-04  Dragonball  RX    10\n",
              "2  7  1.0  3  Caipora 2019-02-04  Dragonball  RX    10\n",
              "3  7  1.0  3  Cigarro 2019-02-04  Dragonball  RX    10\n",
              "4  7  1.0  3   Cinema 2019-02-04  Dragonball  RX    10"
            ]
          },
          "metadata": {
            "tags": []
          },
          "execution_count": 43
        }
      ]
    },
    {
      "cell_type": "markdown",
      "metadata": {
        "id": "942ra8R3vEft"
      },
      "source": [
        "**6.** **Operação** entre colunas"
      ]
    },
    {
      "cell_type": "code",
      "metadata": {
        "id": "549cGAlrvLlM",
        "outputId": "ddc15cb9-45f0-43a5-c3f6-fc6d998a4a33",
        "colab": {
          "base_uri": "https://localhost:8080/",
          "height": 204
        }
      },
      "source": [
        "df2[\"Soma\"] = df2[\"A\"] + df2[\"C\"]\n",
        "df2"
      ],
      "execution_count": 32,
      "outputs": [
        {
          "output_type": "execute_result",
          "data": {
            "text/html": [
              "<div>\n",
              "<style scoped>\n",
              "    .dataframe tbody tr th:only-of-type {\n",
              "        vertical-align: middle;\n",
              "    }\n",
              "\n",
              "    .dataframe tbody tr th {\n",
              "        vertical-align: top;\n",
              "    }\n",
              "\n",
              "    .dataframe thead th {\n",
              "        text-align: right;\n",
              "    }\n",
              "</style>\n",
              "<table border=\"1\" class=\"dataframe\">\n",
              "  <thead>\n",
              "    <tr style=\"text-align: right;\">\n",
              "      <th></th>\n",
              "      <th>A</th>\n",
              "      <th>B</th>\n",
              "      <th>C</th>\n",
              "      <th>D</th>\n",
              "      <th>E</th>\n",
              "      <th>F</th>\n",
              "      <th>G</th>\n",
              "      <th>Soma</th>\n",
              "    </tr>\n",
              "  </thead>\n",
              "  <tbody>\n",
              "    <tr>\n",
              "      <th>0</th>\n",
              "      <td>7</td>\n",
              "      <td>1.0</td>\n",
              "      <td>3</td>\n",
              "      <td>Carro</td>\n",
              "      <td>2019-02-04</td>\n",
              "      <td>Dragonball</td>\n",
              "      <td>RX</td>\n",
              "      <td>10</td>\n",
              "    </tr>\n",
              "    <tr>\n",
              "      <th>1</th>\n",
              "      <td>7</td>\n",
              "      <td>1.0</td>\n",
              "      <td>3</td>\n",
              "      <td>Coelho</td>\n",
              "      <td>2019-02-04</td>\n",
              "      <td>Dragonball</td>\n",
              "      <td>RX</td>\n",
              "      <td>10</td>\n",
              "    </tr>\n",
              "    <tr>\n",
              "      <th>2</th>\n",
              "      <td>7</td>\n",
              "      <td>1.0</td>\n",
              "      <td>3</td>\n",
              "      <td>Caipora</td>\n",
              "      <td>2019-02-04</td>\n",
              "      <td>Dragonball</td>\n",
              "      <td>RX</td>\n",
              "      <td>10</td>\n",
              "    </tr>\n",
              "    <tr>\n",
              "      <th>3</th>\n",
              "      <td>7</td>\n",
              "      <td>1.0</td>\n",
              "      <td>3</td>\n",
              "      <td>Cigarro</td>\n",
              "      <td>2019-02-04</td>\n",
              "      <td>Dragonball</td>\n",
              "      <td>RX</td>\n",
              "      <td>10</td>\n",
              "    </tr>\n",
              "    <tr>\n",
              "      <th>4</th>\n",
              "      <td>7</td>\n",
              "      <td>1.0</td>\n",
              "      <td>3</td>\n",
              "      <td>Cinema</td>\n",
              "      <td>2019-02-04</td>\n",
              "      <td>Dragonball</td>\n",
              "      <td>RX</td>\n",
              "      <td>10</td>\n",
              "    </tr>\n",
              "  </tbody>\n",
              "</table>\n",
              "</div>"
            ],
            "text/plain": [
              "   A    B  C        D          E           F   G  Soma\n",
              "0  7  1.0  3    Carro 2019-02-04  Dragonball  RX    10\n",
              "1  7  1.0  3   Coelho 2019-02-04  Dragonball  RX    10\n",
              "2  7  1.0  3  Caipora 2019-02-04  Dragonball  RX    10\n",
              "3  7  1.0  3  Cigarro 2019-02-04  Dragonball  RX    10\n",
              "4  7  1.0  3   Cinema 2019-02-04  Dragonball  RX    10"
            ]
          },
          "metadata": {
            "tags": []
          },
          "execution_count": 32
        }
      ]
    },
    {
      "cell_type": "code",
      "metadata": {
        "id": "fPwoChMI1WuN",
        "outputId": "92cb117e-5cc6-4486-f1f1-d88fa711393d",
        "colab": {
          "base_uri": "https://localhost:8080/",
          "height": 297
        }
      },
      "source": [
        "#Transposta\n",
        "df2.T"
      ],
      "execution_count": 40,
      "outputs": [
        {
          "output_type": "execute_result",
          "data": {
            "text/html": [
              "<div>\n",
              "<style scoped>\n",
              "    .dataframe tbody tr th:only-of-type {\n",
              "        vertical-align: middle;\n",
              "    }\n",
              "\n",
              "    .dataframe tbody tr th {\n",
              "        vertical-align: top;\n",
              "    }\n",
              "\n",
              "    .dataframe thead th {\n",
              "        text-align: right;\n",
              "    }\n",
              "</style>\n",
              "<table border=\"1\" class=\"dataframe\">\n",
              "  <thead>\n",
              "    <tr style=\"text-align: right;\">\n",
              "      <th></th>\n",
              "      <th>0</th>\n",
              "      <th>1</th>\n",
              "      <th>2</th>\n",
              "      <th>3</th>\n",
              "      <th>4</th>\n",
              "    </tr>\n",
              "  </thead>\n",
              "  <tbody>\n",
              "    <tr>\n",
              "      <th>A</th>\n",
              "      <td>7</td>\n",
              "      <td>7</td>\n",
              "      <td>7</td>\n",
              "      <td>7</td>\n",
              "      <td>7</td>\n",
              "    </tr>\n",
              "    <tr>\n",
              "      <th>B</th>\n",
              "      <td>1</td>\n",
              "      <td>1</td>\n",
              "      <td>1</td>\n",
              "      <td>1</td>\n",
              "      <td>1</td>\n",
              "    </tr>\n",
              "    <tr>\n",
              "      <th>C</th>\n",
              "      <td>3</td>\n",
              "      <td>3</td>\n",
              "      <td>3</td>\n",
              "      <td>3</td>\n",
              "      <td>3</td>\n",
              "    </tr>\n",
              "    <tr>\n",
              "      <th>D</th>\n",
              "      <td>Carro</td>\n",
              "      <td>Coelho</td>\n",
              "      <td>Caipora</td>\n",
              "      <td>Cigarro</td>\n",
              "      <td>Cinema</td>\n",
              "    </tr>\n",
              "    <tr>\n",
              "      <th>E</th>\n",
              "      <td>2019-02-04 00:00:00</td>\n",
              "      <td>2019-02-04 00:00:00</td>\n",
              "      <td>2019-02-04 00:00:00</td>\n",
              "      <td>2019-02-04 00:00:00</td>\n",
              "      <td>2019-02-04 00:00:00</td>\n",
              "    </tr>\n",
              "    <tr>\n",
              "      <th>F</th>\n",
              "      <td>Dragonball</td>\n",
              "      <td>Dragonball</td>\n",
              "      <td>Dragonball</td>\n",
              "      <td>Dragonball</td>\n",
              "      <td>Dragonball</td>\n",
              "    </tr>\n",
              "    <tr>\n",
              "      <th>G</th>\n",
              "      <td>RX</td>\n",
              "      <td>RX</td>\n",
              "      <td>RX</td>\n",
              "      <td>RX</td>\n",
              "      <td>RX</td>\n",
              "    </tr>\n",
              "    <tr>\n",
              "      <th>Soma</th>\n",
              "      <td>10</td>\n",
              "      <td>10</td>\n",
              "      <td>10</td>\n",
              "      <td>10</td>\n",
              "      <td>10</td>\n",
              "    </tr>\n",
              "  </tbody>\n",
              "</table>\n",
              "</div>"
            ],
            "text/plain": [
              "                        0  ...                    4\n",
              "A                       7  ...                    7\n",
              "B                       1  ...                    1\n",
              "C                       3  ...                    3\n",
              "D                   Carro  ...               Cinema\n",
              "E     2019-02-04 00:00:00  ...  2019-02-04 00:00:00\n",
              "F              Dragonball  ...           Dragonball\n",
              "G                      RX  ...                   RX\n",
              "Soma                   10  ...                   10\n",
              "\n",
              "[8 rows x 5 columns]"
            ]
          },
          "metadata": {
            "tags": []
          },
          "execution_count": 40
        }
      ]
    },
    {
      "cell_type": "markdown",
      "metadata": {
        "id": "CPU5empJzhwM"
      },
      "source": [
        ""
      ]
    },
    {
      "cell_type": "code",
      "metadata": {
        "id": "a0u1RTXFziWE"
      },
      "source": [
        ""
      ],
      "execution_count": null,
      "outputs": []
    }
  ]
}