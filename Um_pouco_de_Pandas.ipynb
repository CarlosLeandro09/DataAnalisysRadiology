{
  "nbformat": 4,
  "nbformat_minor": 0,
  "metadata": {
    "colab": {
      "name": "Um_pouco_de_Pandas.ipynb",
      "provenance": [],
      "collapsed_sections": [],
      "authorship_tag": "ABX9TyPAXVYODcNnsZ3dwnCMa1r1",
      "include_colab_link": true
    },
    "kernelspec": {
      "name": "python3",
      "display_name": "Python 3"
    }
  },
  "cells": [
    {
      "cell_type": "markdown",
      "metadata": {
        "id": "view-in-github",
        "colab_type": "text"
      },
      "source": [
        "<a href=\"https://colab.research.google.com/github/CarlosLeandro09/DataAnalysisRadiology/blob/main/Um_pouco_de_Pandas.ipynb\" target=\"_parent\"><img src=\"https://colab.research.google.com/assets/colab-badge.svg\" alt=\"Open In Colab\"/></a>"
      ]
    },
    {
      "cell_type": "markdown",
      "metadata": {
        "id": "4hKdBzqOczBi"
      },
      "source": [
        "# **Basic stage**"
      ]
    },
    {
      "cell_type": "markdown",
      "metadata": {
        "id": "VPPIbP1sdifm"
      },
      "source": [
        "**1.** Importações importantes para um estágio inicial"
      ]
    },
    {
      "cell_type": "code",
      "metadata": {
        "id": "lxpTmWuwVJ_H"
      },
      "source": [
        "import pandas as pd\n",
        "import numpy as np"
      ],
      "execution_count": 1,
      "outputs": []
    },
    {
      "cell_type": "markdown",
      "metadata": {
        "id": "IARv9R1kdRPk"
      },
      "source": [
        "**2.** Dados em uma escala temporal: **Séries**"
      ]
    },
    {
      "cell_type": "code",
      "metadata": {
        "id": "0bx5F_KqVqJi",
        "outputId": "2fde0801-1671-4a85-96c5-cc35400d2585",
        "colab": {
          "base_uri": "https://localhost:8080/",
          "height": 102
        }
      },
      "source": [
        "series = pd.Series([np.nan, 0, 1, 2])\n",
        "series"
      ],
      "execution_count": 2,
      "outputs": [
        {
          "output_type": "execute_result",
          "data": {
            "text/plain": [
              "0    NaN\n",
              "1    0.0\n",
              "2    1.0\n",
              "3    2.0\n",
              "dtype: float64"
            ]
          },
          "metadata": {
            "tags": []
          },
          "execution_count": 2
        }
      ]
    },
    {
      "cell_type": "markdown",
      "metadata": {
        "id": "fnx9ZerceR0F"
      },
      "source": [
        "**3.** Ainda relativo a séries, vamos \"manipular\" **datas**...\n",
        "\n",
        "pd.date_range(start=None, end=None, periods=None, freq=None, tz=None, normalize=False, name=None, closed=None, **kwargs)   "
      ]
    },
    {
      "cell_type": "code",
      "metadata": {
        "id": "mZqIRS1veCcC",
        "outputId": "c41ce4e4-1588-41c6-90d9-1db57896a510",
        "colab": {
          "base_uri": "https://localhost:8080/",
          "height": 34
        }
      },
      "source": [
        "datas = pd.date_range(\"20200101\",periods=4,freq=\"D\")\n",
        "datas"
      ],
      "execution_count": 3,
      "outputs": [
        {
          "output_type": "execute_result",
          "data": {
            "text/plain": [
              "DatetimeIndex(['2020-01-01', '2020-01-02', '2020-01-03', '2020-01-04'], dtype='datetime64[ns]', freq='D')"
            ]
          },
          "metadata": {
            "tags": []
          },
          "execution_count": 3
        }
      ]
    },
    {
      "cell_type": "markdown",
      "metadata": {
        "id": "LqYT1pZ2iXbY"
      },
      "source": [
        "**4.** Criação de **DataFrame**"
      ]
    },
    {
      "cell_type": "code",
      "metadata": {
        "id": "rAJC48ffe2XO",
        "outputId": "4d83117f-c6cb-4d72-f608-c9249ebf2eba",
        "colab": {
          "base_uri": "https://localhost:8080/",
          "height": 173
        }
      },
      "source": [
        "df = pd.DataFrame(np.random.randn(4,4), index = datas, columns = list(\"ABCD\"))\n",
        "df"
      ],
      "execution_count": 4,
      "outputs": [
        {
          "output_type": "execute_result",
          "data": {
            "text/html": [
              "<div>\n",
              "<style scoped>\n",
              "    .dataframe tbody tr th:only-of-type {\n",
              "        vertical-align: middle;\n",
              "    }\n",
              "\n",
              "    .dataframe tbody tr th {\n",
              "        vertical-align: top;\n",
              "    }\n",
              "\n",
              "    .dataframe thead th {\n",
              "        text-align: right;\n",
              "    }\n",
              "</style>\n",
              "<table border=\"1\" class=\"dataframe\">\n",
              "  <thead>\n",
              "    <tr style=\"text-align: right;\">\n",
              "      <th></th>\n",
              "      <th>A</th>\n",
              "      <th>B</th>\n",
              "      <th>C</th>\n",
              "      <th>D</th>\n",
              "    </tr>\n",
              "  </thead>\n",
              "  <tbody>\n",
              "    <tr>\n",
              "      <th>2020-01-01</th>\n",
              "      <td>1.264532</td>\n",
              "      <td>0.260836</td>\n",
              "      <td>-0.425950</td>\n",
              "      <td>-0.118932</td>\n",
              "    </tr>\n",
              "    <tr>\n",
              "      <th>2020-01-02</th>\n",
              "      <td>-0.412366</td>\n",
              "      <td>0.009984</td>\n",
              "      <td>-0.448599</td>\n",
              "      <td>-1.231509</td>\n",
              "    </tr>\n",
              "    <tr>\n",
              "      <th>2020-01-03</th>\n",
              "      <td>0.332856</td>\n",
              "      <td>-0.254038</td>\n",
              "      <td>2.553168</td>\n",
              "      <td>0.558746</td>\n",
              "    </tr>\n",
              "    <tr>\n",
              "      <th>2020-01-04</th>\n",
              "      <td>1.133242</td>\n",
              "      <td>0.120179</td>\n",
              "      <td>0.853995</td>\n",
              "      <td>0.343288</td>\n",
              "    </tr>\n",
              "  </tbody>\n",
              "</table>\n",
              "</div>"
            ],
            "text/plain": [
              "                   A         B         C         D\n",
              "2020-01-01  1.264532  0.260836 -0.425950 -0.118932\n",
              "2020-01-02 -0.412366  0.009984 -0.448599 -1.231509\n",
              "2020-01-03  0.332856 -0.254038  2.553168  0.558746\n",
              "2020-01-04  1.133242  0.120179  0.853995  0.343288"
            ]
          },
          "metadata": {
            "tags": []
          },
          "execution_count": 4
        }
      ]
    },
    {
      "cell_type": "code",
      "metadata": {
        "id": "aAQ6pb7QpnMQ",
        "outputId": "998b9fc5-bacb-4a32-a55b-ecae08e2340c",
        "colab": {
          "base_uri": "https://localhost:8080/",
          "height": 204
        }
      },
      "source": [
        "df2 = pd.DataFrame({\"A\":7,\n",
        "                    \"B\":pd.Series(1,index=list(range(5)),dtype=\"float32\"),\n",
        "                    \"C\":np.array([3]*5,dtype=\"int32\"), \n",
        "                    \"D\":pd.Categorical([\"Carro\",\"Coelho\",\"Caipora\",\"Cigarro\",\"Cinema\"]),\n",
        "                    \"E\":pd.Timestamp(\"20190204\"),\n",
        "                    \"F\":\"Dragonball\"})\n",
        "df2"
      ],
      "execution_count": 5,
      "outputs": [
        {
          "output_type": "execute_result",
          "data": {
            "text/html": [
              "<div>\n",
              "<style scoped>\n",
              "    .dataframe tbody tr th:only-of-type {\n",
              "        vertical-align: middle;\n",
              "    }\n",
              "\n",
              "    .dataframe tbody tr th {\n",
              "        vertical-align: top;\n",
              "    }\n",
              "\n",
              "    .dataframe thead th {\n",
              "        text-align: right;\n",
              "    }\n",
              "</style>\n",
              "<table border=\"1\" class=\"dataframe\">\n",
              "  <thead>\n",
              "    <tr style=\"text-align: right;\">\n",
              "      <th></th>\n",
              "      <th>A</th>\n",
              "      <th>B</th>\n",
              "      <th>C</th>\n",
              "      <th>D</th>\n",
              "      <th>E</th>\n",
              "      <th>F</th>\n",
              "    </tr>\n",
              "  </thead>\n",
              "  <tbody>\n",
              "    <tr>\n",
              "      <th>0</th>\n",
              "      <td>7</td>\n",
              "      <td>1.0</td>\n",
              "      <td>3</td>\n",
              "      <td>Carro</td>\n",
              "      <td>2019-02-04</td>\n",
              "      <td>Dragonball</td>\n",
              "    </tr>\n",
              "    <tr>\n",
              "      <th>1</th>\n",
              "      <td>7</td>\n",
              "      <td>1.0</td>\n",
              "      <td>3</td>\n",
              "      <td>Coelho</td>\n",
              "      <td>2019-02-04</td>\n",
              "      <td>Dragonball</td>\n",
              "    </tr>\n",
              "    <tr>\n",
              "      <th>2</th>\n",
              "      <td>7</td>\n",
              "      <td>1.0</td>\n",
              "      <td>3</td>\n",
              "      <td>Caipora</td>\n",
              "      <td>2019-02-04</td>\n",
              "      <td>Dragonball</td>\n",
              "    </tr>\n",
              "    <tr>\n",
              "      <th>3</th>\n",
              "      <td>7</td>\n",
              "      <td>1.0</td>\n",
              "      <td>3</td>\n",
              "      <td>Cigarro</td>\n",
              "      <td>2019-02-04</td>\n",
              "      <td>Dragonball</td>\n",
              "    </tr>\n",
              "    <tr>\n",
              "      <th>4</th>\n",
              "      <td>7</td>\n",
              "      <td>1.0</td>\n",
              "      <td>3</td>\n",
              "      <td>Cinema</td>\n",
              "      <td>2019-02-04</td>\n",
              "      <td>Dragonball</td>\n",
              "    </tr>\n",
              "  </tbody>\n",
              "</table>\n",
              "</div>"
            ],
            "text/plain": [
              "   A    B  C        D          E           F\n",
              "0  7  1.0  3    Carro 2019-02-04  Dragonball\n",
              "1  7  1.0  3   Coelho 2019-02-04  Dragonball\n",
              "2  7  1.0  3  Caipora 2019-02-04  Dragonball\n",
              "3  7  1.0  3  Cigarro 2019-02-04  Dragonball\n",
              "4  7  1.0  3   Cinema 2019-02-04  Dragonball"
            ]
          },
          "metadata": {
            "tags": []
          },
          "execution_count": 5
        }
      ]
    },
    {
      "cell_type": "code",
      "metadata": {
        "id": "ttdjqdxT0DNL",
        "outputId": "51234f5c-20b8-4fde-955e-2894049c3a21",
        "colab": {
          "base_uri": "https://localhost:8080/",
          "height": 142
        }
      },
      "source": [
        "df2.head(3)"
      ],
      "execution_count": 6,
      "outputs": [
        {
          "output_type": "execute_result",
          "data": {
            "text/html": [
              "<div>\n",
              "<style scoped>\n",
              "    .dataframe tbody tr th:only-of-type {\n",
              "        vertical-align: middle;\n",
              "    }\n",
              "\n",
              "    .dataframe tbody tr th {\n",
              "        vertical-align: top;\n",
              "    }\n",
              "\n",
              "    .dataframe thead th {\n",
              "        text-align: right;\n",
              "    }\n",
              "</style>\n",
              "<table border=\"1\" class=\"dataframe\">\n",
              "  <thead>\n",
              "    <tr style=\"text-align: right;\">\n",
              "      <th></th>\n",
              "      <th>A</th>\n",
              "      <th>B</th>\n",
              "      <th>C</th>\n",
              "      <th>D</th>\n",
              "      <th>E</th>\n",
              "      <th>F</th>\n",
              "    </tr>\n",
              "  </thead>\n",
              "  <tbody>\n",
              "    <tr>\n",
              "      <th>0</th>\n",
              "      <td>7</td>\n",
              "      <td>1.0</td>\n",
              "      <td>3</td>\n",
              "      <td>Carro</td>\n",
              "      <td>2019-02-04</td>\n",
              "      <td>Dragonball</td>\n",
              "    </tr>\n",
              "    <tr>\n",
              "      <th>1</th>\n",
              "      <td>7</td>\n",
              "      <td>1.0</td>\n",
              "      <td>3</td>\n",
              "      <td>Coelho</td>\n",
              "      <td>2019-02-04</td>\n",
              "      <td>Dragonball</td>\n",
              "    </tr>\n",
              "    <tr>\n",
              "      <th>2</th>\n",
              "      <td>7</td>\n",
              "      <td>1.0</td>\n",
              "      <td>3</td>\n",
              "      <td>Caipora</td>\n",
              "      <td>2019-02-04</td>\n",
              "      <td>Dragonball</td>\n",
              "    </tr>\n",
              "  </tbody>\n",
              "</table>\n",
              "</div>"
            ],
            "text/plain": [
              "   A    B  C        D          E           F\n",
              "0  7  1.0  3    Carro 2019-02-04  Dragonball\n",
              "1  7  1.0  3   Coelho 2019-02-04  Dragonball\n",
              "2  7  1.0  3  Caipora 2019-02-04  Dragonball"
            ]
          },
          "metadata": {
            "tags": []
          },
          "execution_count": 6
        }
      ]
    },
    {
      "cell_type": "code",
      "metadata": {
        "id": "7KQXBSul0N0b",
        "outputId": "5b71234f-febd-45db-e9f5-ebbba037e271",
        "colab": {
          "base_uri": "https://localhost:8080/",
          "height": 142
        }
      },
      "source": [
        "df2.tail(3)"
      ],
      "execution_count": 7,
      "outputs": [
        {
          "output_type": "execute_result",
          "data": {
            "text/html": [
              "<div>\n",
              "<style scoped>\n",
              "    .dataframe tbody tr th:only-of-type {\n",
              "        vertical-align: middle;\n",
              "    }\n",
              "\n",
              "    .dataframe tbody tr th {\n",
              "        vertical-align: top;\n",
              "    }\n",
              "\n",
              "    .dataframe thead th {\n",
              "        text-align: right;\n",
              "    }\n",
              "</style>\n",
              "<table border=\"1\" class=\"dataframe\">\n",
              "  <thead>\n",
              "    <tr style=\"text-align: right;\">\n",
              "      <th></th>\n",
              "      <th>A</th>\n",
              "      <th>B</th>\n",
              "      <th>C</th>\n",
              "      <th>D</th>\n",
              "      <th>E</th>\n",
              "      <th>F</th>\n",
              "    </tr>\n",
              "  </thead>\n",
              "  <tbody>\n",
              "    <tr>\n",
              "      <th>2</th>\n",
              "      <td>7</td>\n",
              "      <td>1.0</td>\n",
              "      <td>3</td>\n",
              "      <td>Caipora</td>\n",
              "      <td>2019-02-04</td>\n",
              "      <td>Dragonball</td>\n",
              "    </tr>\n",
              "    <tr>\n",
              "      <th>3</th>\n",
              "      <td>7</td>\n",
              "      <td>1.0</td>\n",
              "      <td>3</td>\n",
              "      <td>Cigarro</td>\n",
              "      <td>2019-02-04</td>\n",
              "      <td>Dragonball</td>\n",
              "    </tr>\n",
              "    <tr>\n",
              "      <th>4</th>\n",
              "      <td>7</td>\n",
              "      <td>1.0</td>\n",
              "      <td>3</td>\n",
              "      <td>Cinema</td>\n",
              "      <td>2019-02-04</td>\n",
              "      <td>Dragonball</td>\n",
              "    </tr>\n",
              "  </tbody>\n",
              "</table>\n",
              "</div>"
            ],
            "text/plain": [
              "   A    B  C        D          E           F\n",
              "2  7  1.0  3  Caipora 2019-02-04  Dragonball\n",
              "3  7  1.0  3  Cigarro 2019-02-04  Dragonball\n",
              "4  7  1.0  3   Cinema 2019-02-04  Dragonball"
            ]
          },
          "metadata": {
            "tags": []
          },
          "execution_count": 7
        }
      ]
    },
    {
      "cell_type": "code",
      "metadata": {
        "id": "xycTxl200fVK",
        "outputId": "0eed22b4-5ecb-44ab-a4e2-4e58f0f6f8f7",
        "colab": {
          "base_uri": "https://localhost:8080/",
          "height": 34
        }
      },
      "source": [
        "df2.index"
      ],
      "execution_count": 8,
      "outputs": [
        {
          "output_type": "execute_result",
          "data": {
            "text/plain": [
              "Int64Index([0, 1, 2, 3, 4], dtype='int64')"
            ]
          },
          "metadata": {
            "tags": []
          },
          "execution_count": 8
        }
      ]
    },
    {
      "cell_type": "code",
      "metadata": {
        "id": "jvwsT0vJ0fG8",
        "outputId": "15ff3d15-0d9e-44f8-ecc2-16424faf3033",
        "colab": {
          "base_uri": "https://localhost:8080/",
          "height": 34
        }
      },
      "source": [
        "df2.columns"
      ],
      "execution_count": 9,
      "outputs": [
        {
          "output_type": "execute_result",
          "data": {
            "text/plain": [
              "Index(['A', 'B', 'C', 'D', 'E', 'F'], dtype='object')"
            ]
          },
          "metadata": {
            "tags": []
          },
          "execution_count": 9
        }
      ]
    },
    {
      "cell_type": "code",
      "metadata": {
        "id": "1q3uWy800yjj",
        "outputId": "8465699c-620b-49cc-8713-1a5801ee3e7d",
        "colab": {
          "base_uri": "https://localhost:8080/",
          "height": 85
        }
      },
      "source": [
        "#df --> Tira índices e colunas\n",
        "df.to_numpy()"
      ],
      "execution_count": 10,
      "outputs": [
        {
          "output_type": "execute_result",
          "data": {
            "text/plain": [
              "array([[ 1.26453209,  0.26083568, -0.42595042, -0.11893177],\n",
              "       [-0.41236607,  0.00998421, -0.44859887, -1.2315087 ],\n",
              "       [ 0.33285558, -0.25403825,  2.55316778,  0.558746  ],\n",
              "       [ 1.13324155,  0.12017861,  0.85399508,  0.34328784]])"
            ]
          },
          "metadata": {
            "tags": []
          },
          "execution_count": 10
        }
      ]
    },
    {
      "cell_type": "code",
      "metadata": {
        "id": "cif3fsratMuU",
        "outputId": "af00181e-3455-4f6e-e266-f784753989fe",
        "colab": {
          "base_uri": "https://localhost:8080/",
          "height": 136
        }
      },
      "source": [
        "df2.dtypes"
      ],
      "execution_count": 11,
      "outputs": [
        {
          "output_type": "execute_result",
          "data": {
            "text/plain": [
              "A             int64\n",
              "B           float32\n",
              "C             int32\n",
              "D          category\n",
              "E    datetime64[ns]\n",
              "F            object\n",
              "dtype: object"
            ]
          },
          "metadata": {
            "tags": []
          },
          "execution_count": 11
        }
      ]
    },
    {
      "cell_type": "code",
      "metadata": {
        "id": "esbMWzy4tSIC",
        "outputId": "5d16f06c-8924-434f-f85d-1f4a56222794",
        "colab": {
          "base_uri": "https://localhost:8080/",
          "height": 34
        }
      },
      "source": [
        "df2.shape"
      ],
      "execution_count": 12,
      "outputs": [
        {
          "output_type": "execute_result",
          "data": {
            "text/plain": [
              "(5, 6)"
            ]
          },
          "metadata": {
            "tags": []
          },
          "execution_count": 12
        }
      ]
    },
    {
      "cell_type": "markdown",
      "metadata": {
        "id": "Cnhk7NQUtnk7"
      },
      "source": [
        "**5.** Adição de **colunas** ao DataFrame"
      ]
    },
    {
      "cell_type": "code",
      "metadata": {
        "id": "d_7Owmpmtln4",
        "outputId": "58e5a028-b9f4-4979-e968-bc60c5e59626",
        "colab": {
          "base_uri": "https://localhost:8080/",
          "height": 204
        }
      },
      "source": [
        "df2[\"G\"] = pd.Series(\"RX\",index=list(range(5)),dtype=\"str\")\n",
        "df2"
      ],
      "execution_count": 13,
      "outputs": [
        {
          "output_type": "execute_result",
          "data": {
            "text/html": [
              "<div>\n",
              "<style scoped>\n",
              "    .dataframe tbody tr th:only-of-type {\n",
              "        vertical-align: middle;\n",
              "    }\n",
              "\n",
              "    .dataframe tbody tr th {\n",
              "        vertical-align: top;\n",
              "    }\n",
              "\n",
              "    .dataframe thead th {\n",
              "        text-align: right;\n",
              "    }\n",
              "</style>\n",
              "<table border=\"1\" class=\"dataframe\">\n",
              "  <thead>\n",
              "    <tr style=\"text-align: right;\">\n",
              "      <th></th>\n",
              "      <th>A</th>\n",
              "      <th>B</th>\n",
              "      <th>C</th>\n",
              "      <th>D</th>\n",
              "      <th>E</th>\n",
              "      <th>F</th>\n",
              "      <th>G</th>\n",
              "    </tr>\n",
              "  </thead>\n",
              "  <tbody>\n",
              "    <tr>\n",
              "      <th>0</th>\n",
              "      <td>7</td>\n",
              "      <td>1.0</td>\n",
              "      <td>3</td>\n",
              "      <td>Carro</td>\n",
              "      <td>2019-02-04</td>\n",
              "      <td>Dragonball</td>\n",
              "      <td>RX</td>\n",
              "    </tr>\n",
              "    <tr>\n",
              "      <th>1</th>\n",
              "      <td>7</td>\n",
              "      <td>1.0</td>\n",
              "      <td>3</td>\n",
              "      <td>Coelho</td>\n",
              "      <td>2019-02-04</td>\n",
              "      <td>Dragonball</td>\n",
              "      <td>RX</td>\n",
              "    </tr>\n",
              "    <tr>\n",
              "      <th>2</th>\n",
              "      <td>7</td>\n",
              "      <td>1.0</td>\n",
              "      <td>3</td>\n",
              "      <td>Caipora</td>\n",
              "      <td>2019-02-04</td>\n",
              "      <td>Dragonball</td>\n",
              "      <td>RX</td>\n",
              "    </tr>\n",
              "    <tr>\n",
              "      <th>3</th>\n",
              "      <td>7</td>\n",
              "      <td>1.0</td>\n",
              "      <td>3</td>\n",
              "      <td>Cigarro</td>\n",
              "      <td>2019-02-04</td>\n",
              "      <td>Dragonball</td>\n",
              "      <td>RX</td>\n",
              "    </tr>\n",
              "    <tr>\n",
              "      <th>4</th>\n",
              "      <td>7</td>\n",
              "      <td>1.0</td>\n",
              "      <td>3</td>\n",
              "      <td>Cinema</td>\n",
              "      <td>2019-02-04</td>\n",
              "      <td>Dragonball</td>\n",
              "      <td>RX</td>\n",
              "    </tr>\n",
              "  </tbody>\n",
              "</table>\n",
              "</div>"
            ],
            "text/plain": [
              "   A    B  C        D          E           F   G\n",
              "0  7  1.0  3    Carro 2019-02-04  Dragonball  RX\n",
              "1  7  1.0  3   Coelho 2019-02-04  Dragonball  RX\n",
              "2  7  1.0  3  Caipora 2019-02-04  Dragonball  RX\n",
              "3  7  1.0  3  Cigarro 2019-02-04  Dragonball  RX\n",
              "4  7  1.0  3   Cinema 2019-02-04  Dragonball  RX"
            ]
          },
          "metadata": {
            "tags": []
          },
          "execution_count": 13
        }
      ]
    },
    {
      "cell_type": "markdown",
      "metadata": {
        "id": "942ra8R3vEft"
      },
      "source": [
        "**6.** **Operação** entre colunas"
      ]
    },
    {
      "cell_type": "code",
      "metadata": {
        "id": "549cGAlrvLlM",
        "outputId": "23b416fc-cb0c-45c6-a565-79369fc54a21",
        "colab": {
          "base_uri": "https://localhost:8080/",
          "height": 204
        }
      },
      "source": [
        "df2[\"Soma\"] = df2[\"A\"] + df2[\"C\"]\n",
        "df2"
      ],
      "execution_count": 14,
      "outputs": [
        {
          "output_type": "execute_result",
          "data": {
            "text/html": [
              "<div>\n",
              "<style scoped>\n",
              "    .dataframe tbody tr th:only-of-type {\n",
              "        vertical-align: middle;\n",
              "    }\n",
              "\n",
              "    .dataframe tbody tr th {\n",
              "        vertical-align: top;\n",
              "    }\n",
              "\n",
              "    .dataframe thead th {\n",
              "        text-align: right;\n",
              "    }\n",
              "</style>\n",
              "<table border=\"1\" class=\"dataframe\">\n",
              "  <thead>\n",
              "    <tr style=\"text-align: right;\">\n",
              "      <th></th>\n",
              "      <th>A</th>\n",
              "      <th>B</th>\n",
              "      <th>C</th>\n",
              "      <th>D</th>\n",
              "      <th>E</th>\n",
              "      <th>F</th>\n",
              "      <th>G</th>\n",
              "      <th>Soma</th>\n",
              "    </tr>\n",
              "  </thead>\n",
              "  <tbody>\n",
              "    <tr>\n",
              "      <th>0</th>\n",
              "      <td>7</td>\n",
              "      <td>1.0</td>\n",
              "      <td>3</td>\n",
              "      <td>Carro</td>\n",
              "      <td>2019-02-04</td>\n",
              "      <td>Dragonball</td>\n",
              "      <td>RX</td>\n",
              "      <td>10</td>\n",
              "    </tr>\n",
              "    <tr>\n",
              "      <th>1</th>\n",
              "      <td>7</td>\n",
              "      <td>1.0</td>\n",
              "      <td>3</td>\n",
              "      <td>Coelho</td>\n",
              "      <td>2019-02-04</td>\n",
              "      <td>Dragonball</td>\n",
              "      <td>RX</td>\n",
              "      <td>10</td>\n",
              "    </tr>\n",
              "    <tr>\n",
              "      <th>2</th>\n",
              "      <td>7</td>\n",
              "      <td>1.0</td>\n",
              "      <td>3</td>\n",
              "      <td>Caipora</td>\n",
              "      <td>2019-02-04</td>\n",
              "      <td>Dragonball</td>\n",
              "      <td>RX</td>\n",
              "      <td>10</td>\n",
              "    </tr>\n",
              "    <tr>\n",
              "      <th>3</th>\n",
              "      <td>7</td>\n",
              "      <td>1.0</td>\n",
              "      <td>3</td>\n",
              "      <td>Cigarro</td>\n",
              "      <td>2019-02-04</td>\n",
              "      <td>Dragonball</td>\n",
              "      <td>RX</td>\n",
              "      <td>10</td>\n",
              "    </tr>\n",
              "    <tr>\n",
              "      <th>4</th>\n",
              "      <td>7</td>\n",
              "      <td>1.0</td>\n",
              "      <td>3</td>\n",
              "      <td>Cinema</td>\n",
              "      <td>2019-02-04</td>\n",
              "      <td>Dragonball</td>\n",
              "      <td>RX</td>\n",
              "      <td>10</td>\n",
              "    </tr>\n",
              "  </tbody>\n",
              "</table>\n",
              "</div>"
            ],
            "text/plain": [
              "   A    B  C        D          E           F   G  Soma\n",
              "0  7  1.0  3    Carro 2019-02-04  Dragonball  RX    10\n",
              "1  7  1.0  3   Coelho 2019-02-04  Dragonball  RX    10\n",
              "2  7  1.0  3  Caipora 2019-02-04  Dragonball  RX    10\n",
              "3  7  1.0  3  Cigarro 2019-02-04  Dragonball  RX    10\n",
              "4  7  1.0  3   Cinema 2019-02-04  Dragonball  RX    10"
            ]
          },
          "metadata": {
            "tags": []
          },
          "execution_count": 14
        }
      ]
    },
    {
      "cell_type": "code",
      "metadata": {
        "id": "fPwoChMI1WuN",
        "outputId": "709cdb99-1344-4a93-e530-2bc1ae9443c8",
        "colab": {
          "base_uri": "https://localhost:8080/",
          "height": 297
        }
      },
      "source": [
        "#Transposta\n",
        "df2.T"
      ],
      "execution_count": 15,
      "outputs": [
        {
          "output_type": "execute_result",
          "data": {
            "text/html": [
              "<div>\n",
              "<style scoped>\n",
              "    .dataframe tbody tr th:only-of-type {\n",
              "        vertical-align: middle;\n",
              "    }\n",
              "\n",
              "    .dataframe tbody tr th {\n",
              "        vertical-align: top;\n",
              "    }\n",
              "\n",
              "    .dataframe thead th {\n",
              "        text-align: right;\n",
              "    }\n",
              "</style>\n",
              "<table border=\"1\" class=\"dataframe\">\n",
              "  <thead>\n",
              "    <tr style=\"text-align: right;\">\n",
              "      <th></th>\n",
              "      <th>0</th>\n",
              "      <th>1</th>\n",
              "      <th>2</th>\n",
              "      <th>3</th>\n",
              "      <th>4</th>\n",
              "    </tr>\n",
              "  </thead>\n",
              "  <tbody>\n",
              "    <tr>\n",
              "      <th>A</th>\n",
              "      <td>7</td>\n",
              "      <td>7</td>\n",
              "      <td>7</td>\n",
              "      <td>7</td>\n",
              "      <td>7</td>\n",
              "    </tr>\n",
              "    <tr>\n",
              "      <th>B</th>\n",
              "      <td>1</td>\n",
              "      <td>1</td>\n",
              "      <td>1</td>\n",
              "      <td>1</td>\n",
              "      <td>1</td>\n",
              "    </tr>\n",
              "    <tr>\n",
              "      <th>C</th>\n",
              "      <td>3</td>\n",
              "      <td>3</td>\n",
              "      <td>3</td>\n",
              "      <td>3</td>\n",
              "      <td>3</td>\n",
              "    </tr>\n",
              "    <tr>\n",
              "      <th>D</th>\n",
              "      <td>Carro</td>\n",
              "      <td>Coelho</td>\n",
              "      <td>Caipora</td>\n",
              "      <td>Cigarro</td>\n",
              "      <td>Cinema</td>\n",
              "    </tr>\n",
              "    <tr>\n",
              "      <th>E</th>\n",
              "      <td>2019-02-04 00:00:00</td>\n",
              "      <td>2019-02-04 00:00:00</td>\n",
              "      <td>2019-02-04 00:00:00</td>\n",
              "      <td>2019-02-04 00:00:00</td>\n",
              "      <td>2019-02-04 00:00:00</td>\n",
              "    </tr>\n",
              "    <tr>\n",
              "      <th>F</th>\n",
              "      <td>Dragonball</td>\n",
              "      <td>Dragonball</td>\n",
              "      <td>Dragonball</td>\n",
              "      <td>Dragonball</td>\n",
              "      <td>Dragonball</td>\n",
              "    </tr>\n",
              "    <tr>\n",
              "      <th>G</th>\n",
              "      <td>RX</td>\n",
              "      <td>RX</td>\n",
              "      <td>RX</td>\n",
              "      <td>RX</td>\n",
              "      <td>RX</td>\n",
              "    </tr>\n",
              "    <tr>\n",
              "      <th>Soma</th>\n",
              "      <td>10</td>\n",
              "      <td>10</td>\n",
              "      <td>10</td>\n",
              "      <td>10</td>\n",
              "      <td>10</td>\n",
              "    </tr>\n",
              "  </tbody>\n",
              "</table>\n",
              "</div>"
            ],
            "text/plain": [
              "                        0  ...                    4\n",
              "A                       7  ...                    7\n",
              "B                       1  ...                    1\n",
              "C                       3  ...                    3\n",
              "D                   Carro  ...               Cinema\n",
              "E     2019-02-04 00:00:00  ...  2019-02-04 00:00:00\n",
              "F              Dragonball  ...           Dragonball\n",
              "G                      RX  ...                   RX\n",
              "Soma                   10  ...                   10\n",
              "\n",
              "[8 rows x 5 columns]"
            ]
          },
          "metadata": {
            "tags": []
          },
          "execution_count": 15
        }
      ]
    },
    {
      "cell_type": "markdown",
      "metadata": {
        "id": "CPU5empJzhwM"
      },
      "source": [
        "**7.** **Concatenando** dataframes"
      ]
    },
    {
      "cell_type": "code",
      "metadata": {
        "id": "a0u1RTXFziWE"
      },
      "source": [
        "df1 = pd.DataFrame(np.random.randn(2,2), index = pd.date_range(\"20190104\",periods=2,freq=\"D\"), columns = list(\"AB\"))\n",
        "df2 = pd.DataFrame(np.random.randn(2,2), index = pd.date_range(\"20190106\",periods=2,freq=\"D\"), columns = list(\"AB\"))\n",
        "df3 = pd.DataFrame(np.random.randn(2,2), index = pd.date_range(\"20190108\",periods=2,freq=\"D\"), columns = list(\"AB\"))"
      ],
      "execution_count": 16,
      "outputs": []
    },
    {
      "cell_type": "code",
      "metadata": {
        "id": "f1vAC1FHESAp",
        "outputId": "ed60deb6-0879-40ec-f7d2-c4294b93d335",
        "colab": {
          "base_uri": "https://localhost:8080/",
          "height": 235
        }
      },
      "source": [
        "combinacao = pd.concat([df1,df2,df3],keys=[\"df1\",\"df2\",\"df3\"])\n",
        "combinacao"
      ],
      "execution_count": 17,
      "outputs": [
        {
          "output_type": "execute_result",
          "data": {
            "text/html": [
              "<div>\n",
              "<style scoped>\n",
              "    .dataframe tbody tr th:only-of-type {\n",
              "        vertical-align: middle;\n",
              "    }\n",
              "\n",
              "    .dataframe tbody tr th {\n",
              "        vertical-align: top;\n",
              "    }\n",
              "\n",
              "    .dataframe thead th {\n",
              "        text-align: right;\n",
              "    }\n",
              "</style>\n",
              "<table border=\"1\" class=\"dataframe\">\n",
              "  <thead>\n",
              "    <tr style=\"text-align: right;\">\n",
              "      <th></th>\n",
              "      <th></th>\n",
              "      <th>A</th>\n",
              "      <th>B</th>\n",
              "    </tr>\n",
              "  </thead>\n",
              "  <tbody>\n",
              "    <tr>\n",
              "      <th rowspan=\"2\" valign=\"top\">df1</th>\n",
              "      <th>2019-01-04</th>\n",
              "      <td>0.918701</td>\n",
              "      <td>-3.111946</td>\n",
              "    </tr>\n",
              "    <tr>\n",
              "      <th>2019-01-05</th>\n",
              "      <td>0.027330</td>\n",
              "      <td>0.487980</td>\n",
              "    </tr>\n",
              "    <tr>\n",
              "      <th rowspan=\"2\" valign=\"top\">df2</th>\n",
              "      <th>2019-01-06</th>\n",
              "      <td>-0.919493</td>\n",
              "      <td>1.100570</td>\n",
              "    </tr>\n",
              "    <tr>\n",
              "      <th>2019-01-07</th>\n",
              "      <td>-0.847990</td>\n",
              "      <td>-1.852274</td>\n",
              "    </tr>\n",
              "    <tr>\n",
              "      <th rowspan=\"2\" valign=\"top\">df3</th>\n",
              "      <th>2019-01-08</th>\n",
              "      <td>-1.235591</td>\n",
              "      <td>0.054842</td>\n",
              "    </tr>\n",
              "    <tr>\n",
              "      <th>2019-01-09</th>\n",
              "      <td>0.192946</td>\n",
              "      <td>-1.196063</td>\n",
              "    </tr>\n",
              "  </tbody>\n",
              "</table>\n",
              "</div>"
            ],
            "text/plain": [
              "                       A         B\n",
              "df1 2019-01-04  0.918701 -3.111946\n",
              "    2019-01-05  0.027330  0.487980\n",
              "df2 2019-01-06 -0.919493  1.100570\n",
              "    2019-01-07 -0.847990 -1.852274\n",
              "df3 2019-01-08 -1.235591  0.054842\n",
              "    2019-01-09  0.192946 -1.196063"
            ]
          },
          "metadata": {
            "tags": []
          },
          "execution_count": 17
        }
      ]
    },
    {
      "cell_type": "code",
      "metadata": {
        "id": "PA0XJLCoMiGf",
        "outputId": "f223bb0f-d2ba-4a08-ee35-239fcd22d82f",
        "colab": {
          "base_uri": "https://localhost:8080/",
          "height": 173
        }
      },
      "source": [
        "#Removendo valores repetidos\n",
        "combinacao[\"ValoresRepetidos\"] = list(\"XYXKXL\")\n",
        "combinacao.drop_duplicates(subset=\"ValoresRepetidos\")"
      ],
      "execution_count": 18,
      "outputs": [
        {
          "output_type": "execute_result",
          "data": {
            "text/html": [
              "<div>\n",
              "<style scoped>\n",
              "    .dataframe tbody tr th:only-of-type {\n",
              "        vertical-align: middle;\n",
              "    }\n",
              "\n",
              "    .dataframe tbody tr th {\n",
              "        vertical-align: top;\n",
              "    }\n",
              "\n",
              "    .dataframe thead th {\n",
              "        text-align: right;\n",
              "    }\n",
              "</style>\n",
              "<table border=\"1\" class=\"dataframe\">\n",
              "  <thead>\n",
              "    <tr style=\"text-align: right;\">\n",
              "      <th></th>\n",
              "      <th></th>\n",
              "      <th>A</th>\n",
              "      <th>B</th>\n",
              "      <th>ValoresRepetidos</th>\n",
              "    </tr>\n",
              "  </thead>\n",
              "  <tbody>\n",
              "    <tr>\n",
              "      <th rowspan=\"2\" valign=\"top\">df1</th>\n",
              "      <th>2019-01-04</th>\n",
              "      <td>0.918701</td>\n",
              "      <td>-3.111946</td>\n",
              "      <td>X</td>\n",
              "    </tr>\n",
              "    <tr>\n",
              "      <th>2019-01-05</th>\n",
              "      <td>0.027330</td>\n",
              "      <td>0.487980</td>\n",
              "      <td>Y</td>\n",
              "    </tr>\n",
              "    <tr>\n",
              "      <th>df2</th>\n",
              "      <th>2019-01-07</th>\n",
              "      <td>-0.847990</td>\n",
              "      <td>-1.852274</td>\n",
              "      <td>K</td>\n",
              "    </tr>\n",
              "    <tr>\n",
              "      <th>df3</th>\n",
              "      <th>2019-01-09</th>\n",
              "      <td>0.192946</td>\n",
              "      <td>-1.196063</td>\n",
              "      <td>L</td>\n",
              "    </tr>\n",
              "  </tbody>\n",
              "</table>\n",
              "</div>"
            ],
            "text/plain": [
              "                       A         B ValoresRepetidos\n",
              "df1 2019-01-04  0.918701 -3.111946                X\n",
              "    2019-01-05  0.027330  0.487980                Y\n",
              "df2 2019-01-07 -0.847990 -1.852274                K\n",
              "df3 2019-01-09  0.192946 -1.196063                L"
            ]
          },
          "metadata": {
            "tags": []
          },
          "execution_count": 18
        }
      ]
    },
    {
      "cell_type": "code",
      "metadata": {
        "id": "6xhoO0quGDlo",
        "outputId": "c1eae103-61ee-42c4-c6ea-5976614f52c8",
        "colab": {
          "base_uri": "https://localhost:8080/",
          "height": 136
        }
      },
      "source": [
        "#\"Selecionando\" informações da coluna\n",
        "combinacao[\"A\"]"
      ],
      "execution_count": 19,
      "outputs": [
        {
          "output_type": "execute_result",
          "data": {
            "text/plain": [
              "df1  2019-01-04    0.918701\n",
              "     2019-01-05    0.027330\n",
              "df2  2019-01-06   -0.919493\n",
              "     2019-01-07   -0.847990\n",
              "df3  2019-01-08   -1.235591\n",
              "     2019-01-09    0.192946\n",
              "Name: A, dtype: float64"
            ]
          },
          "metadata": {
            "tags": []
          },
          "execution_count": 19
        }
      ]
    },
    {
      "cell_type": "code",
      "metadata": {
        "id": "O89DKLEjGPE_",
        "outputId": "6e0d61e8-c26c-4bb3-96d0-ad5f83191873",
        "colab": {
          "base_uri": "https://localhost:8080/",
          "height": 111
        }
      },
      "source": [
        "#Selecionando key\n",
        "combinacao.loc[\"df1\"]"
      ],
      "execution_count": 20,
      "outputs": [
        {
          "output_type": "execute_result",
          "data": {
            "text/html": [
              "<div>\n",
              "<style scoped>\n",
              "    .dataframe tbody tr th:only-of-type {\n",
              "        vertical-align: middle;\n",
              "    }\n",
              "\n",
              "    .dataframe tbody tr th {\n",
              "        vertical-align: top;\n",
              "    }\n",
              "\n",
              "    .dataframe thead th {\n",
              "        text-align: right;\n",
              "    }\n",
              "</style>\n",
              "<table border=\"1\" class=\"dataframe\">\n",
              "  <thead>\n",
              "    <tr style=\"text-align: right;\">\n",
              "      <th></th>\n",
              "      <th>A</th>\n",
              "      <th>B</th>\n",
              "      <th>ValoresRepetidos</th>\n",
              "    </tr>\n",
              "  </thead>\n",
              "  <tbody>\n",
              "    <tr>\n",
              "      <th>2019-01-04</th>\n",
              "      <td>0.918701</td>\n",
              "      <td>-3.111946</td>\n",
              "      <td>X</td>\n",
              "    </tr>\n",
              "    <tr>\n",
              "      <th>2019-01-05</th>\n",
              "      <td>0.027330</td>\n",
              "      <td>0.487980</td>\n",
              "      <td>Y</td>\n",
              "    </tr>\n",
              "  </tbody>\n",
              "</table>\n",
              "</div>"
            ],
            "text/plain": [
              "                   A         B ValoresRepetidos\n",
              "2019-01-04  0.918701 -3.111946                X\n",
              "2019-01-05  0.027330  0.487980                Y"
            ]
          },
          "metadata": {
            "tags": []
          },
          "execution_count": 20
        }
      ]
    },
    {
      "cell_type": "markdown",
      "metadata": {
        "id": "X36XkQE-Hz94"
      },
      "source": [
        "**8.** Aplicando **Merge**"
      ]
    },
    {
      "cell_type": "code",
      "metadata": {
        "id": "K_ecl3vuH9Au"
      },
      "source": [
        "df4 = pd.DataFrame({'ID': [123,321,231,213],\n",
        "                    'lkey': ['foo', 'bar', 'baz', 'foo'],\n",
        "                    'value': [1, 2, 3, 5],\n",
        "                    'Compras':[00,11,22,33]})\n",
        "df5 = pd.DataFrame({'ID': [123,323,231,212],\n",
        "                    'rkey': ['foo', 'bar', 'baz', 'foo'],\n",
        "                    'value': [5, 6, 7, 8]})"
      ],
      "execution_count": 21,
      "outputs": []
    },
    {
      "cell_type": "code",
      "metadata": {
        "id": "nsayrhVUJNY4",
        "outputId": "9bf74228-33f6-4585-a574-1a074ff3843e",
        "colab": {
          "base_uri": "https://localhost:8080/",
          "height": 111
        }
      },
      "source": [
        "#Intersecção --> Valores iguais\n",
        "pd.merge(df4,df5,how=\"inner\",on=[\"ID\"],suffixes=[\"_A\",\"_B\"])"
      ],
      "execution_count": 22,
      "outputs": [
        {
          "output_type": "execute_result",
          "data": {
            "text/html": [
              "<div>\n",
              "<style scoped>\n",
              "    .dataframe tbody tr th:only-of-type {\n",
              "        vertical-align: middle;\n",
              "    }\n",
              "\n",
              "    .dataframe tbody tr th {\n",
              "        vertical-align: top;\n",
              "    }\n",
              "\n",
              "    .dataframe thead th {\n",
              "        text-align: right;\n",
              "    }\n",
              "</style>\n",
              "<table border=\"1\" class=\"dataframe\">\n",
              "  <thead>\n",
              "    <tr style=\"text-align: right;\">\n",
              "      <th></th>\n",
              "      <th>ID</th>\n",
              "      <th>lkey</th>\n",
              "      <th>value_A</th>\n",
              "      <th>Compras</th>\n",
              "      <th>rkey</th>\n",
              "      <th>value_B</th>\n",
              "    </tr>\n",
              "  </thead>\n",
              "  <tbody>\n",
              "    <tr>\n",
              "      <th>0</th>\n",
              "      <td>123</td>\n",
              "      <td>foo</td>\n",
              "      <td>1</td>\n",
              "      <td>0</td>\n",
              "      <td>foo</td>\n",
              "      <td>5</td>\n",
              "    </tr>\n",
              "    <tr>\n",
              "      <th>1</th>\n",
              "      <td>231</td>\n",
              "      <td>baz</td>\n",
              "      <td>3</td>\n",
              "      <td>22</td>\n",
              "      <td>baz</td>\n",
              "      <td>7</td>\n",
              "    </tr>\n",
              "  </tbody>\n",
              "</table>\n",
              "</div>"
            ],
            "text/plain": [
              "    ID lkey  value_A  Compras rkey  value_B\n",
              "0  123  foo        1        0  foo        5\n",
              "1  231  baz        3       22  baz        7"
            ]
          },
          "metadata": {
            "tags": []
          },
          "execution_count": 22
        }
      ]
    },
    {
      "cell_type": "code",
      "metadata": {
        "id": "lIbj-9KAmoZq",
        "outputId": "4b056ee4-8a42-4b4d-a86e-381155975af9",
        "colab": {
          "base_uri": "https://localhost:8080/",
          "height": 173
        }
      },
      "source": [
        "#Left join --> Valores iguais + conjunto da esquerda\n",
        "pd.merge(df4,df5,how=\"left\",on='ID')"
      ],
      "execution_count": 23,
      "outputs": [
        {
          "output_type": "execute_result",
          "data": {
            "text/html": [
              "<div>\n",
              "<style scoped>\n",
              "    .dataframe tbody tr th:only-of-type {\n",
              "        vertical-align: middle;\n",
              "    }\n",
              "\n",
              "    .dataframe tbody tr th {\n",
              "        vertical-align: top;\n",
              "    }\n",
              "\n",
              "    .dataframe thead th {\n",
              "        text-align: right;\n",
              "    }\n",
              "</style>\n",
              "<table border=\"1\" class=\"dataframe\">\n",
              "  <thead>\n",
              "    <tr style=\"text-align: right;\">\n",
              "      <th></th>\n",
              "      <th>ID</th>\n",
              "      <th>lkey</th>\n",
              "      <th>value_x</th>\n",
              "      <th>Compras</th>\n",
              "      <th>rkey</th>\n",
              "      <th>value_y</th>\n",
              "    </tr>\n",
              "  </thead>\n",
              "  <tbody>\n",
              "    <tr>\n",
              "      <th>0</th>\n",
              "      <td>123</td>\n",
              "      <td>foo</td>\n",
              "      <td>1</td>\n",
              "      <td>0</td>\n",
              "      <td>foo</td>\n",
              "      <td>5.0</td>\n",
              "    </tr>\n",
              "    <tr>\n",
              "      <th>1</th>\n",
              "      <td>321</td>\n",
              "      <td>bar</td>\n",
              "      <td>2</td>\n",
              "      <td>11</td>\n",
              "      <td>NaN</td>\n",
              "      <td>NaN</td>\n",
              "    </tr>\n",
              "    <tr>\n",
              "      <th>2</th>\n",
              "      <td>231</td>\n",
              "      <td>baz</td>\n",
              "      <td>3</td>\n",
              "      <td>22</td>\n",
              "      <td>baz</td>\n",
              "      <td>7.0</td>\n",
              "    </tr>\n",
              "    <tr>\n",
              "      <th>3</th>\n",
              "      <td>213</td>\n",
              "      <td>foo</td>\n",
              "      <td>5</td>\n",
              "      <td>33</td>\n",
              "      <td>NaN</td>\n",
              "      <td>NaN</td>\n",
              "    </tr>\n",
              "  </tbody>\n",
              "</table>\n",
              "</div>"
            ],
            "text/plain": [
              "    ID lkey  value_x  Compras rkey  value_y\n",
              "0  123  foo        1        0  foo      5.0\n",
              "1  321  bar        2       11  NaN      NaN\n",
              "2  231  baz        3       22  baz      7.0\n",
              "3  213  foo        5       33  NaN      NaN"
            ]
          },
          "metadata": {
            "tags": []
          },
          "execution_count": 23
        }
      ]
    },
    {
      "cell_type": "code",
      "metadata": {
        "id": "sopcWvD3oVpl",
        "outputId": "3380ac97-e1c5-4546-fade-ae420da7ad5a",
        "colab": {
          "base_uri": "https://localhost:8080/",
          "height": 235
        }
      },
      "source": [
        "#Outer --> Compara os df's para cada ID reportando lados\n",
        "pd.merge(df4,df5,how='outer',on='ID',indicator=True)"
      ],
      "execution_count": 24,
      "outputs": [
        {
          "output_type": "execute_result",
          "data": {
            "text/html": [
              "<div>\n",
              "<style scoped>\n",
              "    .dataframe tbody tr th:only-of-type {\n",
              "        vertical-align: middle;\n",
              "    }\n",
              "\n",
              "    .dataframe tbody tr th {\n",
              "        vertical-align: top;\n",
              "    }\n",
              "\n",
              "    .dataframe thead th {\n",
              "        text-align: right;\n",
              "    }\n",
              "</style>\n",
              "<table border=\"1\" class=\"dataframe\">\n",
              "  <thead>\n",
              "    <tr style=\"text-align: right;\">\n",
              "      <th></th>\n",
              "      <th>ID</th>\n",
              "      <th>lkey</th>\n",
              "      <th>value_x</th>\n",
              "      <th>Compras</th>\n",
              "      <th>rkey</th>\n",
              "      <th>value_y</th>\n",
              "      <th>_merge</th>\n",
              "    </tr>\n",
              "  </thead>\n",
              "  <tbody>\n",
              "    <tr>\n",
              "      <th>0</th>\n",
              "      <td>123</td>\n",
              "      <td>foo</td>\n",
              "      <td>1.0</td>\n",
              "      <td>0.0</td>\n",
              "      <td>foo</td>\n",
              "      <td>5.0</td>\n",
              "      <td>both</td>\n",
              "    </tr>\n",
              "    <tr>\n",
              "      <th>1</th>\n",
              "      <td>321</td>\n",
              "      <td>bar</td>\n",
              "      <td>2.0</td>\n",
              "      <td>11.0</td>\n",
              "      <td>NaN</td>\n",
              "      <td>NaN</td>\n",
              "      <td>left_only</td>\n",
              "    </tr>\n",
              "    <tr>\n",
              "      <th>2</th>\n",
              "      <td>231</td>\n",
              "      <td>baz</td>\n",
              "      <td>3.0</td>\n",
              "      <td>22.0</td>\n",
              "      <td>baz</td>\n",
              "      <td>7.0</td>\n",
              "      <td>both</td>\n",
              "    </tr>\n",
              "    <tr>\n",
              "      <th>3</th>\n",
              "      <td>213</td>\n",
              "      <td>foo</td>\n",
              "      <td>5.0</td>\n",
              "      <td>33.0</td>\n",
              "      <td>NaN</td>\n",
              "      <td>NaN</td>\n",
              "      <td>left_only</td>\n",
              "    </tr>\n",
              "    <tr>\n",
              "      <th>4</th>\n",
              "      <td>323</td>\n",
              "      <td>NaN</td>\n",
              "      <td>NaN</td>\n",
              "      <td>NaN</td>\n",
              "      <td>bar</td>\n",
              "      <td>6.0</td>\n",
              "      <td>right_only</td>\n",
              "    </tr>\n",
              "    <tr>\n",
              "      <th>5</th>\n",
              "      <td>212</td>\n",
              "      <td>NaN</td>\n",
              "      <td>NaN</td>\n",
              "      <td>NaN</td>\n",
              "      <td>foo</td>\n",
              "      <td>8.0</td>\n",
              "      <td>right_only</td>\n",
              "    </tr>\n",
              "  </tbody>\n",
              "</table>\n",
              "</div>"
            ],
            "text/plain": [
              "    ID lkey  value_x  Compras rkey  value_y      _merge\n",
              "0  123  foo      1.0      0.0  foo      5.0        both\n",
              "1  321  bar      2.0     11.0  NaN      NaN   left_only\n",
              "2  231  baz      3.0     22.0  baz      7.0        both\n",
              "3  213  foo      5.0     33.0  NaN      NaN   left_only\n",
              "4  323  NaN      NaN      NaN  bar      6.0  right_only\n",
              "5  212  NaN      NaN      NaN  foo      8.0  right_only"
            ]
          },
          "metadata": {
            "tags": []
          },
          "execution_count": 24
        }
      ]
    },
    {
      "cell_type": "markdown",
      "metadata": {
        "id": "IYfxv1Dkqv0U"
      },
      "source": [
        "**9.** Vamos ver agora o famoso **Groupby**"
      ]
    },
    {
      "cell_type": "code",
      "metadata": {
        "id": "4po2WSO_q5yz",
        "outputId": "63933954-0712-45f6-ad0f-bfdce97a2f6c",
        "colab": {
          "base_uri": "https://localhost:8080/",
          "height": 235
        }
      },
      "source": [
        "grupinho = pd.DataFrame({'A':[\"RX\",\"CT\",\"RX\",\"CT\",\"RX\",\"CT\"],\n",
        "                         'B':[1,1,2,2,2,1],\n",
        "                         'C':np.random.randn(6)})\n",
        "grupinho"
      ],
      "execution_count": 25,
      "outputs": [
        {
          "output_type": "execute_result",
          "data": {
            "text/html": [
              "<div>\n",
              "<style scoped>\n",
              "    .dataframe tbody tr th:only-of-type {\n",
              "        vertical-align: middle;\n",
              "    }\n",
              "\n",
              "    .dataframe tbody tr th {\n",
              "        vertical-align: top;\n",
              "    }\n",
              "\n",
              "    .dataframe thead th {\n",
              "        text-align: right;\n",
              "    }\n",
              "</style>\n",
              "<table border=\"1\" class=\"dataframe\">\n",
              "  <thead>\n",
              "    <tr style=\"text-align: right;\">\n",
              "      <th></th>\n",
              "      <th>A</th>\n",
              "      <th>B</th>\n",
              "      <th>C</th>\n",
              "    </tr>\n",
              "  </thead>\n",
              "  <tbody>\n",
              "    <tr>\n",
              "      <th>0</th>\n",
              "      <td>RX</td>\n",
              "      <td>1</td>\n",
              "      <td>-1.208905</td>\n",
              "    </tr>\n",
              "    <tr>\n",
              "      <th>1</th>\n",
              "      <td>CT</td>\n",
              "      <td>1</td>\n",
              "      <td>0.521042</td>\n",
              "    </tr>\n",
              "    <tr>\n",
              "      <th>2</th>\n",
              "      <td>RX</td>\n",
              "      <td>2</td>\n",
              "      <td>-3.426962</td>\n",
              "    </tr>\n",
              "    <tr>\n",
              "      <th>3</th>\n",
              "      <td>CT</td>\n",
              "      <td>2</td>\n",
              "      <td>-0.326033</td>\n",
              "    </tr>\n",
              "    <tr>\n",
              "      <th>4</th>\n",
              "      <td>RX</td>\n",
              "      <td>2</td>\n",
              "      <td>0.086438</td>\n",
              "    </tr>\n",
              "    <tr>\n",
              "      <th>5</th>\n",
              "      <td>CT</td>\n",
              "      <td>1</td>\n",
              "      <td>-2.195619</td>\n",
              "    </tr>\n",
              "  </tbody>\n",
              "</table>\n",
              "</div>"
            ],
            "text/plain": [
              "    A  B         C\n",
              "0  RX  1 -1.208905\n",
              "1  CT  1  0.521042\n",
              "2  RX  2 -3.426962\n",
              "3  CT  2 -0.326033\n",
              "4  RX  2  0.086438\n",
              "5  CT  1 -2.195619"
            ]
          },
          "metadata": {
            "tags": []
          },
          "execution_count": 25
        }
      ]
    },
    {
      "cell_type": "code",
      "metadata": {
        "id": "x4J6-9LltYNE",
        "outputId": "b6ec4b7c-9cfc-4f50-a082-15a358345515",
        "colab": {
          "base_uri": "https://localhost:8080/",
          "height": 142
        }
      },
      "source": [
        "group = grupinho.groupby([\"A\"]).sum()\n",
        "group"
      ],
      "execution_count": 26,
      "outputs": [
        {
          "output_type": "execute_result",
          "data": {
            "text/html": [
              "<div>\n",
              "<style scoped>\n",
              "    .dataframe tbody tr th:only-of-type {\n",
              "        vertical-align: middle;\n",
              "    }\n",
              "\n",
              "    .dataframe tbody tr th {\n",
              "        vertical-align: top;\n",
              "    }\n",
              "\n",
              "    .dataframe thead th {\n",
              "        text-align: right;\n",
              "    }\n",
              "</style>\n",
              "<table border=\"1\" class=\"dataframe\">\n",
              "  <thead>\n",
              "    <tr style=\"text-align: right;\">\n",
              "      <th></th>\n",
              "      <th>B</th>\n",
              "      <th>C</th>\n",
              "    </tr>\n",
              "    <tr>\n",
              "      <th>A</th>\n",
              "      <th></th>\n",
              "      <th></th>\n",
              "    </tr>\n",
              "  </thead>\n",
              "  <tbody>\n",
              "    <tr>\n",
              "      <th>CT</th>\n",
              "      <td>4</td>\n",
              "      <td>-2.000610</td>\n",
              "    </tr>\n",
              "    <tr>\n",
              "      <th>RX</th>\n",
              "      <td>5</td>\n",
              "      <td>-4.549429</td>\n",
              "    </tr>\n",
              "  </tbody>\n",
              "</table>\n",
              "</div>"
            ],
            "text/plain": [
              "    B         C\n",
              "A              \n",
              "CT  4 -2.000610\n",
              "RX  5 -4.549429"
            ]
          },
          "metadata": {
            "tags": []
          },
          "execution_count": 26
        }
      ]
    },
    {
      "cell_type": "code",
      "metadata": {
        "id": "wV_1zPjytlv-",
        "outputId": "afa51455-4ebc-4141-cca3-ec0a675f1a6b",
        "colab": {
          "base_uri": "https://localhost:8080/",
          "height": 68
        }
      },
      "source": [
        "group.loc['CT']"
      ],
      "execution_count": 27,
      "outputs": [
        {
          "output_type": "execute_result",
          "data": {
            "text/plain": [
              "B    4.00000\n",
              "C   -2.00061\n",
              "Name: CT, dtype: float64"
            ]
          },
          "metadata": {
            "tags": []
          },
          "execution_count": 27
        }
      ]
    },
    {
      "cell_type": "code",
      "metadata": {
        "id": "HvQFlmGVvuOr",
        "outputId": "154fb817-56db-4cda-a19b-6e80192afdd1",
        "colab": {
          "base_uri": "https://localhost:8080/",
          "height": 204
        }
      },
      "source": [
        "# Cada grupo funciona parecido com tabelas concatenadas\n",
        "group2 = grupinho.groupby([\"A\",\"B\"]).sum()\n",
        "group2"
      ],
      "execution_count": 28,
      "outputs": [
        {
          "output_type": "execute_result",
          "data": {
            "text/html": [
              "<div>\n",
              "<style scoped>\n",
              "    .dataframe tbody tr th:only-of-type {\n",
              "        vertical-align: middle;\n",
              "    }\n",
              "\n",
              "    .dataframe tbody tr th {\n",
              "        vertical-align: top;\n",
              "    }\n",
              "\n",
              "    .dataframe thead th {\n",
              "        text-align: right;\n",
              "    }\n",
              "</style>\n",
              "<table border=\"1\" class=\"dataframe\">\n",
              "  <thead>\n",
              "    <tr style=\"text-align: right;\">\n",
              "      <th></th>\n",
              "      <th></th>\n",
              "      <th>C</th>\n",
              "    </tr>\n",
              "    <tr>\n",
              "      <th>A</th>\n",
              "      <th>B</th>\n",
              "      <th></th>\n",
              "    </tr>\n",
              "  </thead>\n",
              "  <tbody>\n",
              "    <tr>\n",
              "      <th rowspan=\"2\" valign=\"top\">CT</th>\n",
              "      <th>1</th>\n",
              "      <td>-1.674577</td>\n",
              "    </tr>\n",
              "    <tr>\n",
              "      <th>2</th>\n",
              "      <td>-0.326033</td>\n",
              "    </tr>\n",
              "    <tr>\n",
              "      <th rowspan=\"2\" valign=\"top\">RX</th>\n",
              "      <th>1</th>\n",
              "      <td>-1.208905</td>\n",
              "    </tr>\n",
              "    <tr>\n",
              "      <th>2</th>\n",
              "      <td>-3.340524</td>\n",
              "    </tr>\n",
              "  </tbody>\n",
              "</table>\n",
              "</div>"
            ],
            "text/plain": [
              "             C\n",
              "A  B          \n",
              "CT 1 -1.674577\n",
              "   2 -0.326033\n",
              "RX 1 -1.208905\n",
              "   2 -3.340524"
            ]
          },
          "metadata": {
            "tags": []
          },
          "execution_count": 28
        }
      ]
    },
    {
      "cell_type": "markdown",
      "metadata": {
        "id": "Bm6Y86YViuFO"
      },
      "source": [
        "**10. Indexações**"
      ]
    },
    {
      "cell_type": "code",
      "metadata": {
        "id": "xnciS2Ipi3EU",
        "outputId": "1d1bfd21-2176-4eb9-f520-b809f4028d7f",
        "colab": {
          "base_uri": "https://localhost:8080/",
          "height": 102
        }
      },
      "source": [
        "arrays = [[1,1,3,3],['A','B','A','B']]\n",
        "pd.MultiIndex.from_arrays(arrays,names=('numero','letra'))"
      ],
      "execution_count": 30,
      "outputs": [
        {
          "output_type": "execute_result",
          "data": {
            "text/plain": [
              "MultiIndex([(1, 'A'),\n",
              "            (1, 'B'),\n",
              "            (3, 'A'),\n",
              "            (3, 'B')],\n",
              "           names=['numero', 'letra'])"
            ]
          },
          "metadata": {
            "tags": []
          },
          "execution_count": 30
        }
      ]
    },
    {
      "cell_type": "code",
      "metadata": {
        "id": "X1rYp0R9lco_",
        "outputId": "ffbef9d4-39d3-4a8e-84f6-8e988c4cb271",
        "colab": {
          "base_uri": "https://localhost:8080/",
          "height": 136
        }
      },
      "source": [
        "#Produto cartesiano\n",
        "numbers = [1,2,3]\n",
        "letras = ['A','B']\n",
        "pd.MultiIndex.from_product([numbers,letras],names=('numero','letra'))"
      ],
      "execution_count": 31,
      "outputs": [
        {
          "output_type": "execute_result",
          "data": {
            "text/plain": [
              "MultiIndex([(1, 'A'),\n",
              "            (1, 'B'),\n",
              "            (2, 'A'),\n",
              "            (2, 'B'),\n",
              "            (3, 'A'),\n",
              "            (3, 'B')],\n",
              "           names=['numero', 'letra'])"
            ]
          },
          "metadata": {
            "tags": []
          },
          "execution_count": 31
        }
      ]
    },
    {
      "cell_type": "code",
      "metadata": {
        "id": "DWj4wqYuml0Y"
      },
      "source": [
        ""
      ],
      "execution_count": null,
      "outputs": []
    }
  ]
}