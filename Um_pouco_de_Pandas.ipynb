{
  "nbformat": 4,
  "nbformat_minor": 0,
  "metadata": {
    "colab": {
      "name": "Um_pouco_de_Pandas.ipynb",
      "provenance": [],
      "collapsed_sections": [],
      "authorship_tag": "ABX9TyPlHNTIOTLKf0VZLnHWIcUl",
      "include_colab_link": true
    },
    "kernelspec": {
      "name": "python3",
      "display_name": "Python 3"
    }
  },
  "cells": [
    {
      "cell_type": "markdown",
      "metadata": {
        "id": "view-in-github",
        "colab_type": "text"
      },
      "source": [
        "<a href=\"https://colab.research.google.com/github/CarlosLeandro09/DataAnalysisRadiology/blob/main/Um_pouco_de_Pandas.ipynb\" target=\"_parent\"><img src=\"https://colab.research.google.com/assets/colab-badge.svg\" alt=\"Open In Colab\"/></a>"
      ]
    },
    {
      "cell_type": "markdown",
      "metadata": {
        "id": "4hKdBzqOczBi"
      },
      "source": [
        "# **Basic stage**"
      ]
    },
    {
      "cell_type": "markdown",
      "metadata": {
        "id": "VPPIbP1sdifm"
      },
      "source": [
        "**1.** Importações importantes para um estágio inicial"
      ]
    },
    {
      "cell_type": "code",
      "metadata": {
        "id": "lxpTmWuwVJ_H"
      },
      "source": [
        "import pandas as pd\n",
        "import numpy as np"
      ],
      "execution_count": 3,
      "outputs": []
    },
    {
      "cell_type": "markdown",
      "metadata": {
        "id": "IARv9R1kdRPk"
      },
      "source": [
        "**2.** Dados em uma escala temporal: **Séries**"
      ]
    },
    {
      "cell_type": "code",
      "metadata": {
        "id": "0bx5F_KqVqJi",
        "outputId": "9cf53e3c-0234-4272-d653-9ccec048ce99",
        "colab": {
          "base_uri": "https://localhost:8080/",
          "height": 102
        }
      },
      "source": [
        "series = pd.Series([np.nan, 0, 1, 2])\n",
        "series"
      ],
      "execution_count": 4,
      "outputs": [
        {
          "output_type": "execute_result",
          "data": {
            "text/plain": [
              "0    NaN\n",
              "1    0.0\n",
              "2    1.0\n",
              "3    2.0\n",
              "dtype: float64"
            ]
          },
          "metadata": {
            "tags": []
          },
          "execution_count": 4
        }
      ]
    },
    {
      "cell_type": "markdown",
      "metadata": {
        "id": "fnx9ZerceR0F"
      },
      "source": [
        "**3.** Ainda relativo a séries, vamos \"manipular\" **datas**...\n",
        "\n",
        "pd.date_range(start=None, end=None, periods=None, freq=None, tz=None, normalize=False, name=None, closed=None, **kwargs)   "
      ]
    },
    {
      "cell_type": "code",
      "metadata": {
        "id": "mZqIRS1veCcC",
        "outputId": "53542cbe-9b64-4d6e-e7d0-55c859651c11",
        "colab": {
          "base_uri": "https://localhost:8080/",
          "height": 34
        }
      },
      "source": [
        "datas = pd.date_range(\"20200101\",periods=4,freq=\"D\")\n",
        "datas"
      ],
      "execution_count": 5,
      "outputs": [
        {
          "output_type": "execute_result",
          "data": {
            "text/plain": [
              "DatetimeIndex(['2020-01-01', '2020-01-02', '2020-01-03', '2020-01-04'], dtype='datetime64[ns]', freq='D')"
            ]
          },
          "metadata": {
            "tags": []
          },
          "execution_count": 5
        }
      ]
    },
    {
      "cell_type": "markdown",
      "metadata": {
        "id": "LqYT1pZ2iXbY"
      },
      "source": [
        "**4.** Criação de **DataFrame**"
      ]
    },
    {
      "cell_type": "code",
      "metadata": {
        "id": "rAJC48ffe2XO",
        "outputId": "f3cbd079-5225-4b35-c2f8-7a5bec8a547a",
        "colab": {
          "base_uri": "https://localhost:8080/",
          "height": 173
        }
      },
      "source": [
        "df = pd.DataFrame(np.random.randn(4,4), index = datas, columns = list(\"ABCD\"))\n",
        "df"
      ],
      "execution_count": 6,
      "outputs": [
        {
          "output_type": "execute_result",
          "data": {
            "text/html": [
              "<div>\n",
              "<style scoped>\n",
              "    .dataframe tbody tr th:only-of-type {\n",
              "        vertical-align: middle;\n",
              "    }\n",
              "\n",
              "    .dataframe tbody tr th {\n",
              "        vertical-align: top;\n",
              "    }\n",
              "\n",
              "    .dataframe thead th {\n",
              "        text-align: right;\n",
              "    }\n",
              "</style>\n",
              "<table border=\"1\" class=\"dataframe\">\n",
              "  <thead>\n",
              "    <tr style=\"text-align: right;\">\n",
              "      <th></th>\n",
              "      <th>A</th>\n",
              "      <th>B</th>\n",
              "      <th>C</th>\n",
              "      <th>D</th>\n",
              "    </tr>\n",
              "  </thead>\n",
              "  <tbody>\n",
              "    <tr>\n",
              "      <th>2020-01-01</th>\n",
              "      <td>-0.443190</td>\n",
              "      <td>0.732016</td>\n",
              "      <td>2.177361</td>\n",
              "      <td>-0.141994</td>\n",
              "    </tr>\n",
              "    <tr>\n",
              "      <th>2020-01-02</th>\n",
              "      <td>-0.905692</td>\n",
              "      <td>0.762564</td>\n",
              "      <td>-0.873843</td>\n",
              "      <td>-0.848396</td>\n",
              "    </tr>\n",
              "    <tr>\n",
              "      <th>2020-01-03</th>\n",
              "      <td>-0.768921</td>\n",
              "      <td>0.159921</td>\n",
              "      <td>0.174931</td>\n",
              "      <td>0.813558</td>\n",
              "    </tr>\n",
              "    <tr>\n",
              "      <th>2020-01-04</th>\n",
              "      <td>-0.261737</td>\n",
              "      <td>0.165556</td>\n",
              "      <td>1.829371</td>\n",
              "      <td>-0.674890</td>\n",
              "    </tr>\n",
              "  </tbody>\n",
              "</table>\n",
              "</div>"
            ],
            "text/plain": [
              "                   A         B         C         D\n",
              "2020-01-01 -0.443190  0.732016  2.177361 -0.141994\n",
              "2020-01-02 -0.905692  0.762564 -0.873843 -0.848396\n",
              "2020-01-03 -0.768921  0.159921  0.174931  0.813558\n",
              "2020-01-04 -0.261737  0.165556  1.829371 -0.674890"
            ]
          },
          "metadata": {
            "tags": []
          },
          "execution_count": 6
        }
      ]
    },
    {
      "cell_type": "code",
      "metadata": {
        "id": "aAQ6pb7QpnMQ",
        "outputId": "726583a4-cda1-42d4-fdb9-9702b90e931a",
        "colab": {
          "base_uri": "https://localhost:8080/",
          "height": 204
        }
      },
      "source": [
        "df2 = pd.DataFrame({\"A\":7,\n",
        "                    \"B\":pd.Series(1,index=list(range(5)),dtype=\"float32\"),\n",
        "                    \"C\":np.array([3]*5,dtype=\"int32\"), \n",
        "                    \"D\":pd.Categorical([\"Carro\",\"Coelho\",\"Caipora\",\"Cigarro\",\"Cinema\"]),\n",
        "                    \"E\":pd.Timestamp(\"20190204\"),\n",
        "                    \"F\":\"Dragonball\"})\n",
        "df2"
      ],
      "execution_count": 7,
      "outputs": [
        {
          "output_type": "execute_result",
          "data": {
            "text/html": [
              "<div>\n",
              "<style scoped>\n",
              "    .dataframe tbody tr th:only-of-type {\n",
              "        vertical-align: middle;\n",
              "    }\n",
              "\n",
              "    .dataframe tbody tr th {\n",
              "        vertical-align: top;\n",
              "    }\n",
              "\n",
              "    .dataframe thead th {\n",
              "        text-align: right;\n",
              "    }\n",
              "</style>\n",
              "<table border=\"1\" class=\"dataframe\">\n",
              "  <thead>\n",
              "    <tr style=\"text-align: right;\">\n",
              "      <th></th>\n",
              "      <th>A</th>\n",
              "      <th>B</th>\n",
              "      <th>C</th>\n",
              "      <th>D</th>\n",
              "      <th>E</th>\n",
              "      <th>F</th>\n",
              "    </tr>\n",
              "  </thead>\n",
              "  <tbody>\n",
              "    <tr>\n",
              "      <th>0</th>\n",
              "      <td>7</td>\n",
              "      <td>1.0</td>\n",
              "      <td>3</td>\n",
              "      <td>Carro</td>\n",
              "      <td>2019-02-04</td>\n",
              "      <td>Dragonball</td>\n",
              "    </tr>\n",
              "    <tr>\n",
              "      <th>1</th>\n",
              "      <td>7</td>\n",
              "      <td>1.0</td>\n",
              "      <td>3</td>\n",
              "      <td>Coelho</td>\n",
              "      <td>2019-02-04</td>\n",
              "      <td>Dragonball</td>\n",
              "    </tr>\n",
              "    <tr>\n",
              "      <th>2</th>\n",
              "      <td>7</td>\n",
              "      <td>1.0</td>\n",
              "      <td>3</td>\n",
              "      <td>Caipora</td>\n",
              "      <td>2019-02-04</td>\n",
              "      <td>Dragonball</td>\n",
              "    </tr>\n",
              "    <tr>\n",
              "      <th>3</th>\n",
              "      <td>7</td>\n",
              "      <td>1.0</td>\n",
              "      <td>3</td>\n",
              "      <td>Cigarro</td>\n",
              "      <td>2019-02-04</td>\n",
              "      <td>Dragonball</td>\n",
              "    </tr>\n",
              "    <tr>\n",
              "      <th>4</th>\n",
              "      <td>7</td>\n",
              "      <td>1.0</td>\n",
              "      <td>3</td>\n",
              "      <td>Cinema</td>\n",
              "      <td>2019-02-04</td>\n",
              "      <td>Dragonball</td>\n",
              "    </tr>\n",
              "  </tbody>\n",
              "</table>\n",
              "</div>"
            ],
            "text/plain": [
              "   A    B  C        D          E           F\n",
              "0  7  1.0  3    Carro 2019-02-04  Dragonball\n",
              "1  7  1.0  3   Coelho 2019-02-04  Dragonball\n",
              "2  7  1.0  3  Caipora 2019-02-04  Dragonball\n",
              "3  7  1.0  3  Cigarro 2019-02-04  Dragonball\n",
              "4  7  1.0  3   Cinema 2019-02-04  Dragonball"
            ]
          },
          "metadata": {
            "tags": []
          },
          "execution_count": 7
        }
      ]
    },
    {
      "cell_type": "code",
      "metadata": {
        "id": "ttdjqdxT0DNL",
        "outputId": "e40bfef8-39bc-4907-9849-bd7845649458",
        "colab": {
          "base_uri": "https://localhost:8080/",
          "height": 142
        }
      },
      "source": [
        "df2.head(3)"
      ],
      "execution_count": 8,
      "outputs": [
        {
          "output_type": "execute_result",
          "data": {
            "text/html": [
              "<div>\n",
              "<style scoped>\n",
              "    .dataframe tbody tr th:only-of-type {\n",
              "        vertical-align: middle;\n",
              "    }\n",
              "\n",
              "    .dataframe tbody tr th {\n",
              "        vertical-align: top;\n",
              "    }\n",
              "\n",
              "    .dataframe thead th {\n",
              "        text-align: right;\n",
              "    }\n",
              "</style>\n",
              "<table border=\"1\" class=\"dataframe\">\n",
              "  <thead>\n",
              "    <tr style=\"text-align: right;\">\n",
              "      <th></th>\n",
              "      <th>A</th>\n",
              "      <th>B</th>\n",
              "      <th>C</th>\n",
              "      <th>D</th>\n",
              "      <th>E</th>\n",
              "      <th>F</th>\n",
              "    </tr>\n",
              "  </thead>\n",
              "  <tbody>\n",
              "    <tr>\n",
              "      <th>0</th>\n",
              "      <td>7</td>\n",
              "      <td>1.0</td>\n",
              "      <td>3</td>\n",
              "      <td>Carro</td>\n",
              "      <td>2019-02-04</td>\n",
              "      <td>Dragonball</td>\n",
              "    </tr>\n",
              "    <tr>\n",
              "      <th>1</th>\n",
              "      <td>7</td>\n",
              "      <td>1.0</td>\n",
              "      <td>3</td>\n",
              "      <td>Coelho</td>\n",
              "      <td>2019-02-04</td>\n",
              "      <td>Dragonball</td>\n",
              "    </tr>\n",
              "    <tr>\n",
              "      <th>2</th>\n",
              "      <td>7</td>\n",
              "      <td>1.0</td>\n",
              "      <td>3</td>\n",
              "      <td>Caipora</td>\n",
              "      <td>2019-02-04</td>\n",
              "      <td>Dragonball</td>\n",
              "    </tr>\n",
              "  </tbody>\n",
              "</table>\n",
              "</div>"
            ],
            "text/plain": [
              "   A    B  C        D          E           F\n",
              "0  7  1.0  3    Carro 2019-02-04  Dragonball\n",
              "1  7  1.0  3   Coelho 2019-02-04  Dragonball\n",
              "2  7  1.0  3  Caipora 2019-02-04  Dragonball"
            ]
          },
          "metadata": {
            "tags": []
          },
          "execution_count": 8
        }
      ]
    },
    {
      "cell_type": "code",
      "metadata": {
        "id": "7KQXBSul0N0b",
        "outputId": "dbb63d24-dd57-4970-cdc4-afc227fc23f5",
        "colab": {
          "base_uri": "https://localhost:8080/",
          "height": 142
        }
      },
      "source": [
        "df2.tail(3)"
      ],
      "execution_count": 9,
      "outputs": [
        {
          "output_type": "execute_result",
          "data": {
            "text/html": [
              "<div>\n",
              "<style scoped>\n",
              "    .dataframe tbody tr th:only-of-type {\n",
              "        vertical-align: middle;\n",
              "    }\n",
              "\n",
              "    .dataframe tbody tr th {\n",
              "        vertical-align: top;\n",
              "    }\n",
              "\n",
              "    .dataframe thead th {\n",
              "        text-align: right;\n",
              "    }\n",
              "</style>\n",
              "<table border=\"1\" class=\"dataframe\">\n",
              "  <thead>\n",
              "    <tr style=\"text-align: right;\">\n",
              "      <th></th>\n",
              "      <th>A</th>\n",
              "      <th>B</th>\n",
              "      <th>C</th>\n",
              "      <th>D</th>\n",
              "      <th>E</th>\n",
              "      <th>F</th>\n",
              "    </tr>\n",
              "  </thead>\n",
              "  <tbody>\n",
              "    <tr>\n",
              "      <th>2</th>\n",
              "      <td>7</td>\n",
              "      <td>1.0</td>\n",
              "      <td>3</td>\n",
              "      <td>Caipora</td>\n",
              "      <td>2019-02-04</td>\n",
              "      <td>Dragonball</td>\n",
              "    </tr>\n",
              "    <tr>\n",
              "      <th>3</th>\n",
              "      <td>7</td>\n",
              "      <td>1.0</td>\n",
              "      <td>3</td>\n",
              "      <td>Cigarro</td>\n",
              "      <td>2019-02-04</td>\n",
              "      <td>Dragonball</td>\n",
              "    </tr>\n",
              "    <tr>\n",
              "      <th>4</th>\n",
              "      <td>7</td>\n",
              "      <td>1.0</td>\n",
              "      <td>3</td>\n",
              "      <td>Cinema</td>\n",
              "      <td>2019-02-04</td>\n",
              "      <td>Dragonball</td>\n",
              "    </tr>\n",
              "  </tbody>\n",
              "</table>\n",
              "</div>"
            ],
            "text/plain": [
              "   A    B  C        D          E           F\n",
              "2  7  1.0  3  Caipora 2019-02-04  Dragonball\n",
              "3  7  1.0  3  Cigarro 2019-02-04  Dragonball\n",
              "4  7  1.0  3   Cinema 2019-02-04  Dragonball"
            ]
          },
          "metadata": {
            "tags": []
          },
          "execution_count": 9
        }
      ]
    },
    {
      "cell_type": "code",
      "metadata": {
        "id": "xycTxl200fVK",
        "outputId": "f1c6fd52-ab31-4132-eddb-2c8e6c04f205",
        "colab": {
          "base_uri": "https://localhost:8080/",
          "height": 34
        }
      },
      "source": [
        "df2.index"
      ],
      "execution_count": 10,
      "outputs": [
        {
          "output_type": "execute_result",
          "data": {
            "text/plain": [
              "Int64Index([0, 1, 2, 3, 4], dtype='int64')"
            ]
          },
          "metadata": {
            "tags": []
          },
          "execution_count": 10
        }
      ]
    },
    {
      "cell_type": "code",
      "metadata": {
        "id": "jvwsT0vJ0fG8",
        "outputId": "9a88f6e2-dc2e-402b-ea6e-7dafc70b54eb",
        "colab": {
          "base_uri": "https://localhost:8080/",
          "height": 34
        }
      },
      "source": [
        "df2.columns"
      ],
      "execution_count": 14,
      "outputs": [
        {
          "output_type": "execute_result",
          "data": {
            "text/plain": [
              "Index(['A', 'B', 'C', 'D', 'E', 'F'], dtype='object')"
            ]
          },
          "metadata": {
            "tags": []
          },
          "execution_count": 14
        }
      ]
    },
    {
      "cell_type": "code",
      "metadata": {
        "id": "1q3uWy800yjj",
        "outputId": "7f3480db-e7a6-4813-f8b6-472e24e90cc5",
        "colab": {
          "base_uri": "https://localhost:8080/",
          "height": 85
        }
      },
      "source": [
        "#df --> Tira índices e colunas\n",
        "df.to_numpy()"
      ],
      "execution_count": 11,
      "outputs": [
        {
          "output_type": "execute_result",
          "data": {
            "text/plain": [
              "array([[-0.44318953,  0.73201552,  2.17736141, -0.1419937 ],\n",
              "       [-0.90569227,  0.76256411, -0.87384283, -0.84839626],\n",
              "       [-0.76892135,  0.15992068,  0.17493098,  0.8135578 ],\n",
              "       [-0.26173686,  0.16555593,  1.82937072, -0.6748897 ]])"
            ]
          },
          "metadata": {
            "tags": []
          },
          "execution_count": 11
        }
      ]
    },
    {
      "cell_type": "code",
      "metadata": {
        "id": "cif3fsratMuU",
        "outputId": "cb574912-81da-4279-b4b5-1adee2479f54",
        "colab": {
          "base_uri": "https://localhost:8080/",
          "height": 136
        }
      },
      "source": [
        "df2.dtypes"
      ],
      "execution_count": 12,
      "outputs": [
        {
          "output_type": "execute_result",
          "data": {
            "text/plain": [
              "A             int64\n",
              "B           float32\n",
              "C             int32\n",
              "D          category\n",
              "E    datetime64[ns]\n",
              "F            object\n",
              "dtype: object"
            ]
          },
          "metadata": {
            "tags": []
          },
          "execution_count": 12
        }
      ]
    },
    {
      "cell_type": "code",
      "metadata": {
        "id": "esbMWzy4tSIC",
        "outputId": "1ebd0dca-4cc5-43cc-eddc-a560528cf23c",
        "colab": {
          "base_uri": "https://localhost:8080/",
          "height": 34
        }
      },
      "source": [
        "df2.shape"
      ],
      "execution_count": 15,
      "outputs": [
        {
          "output_type": "execute_result",
          "data": {
            "text/plain": [
              "(5, 6)"
            ]
          },
          "metadata": {
            "tags": []
          },
          "execution_count": 15
        }
      ]
    },
    {
      "cell_type": "markdown",
      "metadata": {
        "id": "Cnhk7NQUtnk7"
      },
      "source": [
        "**5.** Adição de **colunas** ao DataFrame"
      ]
    },
    {
      "cell_type": "code",
      "metadata": {
        "id": "d_7Owmpmtln4",
        "outputId": "8552cb2e-e4c3-4a95-9eac-8b8abea08db6",
        "colab": {
          "base_uri": "https://localhost:8080/",
          "height": 204
        }
      },
      "source": [
        "df2[\"G\"] = pd.Series(\"RX\",index=list(range(5)),dtype=\"str\")\n",
        "df2"
      ],
      "execution_count": 16,
      "outputs": [
        {
          "output_type": "execute_result",
          "data": {
            "text/html": [
              "<div>\n",
              "<style scoped>\n",
              "    .dataframe tbody tr th:only-of-type {\n",
              "        vertical-align: middle;\n",
              "    }\n",
              "\n",
              "    .dataframe tbody tr th {\n",
              "        vertical-align: top;\n",
              "    }\n",
              "\n",
              "    .dataframe thead th {\n",
              "        text-align: right;\n",
              "    }\n",
              "</style>\n",
              "<table border=\"1\" class=\"dataframe\">\n",
              "  <thead>\n",
              "    <tr style=\"text-align: right;\">\n",
              "      <th></th>\n",
              "      <th>A</th>\n",
              "      <th>B</th>\n",
              "      <th>C</th>\n",
              "      <th>D</th>\n",
              "      <th>E</th>\n",
              "      <th>F</th>\n",
              "      <th>G</th>\n",
              "    </tr>\n",
              "  </thead>\n",
              "  <tbody>\n",
              "    <tr>\n",
              "      <th>0</th>\n",
              "      <td>7</td>\n",
              "      <td>1.0</td>\n",
              "      <td>3</td>\n",
              "      <td>Carro</td>\n",
              "      <td>2019-02-04</td>\n",
              "      <td>Dragonball</td>\n",
              "      <td>RX</td>\n",
              "    </tr>\n",
              "    <tr>\n",
              "      <th>1</th>\n",
              "      <td>7</td>\n",
              "      <td>1.0</td>\n",
              "      <td>3</td>\n",
              "      <td>Coelho</td>\n",
              "      <td>2019-02-04</td>\n",
              "      <td>Dragonball</td>\n",
              "      <td>RX</td>\n",
              "    </tr>\n",
              "    <tr>\n",
              "      <th>2</th>\n",
              "      <td>7</td>\n",
              "      <td>1.0</td>\n",
              "      <td>3</td>\n",
              "      <td>Caipora</td>\n",
              "      <td>2019-02-04</td>\n",
              "      <td>Dragonball</td>\n",
              "      <td>RX</td>\n",
              "    </tr>\n",
              "    <tr>\n",
              "      <th>3</th>\n",
              "      <td>7</td>\n",
              "      <td>1.0</td>\n",
              "      <td>3</td>\n",
              "      <td>Cigarro</td>\n",
              "      <td>2019-02-04</td>\n",
              "      <td>Dragonball</td>\n",
              "      <td>RX</td>\n",
              "    </tr>\n",
              "    <tr>\n",
              "      <th>4</th>\n",
              "      <td>7</td>\n",
              "      <td>1.0</td>\n",
              "      <td>3</td>\n",
              "      <td>Cinema</td>\n",
              "      <td>2019-02-04</td>\n",
              "      <td>Dragonball</td>\n",
              "      <td>RX</td>\n",
              "    </tr>\n",
              "  </tbody>\n",
              "</table>\n",
              "</div>"
            ],
            "text/plain": [
              "   A    B  C        D          E           F   G\n",
              "0  7  1.0  3    Carro 2019-02-04  Dragonball  RX\n",
              "1  7  1.0  3   Coelho 2019-02-04  Dragonball  RX\n",
              "2  7  1.0  3  Caipora 2019-02-04  Dragonball  RX\n",
              "3  7  1.0  3  Cigarro 2019-02-04  Dragonball  RX\n",
              "4  7  1.0  3   Cinema 2019-02-04  Dragonball  RX"
            ]
          },
          "metadata": {
            "tags": []
          },
          "execution_count": 16
        }
      ]
    },
    {
      "cell_type": "markdown",
      "metadata": {
        "id": "942ra8R3vEft"
      },
      "source": [
        "**6.** **Operação** entre colunas"
      ]
    },
    {
      "cell_type": "code",
      "metadata": {
        "id": "549cGAlrvLlM",
        "outputId": "b5ccf795-d1c6-4347-9190-f6f322b862ba",
        "colab": {
          "base_uri": "https://localhost:8080/",
          "height": 204
        }
      },
      "source": [
        "df2[\"Soma\"] = df2[\"A\"] + df2[\"C\"]\n",
        "df2"
      ],
      "execution_count": 17,
      "outputs": [
        {
          "output_type": "execute_result",
          "data": {
            "text/html": [
              "<div>\n",
              "<style scoped>\n",
              "    .dataframe tbody tr th:only-of-type {\n",
              "        vertical-align: middle;\n",
              "    }\n",
              "\n",
              "    .dataframe tbody tr th {\n",
              "        vertical-align: top;\n",
              "    }\n",
              "\n",
              "    .dataframe thead th {\n",
              "        text-align: right;\n",
              "    }\n",
              "</style>\n",
              "<table border=\"1\" class=\"dataframe\">\n",
              "  <thead>\n",
              "    <tr style=\"text-align: right;\">\n",
              "      <th></th>\n",
              "      <th>A</th>\n",
              "      <th>B</th>\n",
              "      <th>C</th>\n",
              "      <th>D</th>\n",
              "      <th>E</th>\n",
              "      <th>F</th>\n",
              "      <th>G</th>\n",
              "      <th>Soma</th>\n",
              "    </tr>\n",
              "  </thead>\n",
              "  <tbody>\n",
              "    <tr>\n",
              "      <th>0</th>\n",
              "      <td>7</td>\n",
              "      <td>1.0</td>\n",
              "      <td>3</td>\n",
              "      <td>Carro</td>\n",
              "      <td>2019-02-04</td>\n",
              "      <td>Dragonball</td>\n",
              "      <td>RX</td>\n",
              "      <td>10</td>\n",
              "    </tr>\n",
              "    <tr>\n",
              "      <th>1</th>\n",
              "      <td>7</td>\n",
              "      <td>1.0</td>\n",
              "      <td>3</td>\n",
              "      <td>Coelho</td>\n",
              "      <td>2019-02-04</td>\n",
              "      <td>Dragonball</td>\n",
              "      <td>RX</td>\n",
              "      <td>10</td>\n",
              "    </tr>\n",
              "    <tr>\n",
              "      <th>2</th>\n",
              "      <td>7</td>\n",
              "      <td>1.0</td>\n",
              "      <td>3</td>\n",
              "      <td>Caipora</td>\n",
              "      <td>2019-02-04</td>\n",
              "      <td>Dragonball</td>\n",
              "      <td>RX</td>\n",
              "      <td>10</td>\n",
              "    </tr>\n",
              "    <tr>\n",
              "      <th>3</th>\n",
              "      <td>7</td>\n",
              "      <td>1.0</td>\n",
              "      <td>3</td>\n",
              "      <td>Cigarro</td>\n",
              "      <td>2019-02-04</td>\n",
              "      <td>Dragonball</td>\n",
              "      <td>RX</td>\n",
              "      <td>10</td>\n",
              "    </tr>\n",
              "    <tr>\n",
              "      <th>4</th>\n",
              "      <td>7</td>\n",
              "      <td>1.0</td>\n",
              "      <td>3</td>\n",
              "      <td>Cinema</td>\n",
              "      <td>2019-02-04</td>\n",
              "      <td>Dragonball</td>\n",
              "      <td>RX</td>\n",
              "      <td>10</td>\n",
              "    </tr>\n",
              "  </tbody>\n",
              "</table>\n",
              "</div>"
            ],
            "text/plain": [
              "   A    B  C        D          E           F   G  Soma\n",
              "0  7  1.0  3    Carro 2019-02-04  Dragonball  RX    10\n",
              "1  7  1.0  3   Coelho 2019-02-04  Dragonball  RX    10\n",
              "2  7  1.0  3  Caipora 2019-02-04  Dragonball  RX    10\n",
              "3  7  1.0  3  Cigarro 2019-02-04  Dragonball  RX    10\n",
              "4  7  1.0  3   Cinema 2019-02-04  Dragonball  RX    10"
            ]
          },
          "metadata": {
            "tags": []
          },
          "execution_count": 17
        }
      ]
    },
    {
      "cell_type": "code",
      "metadata": {
        "id": "fPwoChMI1WuN",
        "outputId": "13c96cd4-9828-4b84-c8ef-a78b91992506",
        "colab": {
          "base_uri": "https://localhost:8080/",
          "height": 297
        }
      },
      "source": [
        "#Transposta\n",
        "df2.T"
      ],
      "execution_count": 18,
      "outputs": [
        {
          "output_type": "execute_result",
          "data": {
            "text/html": [
              "<div>\n",
              "<style scoped>\n",
              "    .dataframe tbody tr th:only-of-type {\n",
              "        vertical-align: middle;\n",
              "    }\n",
              "\n",
              "    .dataframe tbody tr th {\n",
              "        vertical-align: top;\n",
              "    }\n",
              "\n",
              "    .dataframe thead th {\n",
              "        text-align: right;\n",
              "    }\n",
              "</style>\n",
              "<table border=\"1\" class=\"dataframe\">\n",
              "  <thead>\n",
              "    <tr style=\"text-align: right;\">\n",
              "      <th></th>\n",
              "      <th>0</th>\n",
              "      <th>1</th>\n",
              "      <th>2</th>\n",
              "      <th>3</th>\n",
              "      <th>4</th>\n",
              "    </tr>\n",
              "  </thead>\n",
              "  <tbody>\n",
              "    <tr>\n",
              "      <th>A</th>\n",
              "      <td>7</td>\n",
              "      <td>7</td>\n",
              "      <td>7</td>\n",
              "      <td>7</td>\n",
              "      <td>7</td>\n",
              "    </tr>\n",
              "    <tr>\n",
              "      <th>B</th>\n",
              "      <td>1</td>\n",
              "      <td>1</td>\n",
              "      <td>1</td>\n",
              "      <td>1</td>\n",
              "      <td>1</td>\n",
              "    </tr>\n",
              "    <tr>\n",
              "      <th>C</th>\n",
              "      <td>3</td>\n",
              "      <td>3</td>\n",
              "      <td>3</td>\n",
              "      <td>3</td>\n",
              "      <td>3</td>\n",
              "    </tr>\n",
              "    <tr>\n",
              "      <th>D</th>\n",
              "      <td>Carro</td>\n",
              "      <td>Coelho</td>\n",
              "      <td>Caipora</td>\n",
              "      <td>Cigarro</td>\n",
              "      <td>Cinema</td>\n",
              "    </tr>\n",
              "    <tr>\n",
              "      <th>E</th>\n",
              "      <td>2019-02-04 00:00:00</td>\n",
              "      <td>2019-02-04 00:00:00</td>\n",
              "      <td>2019-02-04 00:00:00</td>\n",
              "      <td>2019-02-04 00:00:00</td>\n",
              "      <td>2019-02-04 00:00:00</td>\n",
              "    </tr>\n",
              "    <tr>\n",
              "      <th>F</th>\n",
              "      <td>Dragonball</td>\n",
              "      <td>Dragonball</td>\n",
              "      <td>Dragonball</td>\n",
              "      <td>Dragonball</td>\n",
              "      <td>Dragonball</td>\n",
              "    </tr>\n",
              "    <tr>\n",
              "      <th>G</th>\n",
              "      <td>RX</td>\n",
              "      <td>RX</td>\n",
              "      <td>RX</td>\n",
              "      <td>RX</td>\n",
              "      <td>RX</td>\n",
              "    </tr>\n",
              "    <tr>\n",
              "      <th>Soma</th>\n",
              "      <td>10</td>\n",
              "      <td>10</td>\n",
              "      <td>10</td>\n",
              "      <td>10</td>\n",
              "      <td>10</td>\n",
              "    </tr>\n",
              "  </tbody>\n",
              "</table>\n",
              "</div>"
            ],
            "text/plain": [
              "                        0  ...                    4\n",
              "A                       7  ...                    7\n",
              "B                       1  ...                    1\n",
              "C                       3  ...                    3\n",
              "D                   Carro  ...               Cinema\n",
              "E     2019-02-04 00:00:00  ...  2019-02-04 00:00:00\n",
              "F              Dragonball  ...           Dragonball\n",
              "G                      RX  ...                   RX\n",
              "Soma                   10  ...                   10\n",
              "\n",
              "[8 rows x 5 columns]"
            ]
          },
          "metadata": {
            "tags": []
          },
          "execution_count": 18
        }
      ]
    },
    {
      "cell_type": "markdown",
      "metadata": {
        "id": "CPU5empJzhwM"
      },
      "source": [
        "**7.** **Concatenando** dataframes"
      ]
    },
    {
      "cell_type": "code",
      "metadata": {
        "id": "a0u1RTXFziWE"
      },
      "source": [
        "df1 = pd.DataFrame(np.random.randn(2,2), index = pd.date_range(\"20190104\",periods=2,freq=\"D\"), columns = list(\"AB\"))\n",
        "df2 = pd.DataFrame(np.random.randn(2,2), index = pd.date_range(\"20190106\",periods=2,freq=\"D\"), columns = list(\"AB\"))\n",
        "df3 = pd.DataFrame(np.random.randn(2,2), index = pd.date_range(\"20190108\",periods=2,freq=\"D\"), columns = list(\"AB\"))"
      ],
      "execution_count": 19,
      "outputs": []
    },
    {
      "cell_type": "code",
      "metadata": {
        "id": "f1vAC1FHESAp",
        "outputId": "c1c08508-5024-4c7c-d86d-1a03e36690be",
        "colab": {
          "base_uri": "https://localhost:8080/",
          "height": 235
        }
      },
      "source": [
        "combinacao = pd.concat([df1,df2,df3],keys=[\"df1\",\"df2\",\"df3\"])\n",
        "combinacao"
      ],
      "execution_count": 20,
      "outputs": [
        {
          "output_type": "execute_result",
          "data": {
            "text/html": [
              "<div>\n",
              "<style scoped>\n",
              "    .dataframe tbody tr th:only-of-type {\n",
              "        vertical-align: middle;\n",
              "    }\n",
              "\n",
              "    .dataframe tbody tr th {\n",
              "        vertical-align: top;\n",
              "    }\n",
              "\n",
              "    .dataframe thead th {\n",
              "        text-align: right;\n",
              "    }\n",
              "</style>\n",
              "<table border=\"1\" class=\"dataframe\">\n",
              "  <thead>\n",
              "    <tr style=\"text-align: right;\">\n",
              "      <th></th>\n",
              "      <th></th>\n",
              "      <th>A</th>\n",
              "      <th>B</th>\n",
              "    </tr>\n",
              "  </thead>\n",
              "  <tbody>\n",
              "    <tr>\n",
              "      <th rowspan=\"2\" valign=\"top\">df1</th>\n",
              "      <th>2019-01-04</th>\n",
              "      <td>-1.448840</td>\n",
              "      <td>0.720251</td>\n",
              "    </tr>\n",
              "    <tr>\n",
              "      <th>2019-01-05</th>\n",
              "      <td>0.629032</td>\n",
              "      <td>0.924831</td>\n",
              "    </tr>\n",
              "    <tr>\n",
              "      <th rowspan=\"2\" valign=\"top\">df2</th>\n",
              "      <th>2019-01-06</th>\n",
              "      <td>-0.402103</td>\n",
              "      <td>0.950435</td>\n",
              "    </tr>\n",
              "    <tr>\n",
              "      <th>2019-01-07</th>\n",
              "      <td>-0.266624</td>\n",
              "      <td>0.476842</td>\n",
              "    </tr>\n",
              "    <tr>\n",
              "      <th rowspan=\"2\" valign=\"top\">df3</th>\n",
              "      <th>2019-01-08</th>\n",
              "      <td>1.722589</td>\n",
              "      <td>1.125264</td>\n",
              "    </tr>\n",
              "    <tr>\n",
              "      <th>2019-01-09</th>\n",
              "      <td>0.115400</td>\n",
              "      <td>-0.700174</td>\n",
              "    </tr>\n",
              "  </tbody>\n",
              "</table>\n",
              "</div>"
            ],
            "text/plain": [
              "                       A         B\n",
              "df1 2019-01-04 -1.448840  0.720251\n",
              "    2019-01-05  0.629032  0.924831\n",
              "df2 2019-01-06 -0.402103  0.950435\n",
              "    2019-01-07 -0.266624  0.476842\n",
              "df3 2019-01-08  1.722589  1.125264\n",
              "    2019-01-09  0.115400 -0.700174"
            ]
          },
          "metadata": {
            "tags": []
          },
          "execution_count": 20
        }
      ]
    },
    {
      "cell_type": "code",
      "metadata": {
        "id": "PA0XJLCoMiGf",
        "outputId": "2d5cb292-f08a-441b-f01b-9535acd80e52",
        "colab": {
          "base_uri": "https://localhost:8080/",
          "height": 173
        }
      },
      "source": [
        "#Removendo valores repetidos\n",
        "combinacao[\"ValoresRepetidos\"] = list(\"XYXKXL\")\n",
        "combinacao.drop_duplicates(subset=\"ValoresRepetidos\")"
      ],
      "execution_count": 21,
      "outputs": [
        {
          "output_type": "execute_result",
          "data": {
            "text/html": [
              "<div>\n",
              "<style scoped>\n",
              "    .dataframe tbody tr th:only-of-type {\n",
              "        vertical-align: middle;\n",
              "    }\n",
              "\n",
              "    .dataframe tbody tr th {\n",
              "        vertical-align: top;\n",
              "    }\n",
              "\n",
              "    .dataframe thead th {\n",
              "        text-align: right;\n",
              "    }\n",
              "</style>\n",
              "<table border=\"1\" class=\"dataframe\">\n",
              "  <thead>\n",
              "    <tr style=\"text-align: right;\">\n",
              "      <th></th>\n",
              "      <th></th>\n",
              "      <th>A</th>\n",
              "      <th>B</th>\n",
              "      <th>ValoresRepetidos</th>\n",
              "    </tr>\n",
              "  </thead>\n",
              "  <tbody>\n",
              "    <tr>\n",
              "      <th rowspan=\"2\" valign=\"top\">df1</th>\n",
              "      <th>2019-01-04</th>\n",
              "      <td>-1.448840</td>\n",
              "      <td>0.720251</td>\n",
              "      <td>X</td>\n",
              "    </tr>\n",
              "    <tr>\n",
              "      <th>2019-01-05</th>\n",
              "      <td>0.629032</td>\n",
              "      <td>0.924831</td>\n",
              "      <td>Y</td>\n",
              "    </tr>\n",
              "    <tr>\n",
              "      <th>df2</th>\n",
              "      <th>2019-01-07</th>\n",
              "      <td>-0.266624</td>\n",
              "      <td>0.476842</td>\n",
              "      <td>K</td>\n",
              "    </tr>\n",
              "    <tr>\n",
              "      <th>df3</th>\n",
              "      <th>2019-01-09</th>\n",
              "      <td>0.115400</td>\n",
              "      <td>-0.700174</td>\n",
              "      <td>L</td>\n",
              "    </tr>\n",
              "  </tbody>\n",
              "</table>\n",
              "</div>"
            ],
            "text/plain": [
              "                       A         B ValoresRepetidos\n",
              "df1 2019-01-04 -1.448840  0.720251                X\n",
              "    2019-01-05  0.629032  0.924831                Y\n",
              "df2 2019-01-07 -0.266624  0.476842                K\n",
              "df3 2019-01-09  0.115400 -0.700174                L"
            ]
          },
          "metadata": {
            "tags": []
          },
          "execution_count": 21
        }
      ]
    },
    {
      "cell_type": "code",
      "metadata": {
        "id": "6xhoO0quGDlo",
        "outputId": "77fa7132-eaa8-459a-a3a0-c155977abac0",
        "colab": {
          "base_uri": "https://localhost:8080/",
          "height": 136
        }
      },
      "source": [
        "#\"Selecionando\" informações da coluna\n",
        "combinacao[\"A\"]"
      ],
      "execution_count": 22,
      "outputs": [
        {
          "output_type": "execute_result",
          "data": {
            "text/plain": [
              "df1  2019-01-04   -1.448840\n",
              "     2019-01-05    0.629032\n",
              "df2  2019-01-06   -0.402103\n",
              "     2019-01-07   -0.266624\n",
              "df3  2019-01-08    1.722589\n",
              "     2019-01-09    0.115400\n",
              "Name: A, dtype: float64"
            ]
          },
          "metadata": {
            "tags": []
          },
          "execution_count": 22
        }
      ]
    },
    {
      "cell_type": "code",
      "metadata": {
        "id": "O89DKLEjGPE_",
        "outputId": "eb538b36-872a-4091-f4ec-afad25f7b53a",
        "colab": {
          "base_uri": "https://localhost:8080/",
          "height": 111
        }
      },
      "source": [
        "#Selecionando key\n",
        "combinacao.loc[\"df1\"]"
      ],
      "execution_count": 23,
      "outputs": [
        {
          "output_type": "execute_result",
          "data": {
            "text/html": [
              "<div>\n",
              "<style scoped>\n",
              "    .dataframe tbody tr th:only-of-type {\n",
              "        vertical-align: middle;\n",
              "    }\n",
              "\n",
              "    .dataframe tbody tr th {\n",
              "        vertical-align: top;\n",
              "    }\n",
              "\n",
              "    .dataframe thead th {\n",
              "        text-align: right;\n",
              "    }\n",
              "</style>\n",
              "<table border=\"1\" class=\"dataframe\">\n",
              "  <thead>\n",
              "    <tr style=\"text-align: right;\">\n",
              "      <th></th>\n",
              "      <th>A</th>\n",
              "      <th>B</th>\n",
              "      <th>ValoresRepetidos</th>\n",
              "    </tr>\n",
              "  </thead>\n",
              "  <tbody>\n",
              "    <tr>\n",
              "      <th>2019-01-04</th>\n",
              "      <td>-1.448840</td>\n",
              "      <td>0.720251</td>\n",
              "      <td>X</td>\n",
              "    </tr>\n",
              "    <tr>\n",
              "      <th>2019-01-05</th>\n",
              "      <td>0.629032</td>\n",
              "      <td>0.924831</td>\n",
              "      <td>Y</td>\n",
              "    </tr>\n",
              "  </tbody>\n",
              "</table>\n",
              "</div>"
            ],
            "text/plain": [
              "                   A         B ValoresRepetidos\n",
              "2019-01-04 -1.448840  0.720251                X\n",
              "2019-01-05  0.629032  0.924831                Y"
            ]
          },
          "metadata": {
            "tags": []
          },
          "execution_count": 23
        }
      ]
    },
    {
      "cell_type": "markdown",
      "metadata": {
        "id": "X36XkQE-Hz94"
      },
      "source": [
        "**8.** Aplicando **Merge**"
      ]
    },
    {
      "cell_type": "code",
      "metadata": {
        "id": "K_ecl3vuH9Au"
      },
      "source": [
        "df4 = pd.DataFrame({'ID': [123,321,231,213],\n",
        "                    'lkey': ['foo', 'bar', 'baz', 'foo'],\n",
        "                    'value': [1, 2, 3, 5],\n",
        "                    'Compras':[00,11,22,33]})\n",
        "df5 = pd.DataFrame({'ID': [123,323,231,212],\n",
        "                    'rkey': ['foo', 'bar', 'baz', 'foo'],\n",
        "                    'value': [5, 6, 7, 8]})"
      ],
      "execution_count": 24,
      "outputs": []
    },
    {
      "cell_type": "code",
      "metadata": {
        "id": "nsayrhVUJNY4",
        "outputId": "1b7f4764-b0c6-4ffc-9a51-5604e8c23bb8",
        "colab": {
          "base_uri": "https://localhost:8080/",
          "height": 111
        }
      },
      "source": [
        "#Intersecção --> Valores iguais\n",
        "pd.merge(df4,df5,how=\"inner\",on=[\"ID\"],suffixes=[\"_A\",\"_B\"])"
      ],
      "execution_count": null,
      "outputs": [
        {
          "output_type": "execute_result",
          "data": {
            "text/html": [
              "<div>\n",
              "<style scoped>\n",
              "    .dataframe tbody tr th:only-of-type {\n",
              "        vertical-align: middle;\n",
              "    }\n",
              "\n",
              "    .dataframe tbody tr th {\n",
              "        vertical-align: top;\n",
              "    }\n",
              "\n",
              "    .dataframe thead th {\n",
              "        text-align: right;\n",
              "    }\n",
              "</style>\n",
              "<table border=\"1\" class=\"dataframe\">\n",
              "  <thead>\n",
              "    <tr style=\"text-align: right;\">\n",
              "      <th></th>\n",
              "      <th>ID</th>\n",
              "      <th>lkey</th>\n",
              "      <th>value_A</th>\n",
              "      <th>rkey</th>\n",
              "      <th>value_B</th>\n",
              "    </tr>\n",
              "  </thead>\n",
              "  <tbody>\n",
              "    <tr>\n",
              "      <th>0</th>\n",
              "      <td>123</td>\n",
              "      <td>foo</td>\n",
              "      <td>1</td>\n",
              "      <td>foo</td>\n",
              "      <td>5</td>\n",
              "    </tr>\n",
              "    <tr>\n",
              "      <th>1</th>\n",
              "      <td>231</td>\n",
              "      <td>baz</td>\n",
              "      <td>3</td>\n",
              "      <td>baz</td>\n",
              "      <td>7</td>\n",
              "    </tr>\n",
              "  </tbody>\n",
              "</table>\n",
              "</div>"
            ],
            "text/plain": [
              "    ID lkey  value_A rkey  value_B\n",
              "0  123  foo        1  foo        5\n",
              "1  231  baz        3  baz        7"
            ]
          },
          "metadata": {
            "tags": []
          },
          "execution_count": 28
        }
      ]
    },
    {
      "cell_type": "code",
      "metadata": {
        "id": "lIbj-9KAmoZq",
        "outputId": "d7e6d7d2-19c3-4670-98d7-984a9badb961",
        "colab": {
          "base_uri": "https://localhost:8080/",
          "height": 173
        }
      },
      "source": [
        "#Left join --> Valores iguais + conjunto da esquerda\n",
        "pd.merge(df4,df5,how=\"left\",on='ID')"
      ],
      "execution_count": 25,
      "outputs": [
        {
          "output_type": "execute_result",
          "data": {
            "text/html": [
              "<div>\n",
              "<style scoped>\n",
              "    .dataframe tbody tr th:only-of-type {\n",
              "        vertical-align: middle;\n",
              "    }\n",
              "\n",
              "    .dataframe tbody tr th {\n",
              "        vertical-align: top;\n",
              "    }\n",
              "\n",
              "    .dataframe thead th {\n",
              "        text-align: right;\n",
              "    }\n",
              "</style>\n",
              "<table border=\"1\" class=\"dataframe\">\n",
              "  <thead>\n",
              "    <tr style=\"text-align: right;\">\n",
              "      <th></th>\n",
              "      <th>ID</th>\n",
              "      <th>lkey</th>\n",
              "      <th>value_x</th>\n",
              "      <th>Compras</th>\n",
              "      <th>rkey</th>\n",
              "      <th>value_y</th>\n",
              "    </tr>\n",
              "  </thead>\n",
              "  <tbody>\n",
              "    <tr>\n",
              "      <th>0</th>\n",
              "      <td>123</td>\n",
              "      <td>foo</td>\n",
              "      <td>1</td>\n",
              "      <td>0</td>\n",
              "      <td>foo</td>\n",
              "      <td>5.0</td>\n",
              "    </tr>\n",
              "    <tr>\n",
              "      <th>1</th>\n",
              "      <td>321</td>\n",
              "      <td>bar</td>\n",
              "      <td>2</td>\n",
              "      <td>11</td>\n",
              "      <td>NaN</td>\n",
              "      <td>NaN</td>\n",
              "    </tr>\n",
              "    <tr>\n",
              "      <th>2</th>\n",
              "      <td>231</td>\n",
              "      <td>baz</td>\n",
              "      <td>3</td>\n",
              "      <td>22</td>\n",
              "      <td>baz</td>\n",
              "      <td>7.0</td>\n",
              "    </tr>\n",
              "    <tr>\n",
              "      <th>3</th>\n",
              "      <td>213</td>\n",
              "      <td>foo</td>\n",
              "      <td>5</td>\n",
              "      <td>33</td>\n",
              "      <td>NaN</td>\n",
              "      <td>NaN</td>\n",
              "    </tr>\n",
              "  </tbody>\n",
              "</table>\n",
              "</div>"
            ],
            "text/plain": [
              "    ID lkey  value_x  Compras rkey  value_y\n",
              "0  123  foo        1        0  foo      5.0\n",
              "1  321  bar        2       11  NaN      NaN\n",
              "2  231  baz        3       22  baz      7.0\n",
              "3  213  foo        5       33  NaN      NaN"
            ]
          },
          "metadata": {
            "tags": []
          },
          "execution_count": 25
        }
      ]
    },
    {
      "cell_type": "code",
      "metadata": {
        "id": "sopcWvD3oVpl",
        "outputId": "129a5904-a236-4333-a7a0-684676cd72ee",
        "colab": {
          "base_uri": "https://localhost:8080/",
          "height": 235
        }
      },
      "source": [
        "#Outer --> Compara os df's para cada ID reportando lados\n",
        "pd.merge(df4,df5,how='outer',on='ID',indicator=True)"
      ],
      "execution_count": 26,
      "outputs": [
        {
          "output_type": "execute_result",
          "data": {
            "text/html": [
              "<div>\n",
              "<style scoped>\n",
              "    .dataframe tbody tr th:only-of-type {\n",
              "        vertical-align: middle;\n",
              "    }\n",
              "\n",
              "    .dataframe tbody tr th {\n",
              "        vertical-align: top;\n",
              "    }\n",
              "\n",
              "    .dataframe thead th {\n",
              "        text-align: right;\n",
              "    }\n",
              "</style>\n",
              "<table border=\"1\" class=\"dataframe\">\n",
              "  <thead>\n",
              "    <tr style=\"text-align: right;\">\n",
              "      <th></th>\n",
              "      <th>ID</th>\n",
              "      <th>lkey</th>\n",
              "      <th>value_x</th>\n",
              "      <th>Compras</th>\n",
              "      <th>rkey</th>\n",
              "      <th>value_y</th>\n",
              "      <th>_merge</th>\n",
              "    </tr>\n",
              "  </thead>\n",
              "  <tbody>\n",
              "    <tr>\n",
              "      <th>0</th>\n",
              "      <td>123</td>\n",
              "      <td>foo</td>\n",
              "      <td>1.0</td>\n",
              "      <td>0.0</td>\n",
              "      <td>foo</td>\n",
              "      <td>5.0</td>\n",
              "      <td>both</td>\n",
              "    </tr>\n",
              "    <tr>\n",
              "      <th>1</th>\n",
              "      <td>321</td>\n",
              "      <td>bar</td>\n",
              "      <td>2.0</td>\n",
              "      <td>11.0</td>\n",
              "      <td>NaN</td>\n",
              "      <td>NaN</td>\n",
              "      <td>left_only</td>\n",
              "    </tr>\n",
              "    <tr>\n",
              "      <th>2</th>\n",
              "      <td>231</td>\n",
              "      <td>baz</td>\n",
              "      <td>3.0</td>\n",
              "      <td>22.0</td>\n",
              "      <td>baz</td>\n",
              "      <td>7.0</td>\n",
              "      <td>both</td>\n",
              "    </tr>\n",
              "    <tr>\n",
              "      <th>3</th>\n",
              "      <td>213</td>\n",
              "      <td>foo</td>\n",
              "      <td>5.0</td>\n",
              "      <td>33.0</td>\n",
              "      <td>NaN</td>\n",
              "      <td>NaN</td>\n",
              "      <td>left_only</td>\n",
              "    </tr>\n",
              "    <tr>\n",
              "      <th>4</th>\n",
              "      <td>323</td>\n",
              "      <td>NaN</td>\n",
              "      <td>NaN</td>\n",
              "      <td>NaN</td>\n",
              "      <td>bar</td>\n",
              "      <td>6.0</td>\n",
              "      <td>right_only</td>\n",
              "    </tr>\n",
              "    <tr>\n",
              "      <th>5</th>\n",
              "      <td>212</td>\n",
              "      <td>NaN</td>\n",
              "      <td>NaN</td>\n",
              "      <td>NaN</td>\n",
              "      <td>foo</td>\n",
              "      <td>8.0</td>\n",
              "      <td>right_only</td>\n",
              "    </tr>\n",
              "  </tbody>\n",
              "</table>\n",
              "</div>"
            ],
            "text/plain": [
              "    ID lkey  value_x  Compras rkey  value_y      _merge\n",
              "0  123  foo      1.0      0.0  foo      5.0        both\n",
              "1  321  bar      2.0     11.0  NaN      NaN   left_only\n",
              "2  231  baz      3.0     22.0  baz      7.0        both\n",
              "3  213  foo      5.0     33.0  NaN      NaN   left_only\n",
              "4  323  NaN      NaN      NaN  bar      6.0  right_only\n",
              "5  212  NaN      NaN      NaN  foo      8.0  right_only"
            ]
          },
          "metadata": {
            "tags": []
          },
          "execution_count": 26
        }
      ]
    }
  ]
}